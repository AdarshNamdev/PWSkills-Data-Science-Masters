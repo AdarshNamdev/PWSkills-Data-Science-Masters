{
 "cells": [
  {
   "cell_type": "markdown",
   "id": "8d8bb172-136b-4277-a024-b77667b3daef",
   "metadata": {},
   "source": [
    "### Consider the below code to answer further questions:\n",
    "```\n",
    "import numpy as np\n",
    "list_ = [ '1' , '2' , '3' , '4' , '5' ]\n",
    "array_list = np.array(object = list_)\n",
    "```"
   ]
  },
  {
   "cell_type": "code",
   "execution_count": 2,
   "id": "81f31401-b20f-43db-b7b1-ebba1ed7336f",
   "metadata": {},
   "outputs": [
    {
     "data": {
      "text/plain": [
       "array(['1', '2', '3', '4', '5'], dtype='<U1')"
      ]
     },
     "execution_count": 2,
     "metadata": {},
     "output_type": "execute_result"
    }
   ],
   "source": [
    "import numpy as np\n",
    "list_ = [ '1' , '2' , '3' , '4' , '5' ]\n",
    "array_list = np.array(object = list_)\n",
    "array_list"
   ]
  },
  {
   "cell_type": "markdown",
   "id": "87283263-38fa-4ba9-ba14-9878e2bff4df",
   "metadata": {},
   "source": [
    "#### Q1. Is there any difference in the data type of variables `list_` and `array_list`? If there is then write a code to print the data types of both the variables."
   ]
  },
  {
   "cell_type": "markdown",
   "id": "870de8fd-4ffe-4b23-a933-e2cedf8584d7",
   "metadata": {},
   "source": [
    "Yes both the variable `list_` and `array_list` are of different datatypes, they are - `list` and `ndarray` respectively."
   ]
  },
  {
   "cell_type": "code",
   "execution_count": 3,
   "id": "45b737f5-894a-4683-a3f9-0ebf00014a54",
   "metadata": {},
   "outputs": [
    {
     "name": "stdout",
     "output_type": "stream",
     "text": [
      "<class 'list'>\n",
      "<class 'numpy.ndarray'>\n"
     ]
    }
   ],
   "source": [
    "# data type of list_ :\n",
    "print(type(list_))\n",
    "\n",
    "# data type pf array_list :\n",
    "print(type(array_list))"
   ]
  },
  {
   "cell_type": "markdown",
   "id": "dfcca42e-91a1-4a5b-814c-999673a59e58",
   "metadata": {},
   "source": [
    "#### Q2. Write a code to print the data type of each and every element of both the variables `list_` and `array_list`."
   ]
  },
  {
   "cell_type": "code",
   "execution_count": 18,
   "id": "8563c06b-3d08-4058-a20d-398660197561",
   "metadata": {},
   "outputs": [
    {
     "name": "stdout",
     "output_type": "stream",
     "text": [
      "[<class 'str'>, <class 'str'>, <class 'str'>, <class 'str'>, <class 'str'>]\n",
      "[<class 'numpy.str_'>, <class 'numpy.str_'>, <class 'numpy.str_'>, <class 'numpy.str_'>, <class 'numpy.str_'>]\n"
     ]
    }
   ],
   "source": [
    "print([type(i) for i in list_])\n",
    "print([type(i) for i in array_list])"
   ]
  },
  {
   "cell_type": "markdown",
   "id": "46c8a501-1ebe-42be-b3a6-554d4a1cdeb4",
   "metadata": {},
   "source": [
    "#### Q3. Considering the following changes in the variable, array_list:\n",
    "```array_list = np.array(object = list_, dtype = int)```\n",
    "\n",
    "#### Will there be any difference in the data type of the elements present in both the variables, `list_` and `array_list`? If so then print the data types of each and every element present in both the variables, `list_` and `array_list`."
   ]
  },
  {
   "cell_type": "code",
   "execution_count": 20,
   "id": "ee46a028-0363-4d5f-b159-35fa93903d21",
   "metadata": {},
   "outputs": [],
   "source": [
    "array_list = np.array(object = list_, dtype = int)"
   ]
  },
  {
   "cell_type": "markdown",
   "id": "23b41d89-d49e-4ac3-ba1e-430cb4b3d6d2",
   "metadata": {},
   "source": [
    "Yes the datatype of the numpy array `array_list` will change from `string` type to `int64` type."
   ]
  },
  {
   "cell_type": "code",
   "execution_count": 21,
   "id": "b61fb618-7aba-434c-a02b-1e03aa155934",
   "metadata": {},
   "outputs": [
    {
     "name": "stdout",
     "output_type": "stream",
     "text": [
      "[<class 'str'>, <class 'str'>, <class 'str'>, <class 'str'>, <class 'str'>, <class 'str'>]\n",
      "[<class 'numpy.int64'>, <class 'numpy.int64'>, <class 'numpy.int64'>, <class 'numpy.int64'>, <class 'numpy.int64'>, <class 'numpy.int64'>]\n"
     ]
    }
   ],
   "source": [
    "print([type(i) for i in list_])\n",
    "print([type(i) for i in array_list])"
   ]
  },
  {
   "cell_type": "code",
   "execution_count": null,
   "id": "4245c773-7572-4ecc-bf10-a577495c9f98",
   "metadata": {},
   "outputs": [],
   "source": []
  },
  {
   "cell_type": "markdown",
   "id": "3ea37ddf-b70a-40f5-918a-41e9db8d19a4",
   "metadata": {},
   "source": [
    "Consider the below code to answer further questions:\n",
    "```\n",
    "import numpy as np\n",
    "num_list = [ [ 1 , 2 , 3 ] , [ 4 , 5 , 6 ] ]\n",
    "num_array = np.array(object = num_list)\n",
    "```"
   ]
  },
  {
   "cell_type": "markdown",
   "id": "625e2ac0-71e0-4b50-a97c-3fae0d9bf36f",
   "metadata": {},
   "source": [
    "#### Q4. Write a code to find the following characteristics of variable, num_array:<br>(i) shape <br>(ii) size"
   ]
  },
  {
   "cell_type": "code",
   "execution_count": 26,
   "id": "6bb604a1-bbab-4b7b-a572-8ff21c3ea7aa",
   "metadata": {},
   "outputs": [
    {
     "name": "stdout",
     "output_type": "stream",
     "text": [
      "Shape:  (2, 3)\n",
      "Size :  6\n"
     ]
    }
   ],
   "source": [
    "import numpy as np\n",
    "num_list = [ [ 1 , 2 , 3 ]\n",
    "            ,[ 4 , 5 , 6 ] ]\n",
    "\n",
    "num_array = np.array(object = num_list)\n",
    "\n",
    "print(\"Shape: \", num_array.shape)\n",
    "print(\"Size : \", num_array.size)"
   ]
  },
  {
   "cell_type": "markdown",
   "id": "7310389c-d953-488e-9c57-353fd3c4e852",
   "metadata": {},
   "source": [
    "Q5. Write a code to create numpy array of 3*3 matrix containing zeros only, using a numpy array\n",
    "creation function.\n",
    "\n",
    "[Hint: The size of the array will be 9 and the shape will be (3,3).]"
   ]
  },
  {
   "cell_type": "code",
   "execution_count": 28,
   "id": "c8764cc3-ec53-4dc8-8ea3-7be464b3c87d",
   "metadata": {},
   "outputs": [
    {
     "data": {
      "text/plain": [
       "array([[0, 0, 0],\n",
       "       [0, 0, 0],\n",
       "       [0, 0, 0]])"
      ]
     },
     "execution_count": 28,
     "metadata": {},
     "output_type": "execute_result"
    }
   ],
   "source": [
    "np.zeros(shape = (3,3), dtype = np.int64)"
   ]
  },
  {
   "cell_type": "markdown",
   "id": "106ea0f4-25b0-4f4f-9957-027c05974307",
   "metadata": {},
   "source": [
    "Q6. Create an identity matrix of shape (5,5) using numpy functions?\n",
    "\n",
    "[Hint: An identity matrix is a matrix containing 1 diagonally and other elements will be 0.]"
   ]
  },
  {
   "cell_type": "code",
   "execution_count": 33,
   "id": "7d5394d1-bba3-49fa-b841-0b1890178d36",
   "metadata": {},
   "outputs": [
    {
     "data": {
      "text/plain": [
       "array([[1, 0, 0, 0, 0],\n",
       "       [0, 1, 0, 0, 0],\n",
       "       [0, 0, 1, 0, 0],\n",
       "       [0, 0, 0, 1, 0],\n",
       "       [0, 0, 0, 0, 1]])"
      ]
     },
     "execution_count": 33,
     "metadata": {},
     "output_type": "execute_result"
    }
   ],
   "source": [
    "np.eye(5,5, dtype = int)"
   ]
  },
  {
   "cell_type": "code",
   "execution_count": null,
   "id": "b3ffef9d-c6b5-4593-9d16-7f1c929267a4",
   "metadata": {},
   "outputs": [],
   "source": []
  },
  {
   "cell_type": "code",
   "execution_count": null,
   "id": "1dbb3a24-0b22-426a-a19d-52bc1732af64",
   "metadata": {},
   "outputs": [],
   "source": []
  },
  {
   "cell_type": "code",
   "execution_count": null,
   "id": "d0e37d3b-d648-4975-beb1-5e8b84dae2bc",
   "metadata": {},
   "outputs": [],
   "source": []
  },
  {
   "cell_type": "code",
   "execution_count": null,
   "id": "6854e17e-3ff4-4c30-a2b8-1d03a3437a69",
   "metadata": {},
   "outputs": [],
   "source": []
  },
  {
   "cell_type": "code",
   "execution_count": null,
   "id": "81f8e543-765c-424d-a4b0-97c459c3a238",
   "metadata": {},
   "outputs": [],
   "source": []
  }
 ],
 "metadata": {
  "kernelspec": {
   "display_name": "Python 3 (ipykernel)",
   "language": "python",
   "name": "python3"
  },
  "language_info": {
   "codemirror_mode": {
    "name": "ipython",
    "version": 3
   },
   "file_extension": ".py",
   "mimetype": "text/x-python",
   "name": "python",
   "nbconvert_exporter": "python",
   "pygments_lexer": "ipython3",
   "version": "3.9.12"
  }
 },
 "nbformat": 4,
 "nbformat_minor": 5
}
