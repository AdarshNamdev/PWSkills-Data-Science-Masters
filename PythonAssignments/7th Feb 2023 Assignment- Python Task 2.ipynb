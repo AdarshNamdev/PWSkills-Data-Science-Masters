{
 "cells": [
  {
   "cell_type": "markdown",
   "id": "0a9a4224",
   "metadata": {},
   "source": [
    "### Q1. You are writing code for a company. The requirement of the company is that you create a python function that will check whether the password entered by the user is correct or not. The function should take the password as input and return the string “Valid Password” if the entered password follows the below-given password guidelines else it should return “Invalid Password”.\n",
    "\n",
    "**Note:** \n",
    "1. The Password should contain at least two uppercase letters and at least two lowercase letters.\n",
    "2. The Password should contain at least a number and three special characters.\n",
    "3. The length of the password should be 10 characters long."
   ]
  },
  {
   "cell_type": "code",
   "execution_count": 5,
   "id": "5da19b1a",
   "metadata": {},
   "outputs": [
    {
     "name": "stdout",
     "output_type": "stream",
     "text": [
      "Invalid Password\n",
      "Valid Password\n"
     ]
    }
   ],
   "source": [
    "def pwd_validator(user_pwd):\n",
    "    user_pwd = [i for i in user_pwd]\n",
    "    if len(user_pwd) < 10:\n",
    "        return \"Invalid Password\"\n",
    "    \n",
    "    else:\n",
    "        upper_case_count = 0\n",
    "        lower_case_count = 0\n",
    "        sp_case_count = 0\n",
    "        number_count = 0\n",
    "        \n",
    "        for char in user_pwd:\n",
    "            if str.isupper(char):\n",
    "                upper_case_count += 1\n",
    "                \n",
    "            elif str.islower(char):\n",
    "                lower_case_count += 1\n",
    "                \n",
    "            elif str.isnumeric(char):\n",
    "                number_count += 1\n",
    "                \n",
    "            elif str.isalnum(char) is False:\n",
    "                sp_case_count += 1\n",
    "                \n",
    "        if upper_case_count >= 2 and lower_case_count >= 2 and number_count >= 1 and sp_case_count >= 3:\n",
    "#             print(upper_case_count)\n",
    "#             print(lower_case_count)\n",
    "#             print(number_count)\n",
    "#             print(sp_case_count)\n",
    "            \n",
    "            return \"Valid Password\"\n",
    "        \n",
    "        else:\n",
    "#             print(upper_case_count)\n",
    "#             print(lower_case_count)\n",
    "#             print(number_count)\n",
    "#             print(sp_case_count)\n",
    "            return \"Invalid Password\"\n",
    "        \n",
    "        \n",
    "print(pwd_validator(\"WElcome-!@#\"))\n",
    "print(pwd_validator(\"HeL!oW@rld#123\"))"
   ]
  },
  {
   "cell_type": "markdown",
   "id": "64d2093c",
   "metadata": {},
   "source": [
    "### Q2. Solve the below-given questions using at least one of the following:\n",
    "1. Lambda function\n",
    "2. Filter function\n",
    "3. Map function\n",
    "4. List Comprehension"
   ]
  },
  {
   "cell_type": "markdown",
   "id": "689913b0",
   "metadata": {},
   "source": [
    "### check if the string starts with a particular letter."
   ]
  },
  {
   "cell_type": "code",
   "execution_count": 6,
   "id": "8d14a157",
   "metadata": {},
   "outputs": [
    {
     "name": "stdout",
     "output_type": "stream",
     "text": [
      "Enter your favorite food: Pizza\n",
      "Is food name starting with letter 'P' ?  True\n",
      "\n",
      "Enter your favorite animal: Horse\n",
      "Is animal name starting with letter 'P'?  False\n"
     ]
    }
   ],
   "source": [
    "# lambda function\n",
    "\n",
    "f1 = lambda x: x[0] in ('P', 'p')\n",
    "\n",
    "string1 = input(\"Enter your favorite food: \")\n",
    "print(\"Is food name starting with letter 'P' ? \", f1(string1))\n",
    "print(\"\\r\")\n",
    "string2 = input(\"Enter your favorite animal: \")\n",
    "print(\"Is animal name starting with letter 'P'? \",f1(string2))"
   ]
  },
  {
   "cell_type": "code",
   "execution_count": 7,
   "id": "1eff68d3",
   "metadata": {},
   "outputs": [
    {
     "name": "stdout",
     "output_type": "stream",
     "text": [
      "Enter your favorite food: Porridge\n",
      "Is food name starting with letter 'P' ?  True\n",
      "\n",
      "Enter your favorite animal: Sparrow\n",
      "Is animal name starting with letter 'P'?  False\n"
     ]
    }
   ],
   "source": [
    "# map function\n",
    "\n",
    "string1 = input(\"Enter your favorite food: \")\n",
    "check = list(map(f1, string1[0]))\n",
    "\n",
    "print(\"Is food name starting with letter 'P' ? \", check[0])\n",
    "\n",
    "print(\"\\r\")\n",
    "\n",
    "string2 = input(\"Enter your favorite animal: \")\n",
    "check = list(map(f1, string2[0]))\n",
    "print(\"Is animal name starting with letter 'P'? \",check[0])"
   ]
  },
  {
   "cell_type": "markdown",
   "id": "c72c8961",
   "metadata": {},
   "source": [
    "### Check if the string is numeric"
   ]
  },
  {
   "cell_type": "code",
   "execution_count": 15,
   "id": "b7d36988",
   "metadata": {},
   "outputs": [
    {
     "name": "stdout",
     "output_type": "stream",
     "text": [
      "Enter your text of choice: 458785\n",
      "Is string numerics?  True\n"
     ]
    }
   ],
   "source": [
    "# map\n",
    "\n",
    "string3 = input(\"Enter your text of choice: \")\n",
    "\n",
    "check = list(map(lambda x: x.isnumeric(), string3))\n",
    "print(\"Is string numerics? \", all(check))\n",
    "\n"
   ]
  },
  {
   "cell_type": "code",
   "execution_count": 16,
   "id": "79e486ff",
   "metadata": {},
   "outputs": [
    {
     "name": "stdout",
     "output_type": "stream",
     "text": [
      "Enter your text of choice: Nitro7\n",
      "Is string numerics?  False\n"
     ]
    }
   ],
   "source": [
    "# list comprehension\n",
    "\n",
    "string4 = input(\"Enter your text of choice: \")\n",
    "\n",
    "checks = [i.isnumeric() for i in string4]\n",
    "#print(checks)\n",
    "print(\"Is string numerics? \", all(checks))"
   ]
  },
  {
   "cell_type": "markdown",
   "id": "16ee93d6",
   "metadata": {},
   "source": [
    "### Sort a list of tuples having fruit names and their quantity. [(\"mango\",99),(\"orange\",80), (\"grapes\", 1000)]"
   ]
  },
  {
   "cell_type": "code",
   "execution_count": 17,
   "id": "226af808",
   "metadata": {},
   "outputs": [
    {
     "name": "stdout",
     "output_type": "stream",
     "text": [
      "sorting need to happen on 'Fruit name':  [('grapes', 1000), ('mango', 99), ('orange', 80)]\n",
      "\r\n",
      "sorting need to happen on 'Fruit quantity':  [('orange', 80), ('mango', 99), ('grapes', 1000)]\n"
     ]
    }
   ],
   "source": [
    "\"\"\"\n",
    "using lambda function for sorting\n",
    "\"\"\"\n",
    "\n",
    "somelst = [(\"mango\",99),(\"orange\",80), (\"grapes\", 1000)]\n",
    "\n",
    "# if the sorting need to happen on 'Fruit name'\n",
    "\n",
    "sorted_based_on_fruit_name = sorted(somelst, key = lambda x:x[0])\n",
    "print(\"sorting need to happen on 'Fruit name': \", sorted_based_on_fruit_name)\n",
    "print(\"\\r\")\n",
    "\n",
    "# if the sorting need to happen on 'Fruit quantity'\n",
    "\n",
    "sorted_based_on_quantity = sorted(somelst, key = lambda x:x[1])\n",
    "print(\"sorting need to happen on 'Fruit quantity': \", sorted_based_on_quantity)"
   ]
  },
  {
   "cell_type": "markdown",
   "id": "8d33dac0",
   "metadata": {},
   "source": [
    "### Find the squares of numbers from 1 to 10"
   ]
  },
  {
   "cell_type": "code",
   "execution_count": 19,
   "id": "ebd82760",
   "metadata": {},
   "outputs": [
    {
     "data": {
      "text/plain": [
       "[1, 4, 9, 16, 25, 36, 49, 64, 81, 100]"
      ]
     },
     "execution_count": 19,
     "metadata": {},
     "output_type": "execute_result"
    }
   ],
   "source": [
    "# list comprehension\n",
    "\n",
    "sqrs_one2ten = [i**2 for i in range(1,11)]\n",
    "sqrs_one2ten"
   ]
  },
  {
   "cell_type": "markdown",
   "id": "f7f1d819",
   "metadata": {},
   "source": [
    "### Find the cube root of numbers from 1 to 10"
   ]
  },
  {
   "cell_type": "code",
   "execution_count": 27,
   "id": "bb3bbfe2",
   "metadata": {},
   "outputs": [
    {
     "name": "stdout",
     "output_type": "stream",
     "text": [
      "Cube root of all the number from 1 to 10 are: \n",
      " [1.0, 1.2599210498948732, 1.4422495703074083, 1.5874010519681994, 1.7099759466766968, 1.8171205928321397, 1.912931182772389, 2.0, 2.080083823051904, 2.154434690031884]\n"
     ]
    }
   ],
   "source": [
    "# map function\n",
    "\n",
    "cbrt = lambda x: x**(1/3)\n",
    "\n",
    "cube_roots = list(map(cbrt, range(1,11)))\n",
    "\n",
    "print(\"Cube root of all the number from 1 to 10 are: \\n\",cube_roots)"
   ]
  },
  {
   "cell_type": "code",
   "execution_count": 38,
   "id": "f6d28b83",
   "metadata": {},
   "outputs": [
    {
     "name": "stdout",
     "output_type": "stream",
     "text": [
      "Enter number: 78\n"
     ]
    },
    {
     "data": {
      "text/plain": [
       "'78 is even'"
      ]
     },
     "execution_count": 38,
     "metadata": {},
     "output_type": "execute_result"
    }
   ],
   "source": [
    "# lamda function\n",
    "\n",
    "mynum = int(input(\"Enter number: \"))\n",
    "tester = lambda x: f\"{x} is even\" if x%2 == 0 else f\"{x} not even\"\n",
    "\n",
    "tester(mynum)"
   ]
  },
  {
   "cell_type": "markdown",
   "id": "cdabdd5e",
   "metadata": {},
   "source": [
    "### Filter odd numbers from the given list. [1,2,3,4,5,6,7,8,9,10]"
   ]
  },
  {
   "cell_type": "code",
   "execution_count": 41,
   "id": "41e5b4e9",
   "metadata": {},
   "outputs": [
    {
     "data": {
      "text/plain": [
       "[1, 3, 5, 7, 9]"
      ]
     },
     "execution_count": 41,
     "metadata": {},
     "output_type": "execute_result"
    }
   ],
   "source": [
    "# filter function\n",
    "\n",
    "numbers = [1,2,3,4,5,6,7,8,9,10]\n",
    "\n",
    "odd_nums_filter = list(filter(lambda x: x%2 != 0, numbers))\n",
    "odd_nums_filter"
   ]
  },
  {
   "cell_type": "code",
   "execution_count": 45,
   "id": "6c837032",
   "metadata": {},
   "outputs": [
    {
     "data": {
      "text/plain": [
       "[1, 3, 5, 7, 9]"
      ]
     },
     "execution_count": 45,
     "metadata": {},
     "output_type": "execute_result"
    }
   ],
   "source": [
    "# only lambda functions \n",
    "\n",
    "xx = lambda x: x if x%2 != 0 else None\n",
    "\n",
    "odd_nums_lambda = []\n",
    "for i in numbers:\n",
    "    if xx(i) is None:\n",
    "        continue\n",
    "    \n",
    "    else:\n",
    "        odd_nums_lambda.append(xx(i))\n",
    "    \n",
    "odd_nums_lambda"
   ]
  },
  {
   "cell_type": "code",
   "execution_count": 46,
   "id": "38acd548",
   "metadata": {},
   "outputs": [
    {
     "data": {
      "text/plain": [
       "[1, 3, 5, 7, 9]"
      ]
     },
     "execution_count": 46,
     "metadata": {},
     "output_type": "execute_result"
    }
   ],
   "source": [
    "# list comprehension\n",
    "\n",
    "odd_nums_lcomp = [i for i in numbers if i%2 != 0]\n",
    "odd_nums_lcomp"
   ]
  },
  {
   "cell_type": "markdown",
   "id": "abc317ae",
   "metadata": {},
   "source": [
    "### Sort a list of integers into positive and negative integers lists. [1,2,3,4,5,6,-1,-2,-3,-4,-5,0]"
   ]
  },
  {
   "cell_type": "code",
   "execution_count": 48,
   "id": "d8ccfb8d",
   "metadata": {},
   "outputs": [
    {
     "name": "stdout",
     "output_type": "stream",
     "text": [
      "sorted list with only positive numbers:  [1, 2, 3, 4, 5, 6]\n",
      "sorted list with only negative numbers:  [-5, -4, -3, -2, -1]\n"
     ]
    }
   ],
   "source": [
    "pos_neg_nums = [1,2,3,4,5,6,-1,-2,-3,-4,-5,0]\n",
    "\n",
    "only_pos = sorted(list(filter(lambda x: x>0, pos_neg_nums)))\n",
    "only_neg = sorted(list(filter(lambda x: x<0, pos_neg_nums)))\n",
    "\n",
    "print(\"sorted list with only positive numbers: \", only_pos)\n",
    "print(\"sorted list with only negative numbers: \", only_neg)\n"
   ]
  },
  {
   "cell_type": "code",
   "execution_count": 49,
   "id": "26eb0015",
   "metadata": {},
   "outputs": [
    {
     "name": "stdout",
     "output_type": "stream",
     "text": [
      "sorted list with only positive numbers:  [1, 2, 3, 4, 5, 6]\n",
      "sorted list with only negative numbers:  [-5, -4, -3, -2, -1]\n"
     ]
    }
   ],
   "source": [
    "# with list comprehension\n",
    "\n",
    "only_pos_lcomp = sorted([i for i in pos_neg_nums if i>0])\n",
    "only_neg_lcomp = sorted([i for i in pos_neg_nums if i<0])\n",
    "\n",
    "print(\"sorted list with only positive numbers: \", only_pos)\n",
    "print(\"sorted list with only negative numbers: \", only_neg)\n"
   ]
  }
 ],
 "metadata": {
  "kernelspec": {
   "display_name": "Python 3 (ipykernel)",
   "language": "python",
   "name": "python3"
  },
  "language_info": {
   "codemirror_mode": {
    "name": "ipython",
    "version": 3
   },
   "file_extension": ".py",
   "mimetype": "text/x-python",
   "name": "python",
   "nbconvert_exporter": "python",
   "pygments_lexer": "ipython3",
   "version": "3.9.12"
  }
 },
 "nbformat": 4,
 "nbformat_minor": 5
}
