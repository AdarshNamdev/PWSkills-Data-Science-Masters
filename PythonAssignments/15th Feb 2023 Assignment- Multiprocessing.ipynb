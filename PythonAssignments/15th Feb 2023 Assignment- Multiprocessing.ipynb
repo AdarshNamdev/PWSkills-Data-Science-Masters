{
 "cells": [
  {
   "cell_type": "markdown",
   "id": "7def0c5a",
   "metadata": {},
   "source": [
    "### Q1. What is multiprocessing in python? Why is it useful?"
   ]
  },
  {
   "cell_type": "markdown",
   "id": "10820865",
   "metadata": {},
   "source": [
    "Multprocessing is way by means of which one or more than one program can be run simultaneous on different cores of the CPU. Using multiprocessing we can utilized different cores of the CPU to employ them on a compute intensive task inorder to reduce the run time of the program. In case of python we can use multiprocessing for both I/O bound and CPU bound task as well."
   ]
  },
  {
   "cell_type": "markdown",
   "id": "25a99d33",
   "metadata": {},
   "source": [
    "### Q2. What are the differences between multiprocessing and multithreading?"
   ]
  },
  {
   "cell_type": "markdown",
   "id": "3ef10683",
   "metadata": {},
   "source": [
    "<font color = 'blue'>__Processes vs. Threads:__</font>\n",
    "\n",
    "__Multiprocessing:__ In multiprocessing, multiple independent processes run concurrently. Each process has its memory space and resources. Processes do not share memory by default, which makes them suitable for tasks that require isolation and parallelism.\n",
    "\n",
    "__Multithreading:__ Multithreading involves multiple threads of execution within a single process. Threads share the same memory space and resources of the parent process. They are suitable for tasks that benefit from shared memory and communication.\n",
    "\n",
    "\n",
    "<font color = 'blue'>__Isolation:__</font>\n",
    "\n",
    "__Multiprocessing:__ Processes are isolated from each other, which means that one process's errors or crashes do not typically affect others. This isolation provides greater stability but may require inter-process communication mechanisms for collaboration.\n",
    "\n",
    "__Multithreading:__ Threads within the same process share memory and resources. This shared memory can lead to data synchronization and concurrency issues, such as race conditions and deadlocks, which need to be carefully managed.\n",
    "\n",
    "\n",
    "<font color = 'blue'>__Communication:__</font>\n",
    "\n",
    "__Multiprocessing:__ Inter-process communication (IPC) is required for processes to communicate or share data. IPC mechanisms can include pipes, queues, shared memory, and sockets.\n",
    "\n",
    "__Multithreading:__ Threads within the same process can communicate directly through shared memory, variables, or data structures. This can simplify data sharing but requires careful synchronization to avoid issues.\n",
    "\n",
    "\n",
    "<font color = 'blue'>__Resource Overhead:__</font>\n",
    "\n",
    "__Multiprocessing:__ Each process consumes its memory and resources, which can lead to higher resource overhead compared to multithreading. Starting and managing processes can also be more resource-intensive.\n",
    "\n",
    "__Multithreading:__ Threads within the same process share resources, leading to lower resource overhead. Creating and managing threads is typically more lightweight than processes.\n",
    "\n",
    "\n",
    "<font color = 'blue'>__Parallelism vs. Concurrency:__</font>\n",
    "\n",
    "__Multiprocessing:__ Multiprocessing is suitable for achieving true parallelism, as processes run on separate CPU cores simultaneously. It is ideal for CPU-bound tasks and can take full advantage of multi-core processors.\n",
    "\n",
    "__Multithreading:__ Multithreading provides concurrency, allowing multiple threads to execute in an interleaved manner. While it can take advantage of multi-core processors for parallelism to some extent, it may not achieve the same level of parallelism as multiprocessing, especially for CPU-bound tasks"
   ]
  },
  {
   "cell_type": "markdown",
   "id": "43756686",
   "metadata": {},
   "source": [
    "### Q3. Write a python code to create a process using the multiprocessing module.\n"
   ]
  },
  {
   "cell_type": "code",
   "execution_count": 10,
   "id": "4717b328",
   "metadata": {},
   "outputs": [],
   "source": [
    "import requests\n",
    "import multiprocessing\n",
    "import os\n",
    "\n",
    "def download_img(imgurl, filename, target_dir):\n",
    "    \"\"\"\n",
    "    This function is going to download images from the given url in parallel, i.e using Multiprocessing.\n",
    "    Every process that will run will download one image.\n",
    "    \"\"\"\n",
    "    repsonse_obj = requests.get(url=imgurl)\n",
    "    with open(f\"{target_dir}/{filename}.jpg\", 'wb') as fh:\n",
    "        fh.write(repsonse_obj.content)\n",
    "\n",
    "    print(f\"image - {filename}.jpg downloaded\")\n",
    "\n",
    "\n",
    "if __name__ == '__main__':\n",
    "    landing_dir = \"D:\\PWSkills_DS_Masters\\DownloadImageUsingMultiproc\"\n",
    "    img_url = \"https://picsum.photos/2000/3000\"\n",
    "    if not os.path.exists(landing_dir):\n",
    "        os.mkdir(landing_dir)\n",
    "\n",
    "    else:\n",
    "        pass\n",
    "    \n",
    "    list_of_processes = []\n",
    "    for i in range(0,5):\n",
    "        process = multiprocessing.Process(target = download_img, args = [img_url, f\"img_{i}\", landing_dir])\n",
    "        list_of_processes.append(process)\n",
    "    \n",
    "    for proc in list_of_processes:\n",
    "        proc.start()"
   ]
  },
  {
   "cell_type": "markdown",
   "id": "f2c95b1b",
   "metadata": {},
   "source": [
    "### Q4. What is a multiprocessing `Pool` in python? Why is it used?"
   ]
  },
  {
   "cell_type": "markdown",
   "id": "349f85b9",
   "metadata": {},
   "source": [
    "In the `Process` class of the Multithreading module we have to create process(es) manually to overcome that overhead there is another class called `Pool` which faciliate us by creating multiple processes at once and there is no need for manul management."
   ]
  },
  {
   "cell_type": "markdown",
   "id": "d4b0fdfb",
   "metadata": {},
   "source": [
    "### Q5. How can we create a pool of worker processes in python using the multiprocessing module?"
   ]
  },
  {
   "cell_type": "code",
   "execution_count": 4,
   "id": "3a018f2d",
   "metadata": {},
   "outputs": [
    {
     "ename": "NameError",
     "evalue": "name 'download_img' is not defined",
     "output_type": "error",
     "traceback": [
      "\u001b[1;31m---------------------------------------------------------------------------\u001b[0m",
      "\u001b[1;31mNameError\u001b[0m                                 Traceback (most recent call last)",
      "Input \u001b[1;32mIn [4]\u001b[0m, in \u001b[0;36m<cell line: 6>\u001b[1;34m()\u001b[0m\n\u001b[0;32m      4\u001b[0m pool \u001b[38;5;241m=\u001b[39m Pool(processes\u001b[38;5;241m=\u001b[39m \u001b[38;5;241m5\u001b[39m)\n\u001b[0;32m      6\u001b[0m \u001b[38;5;28;01mfor\u001b[39;00m img \u001b[38;5;129;01min\u001b[39;00m \u001b[38;5;28mrange\u001b[39m(\u001b[38;5;241m0\u001b[39m, \u001b[38;5;241m10\u001b[39m):\n\u001b[1;32m----> 7\u001b[0m     pool\u001b[38;5;241m.\u001b[39mmap(func\u001b[38;5;241m=\u001b[39m \u001b[43mdownload_img\u001b[49m, iterable\u001b[38;5;241m=\u001b[39m [img_url, \u001b[38;5;124mf\u001b[39m\u001b[38;5;124m\"\u001b[39m\u001b[38;5;124mimgage_\u001b[39m\u001b[38;5;132;01m{\u001b[39;00mi\u001b[38;5;132;01m}\u001b[39;00m\u001b[38;5;124m\"\u001b[39m, \u001b[38;5;28mdir\u001b[39m])\n",
      "\u001b[1;31mNameError\u001b[0m: name 'download_img' is not defined"
     ]
    }
   ],
   "source": [
    "from multiprocessing import Pool\n",
    "\n",
    "if __name__ == '__main__':\n",
    "    pool = Pool(processes= 5)\n",
    "\n",
    "    for img in range(0, 10):\n",
    "        pool.map(func= download_img, iterable= [img_url, f\"imgage_{i}\", dir])"
   ]
  },
  {
   "cell_type": "code",
   "execution_count": null,
   "id": "82c29e6f",
   "metadata": {},
   "outputs": [],
   "source": []
  },
  {
   "cell_type": "code",
   "execution_count": null,
   "id": "ea91cf29",
   "metadata": {},
   "outputs": [],
   "source": []
  },
  {
   "cell_type": "code",
   "execution_count": null,
   "id": "05184241",
   "metadata": {},
   "outputs": [],
   "source": []
  }
 ],
 "metadata": {
  "kernelspec": {
   "display_name": "Python 3 (ipykernel)",
   "language": "python",
   "name": "python3"
  },
  "language_info": {
   "codemirror_mode": {
    "name": "ipython",
    "version": 3
   },
   "file_extension": ".py",
   "mimetype": "text/x-python",
   "name": "python",
   "nbconvert_exporter": "python",
   "pygments_lexer": "ipython3",
   "version": "3.9.12"
  }
 },
 "nbformat": 4,
 "nbformat_minor": 5
}
