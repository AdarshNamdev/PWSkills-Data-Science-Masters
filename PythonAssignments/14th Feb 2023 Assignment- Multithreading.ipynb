{
 "cells": [
  {
   "cell_type": "markdown",
   "id": "e3410b4a",
   "metadata": {},
   "source": [
    "#### Q1.) What is multithreading in python ? Why is it used? Name the module used to handle threads in python."
   ]
  },
  {
   "cell_type": "markdown",
   "id": "485a380a",
   "metadata": {},
   "source": [
    "Multithreading is a way of executing part of a python program on different cores of the cpu at the same time.\n",
    "Situtation when we have a I/O based use case, then multithreading can be a good choice.\n",
    "\n",
    "The threading module in python is called `threading`"
   ]
  },
  {
   "cell_type": "markdown",
   "id": "e24cda67",
   "metadata": {},
   "source": [
    "### Q1.) Why threading module is use? Write the use of the following functions?\n",
    "    a.) activeCount()\n",
    "    b.) currentThread()\n",
    "    c.) enumerate()"
   ]
  },
  {
   "cell_type": "markdown",
   "id": "91d1648d",
   "metadata": {},
   "source": [
    "a.) the method `activeCount()` is used for getting the number of threads currently living\n",
    "\n",
    "b.) the method `currentThread()` is used to get the current working thread thats executing the piece of code at present.\n",
    "\n",
    "c.) `enumerate()` is python built in function that accepts an iterator and return an enumerte object. When this enumerte object is iterated over then we can obtain the elements along with its respective index."
   ]
  },
  {
   "cell_type": "code",
   "execution_count": 3,
   "id": "cde4e6b5",
   "metadata": {},
   "outputs": [
    {
     "name": "stdout",
     "output_type": "stream",
     "text": [
      "[<Thread(Thread-6, initial)>, <Thread(Thread-7, initial)>, <Thread(Thread-8, initial)>, <Thread(Thread-9, initial)>]\n",
      "Active thread count:  6\n",
      "\n",
      "\n",
      "**************************\n",
      "Current thread ->  <_MainThread(MainThread, started 14988)>\n",
      "**************************\n",
      "11 x 1 = 11\n",
      "11 x 2 = 22\n",
      "11 x 3 = 33\n",
      "11 x 4 = 44\n",
      "11 x 5 = 55\n",
      "11 x 6 = 66\n",
      "11 x 7 = 77\n",
      "11 x 8 = 88\n",
      "11 x 9 = 99\n",
      "11 x 10 = 110\n",
      "**************************\n",
      "Current thread ->  <_MainThread(MainThread, started 14988)>\n",
      "**************************\n",
      "22 x 1 = 22\n",
      "22 x 2 = 44\n",
      "22 x 3 = 66\n",
      "22 x 4 = 88\n",
      "22 x 5 = 110\n",
      "22 x 6 = 132\n",
      "22 x 7 = 154\n",
      "22 x 8 = 176\n",
      "22 x 9 = 198\n",
      "22 x 10 = 220\n",
      "**************************\n",
      "Current thread ->  <_MainThread(MainThread, started 14988)>\n",
      "**************************\n",
      "33 x 1 = 33\n",
      "33 x 2 = 66\n",
      "33 x 3 = 99\n",
      "33 x 4 = 132\n",
      "33 x 5 = 165\n",
      "33 x 6 = 198\n",
      "33 x 7 = 231\n",
      "33 x 8 = 264\n",
      "33 x 9 = 297\n",
      "33 x 10 = 330\n",
      "**************************\n",
      "Current thread ->  <_MainThread(MainThread, started 14988)>\n",
      "**************************\n",
      "44 x 1 = 44\n",
      "44 x 2 = 88\n",
      "44 x 3 = 132\n",
      "44 x 4 = 176\n",
      "44 x 5 = 220\n",
      "44 x 6 = 264\n",
      "44 x 7 = 308\n",
      "44 x 8 = 352\n",
      "44 x 9 = 396\n",
      "44 x 10 = 440\n",
      "\n",
      "********************** ENUMERATE ***********************\n",
      "(0, <Thread(Thread-6, stopped 14792)>)\n",
      "(1, <Thread(Thread-7, stopped 1492)>)\n",
      "(2, <Thread(Thread-8, stopped 7360)>)\n",
      "(3, <Thread(Thread-9, stopped 12276)>)\n"
     ]
    }
   ],
   "source": [
    "import threading\n",
    "\n",
    "def table(number):\n",
    "    for i in range(1, 11):\n",
    "        print(\"{} x {} = {}\".format(number, i, number * i))\n",
    "\n",
    "\n",
    "threads = [threading.Thread(target = table, args = [num]) for num in [11, 22, 33, 44]]\n",
    "\n",
    "print(threads)\n",
    "\n",
    "# use of active_count() function\n",
    "\n",
    "print(\"Active thread count: \", threading.active_count())\n",
    "print(\"\\n\")\n",
    "\n",
    "# use of current_thread() function:\n",
    "\n",
    "for aThread in threads:\n",
    "    print(\"**************************\")\n",
    "    print(\"Current thread -> \", threading.current_thread())\n",
    "    print(\"**************************\")\n",
    "    aThread.start()\n",
    "    aThread.join()\n",
    "\n",
    "\n",
    "# use of enumerate() funtion \n",
    "print(\"\\n********************** ENUMERATE ***********************\")\n",
    "for _ in enumerate(threads):\n",
    "    print(_)"
   ]
  },
  {
   "cell_type": "code",
   "execution_count": 24,
   "id": "5a4661b3",
   "metadata": {},
   "outputs": [
    {
     "name": "stdout",
     "output_type": "stream",
     "text": [
      "(0, 33)\n",
      "(1, 11)\n",
      "(2, 22)\n"
     ]
    }
   ],
   "source": [
    "enumerate()"
   ]
  },
  {
   "cell_type": "markdown",
   "id": "f127ee2a",
   "metadata": {},
   "source": [
    "#### Q3.) Explain the following functions:\n",
    "    a.) run()\n",
    "    b.) start()\n",
    "    c.) join()\n",
    "    d.) isAlive()"
   ]
  },
  {
   "cell_type": "markdown",
   "id": "095c74a4",
   "metadata": {},
   "source": [
    "`run()`\n",
    "\n",
    "The `run()` method runs or executes the function that is passed to the `target=` argument of the `Thread( )` method, by taking the arguments from the `args=` parameter. The `run()` method gets executed as soon as the `start()` method is called.\n",
    "\n",
    "\n",
    "`start()`\n",
    "THe `start()` method is to initiate or make a particular thread to start execution!\n",
    "\n",
    "\n",
    "`join()`\n",
    "When mutliple thread run at the same time then inorder to make one thread finish its execution completely `join()` method is used.\n",
    "\n",
    "`isAlive()`\n",
    "is used to check if a thread is alive or not."
   ]
  },
  {
   "cell_type": "markdown",
   "id": "3418128a",
   "metadata": {},
   "source": [
    "### Q4.) Write a python program to create two threads. Thread one must print the the list of squares and thread  two must print the list of cubes"
   ]
  },
  {
   "cell_type": "code",
   "execution_count": 16,
   "id": "513d8692",
   "metadata": {},
   "outputs": [
    {
     "name": "stdout",
     "output_type": "stream",
     "text": [
      "List of Sqaures:  [4, 16, 36]\n",
      "List of Cubes:  [8, 64, 216]\n"
     ]
    }
   ],
   "source": [
    "import threading\n",
    "\n",
    "list_of_sqs = []\n",
    "list_of_cubes = []\n",
    "\n",
    "def squares(number):\n",
    "    list_of_sqs.append(number*number)\n",
    "\n",
    "def cubes(number):\n",
    "    list_of_cubes.append(number**3)\n",
    "\n",
    "threads_sqs = [threading.Thread(target = squares, args = (i,)) for i in [2,4,6]]\n",
    "threads_cubes = [threading.Thread(target = cubes, args = (j,)) for j in [2,4,6]]\n",
    "\n",
    "for sqThread in threads_sqs:\n",
    "    sqThread.start()\n",
    "\n",
    "for cbThread in threads_cubes:\n",
    "    cbThread.start()\n",
    "\n",
    "\n",
    "print(\"List of Sqaures: \", list_of_sqs)\n",
    "print(\"List of Cubes: \", list_of_cubes)"
   ]
  },
  {
   "cell_type": "markdown",
   "id": "f9a9cb1e",
   "metadata": {},
   "source": [
    "### Q.5) State advantages and disadvantages of Multithreading ."
   ]
  },
  {
   "cell_type": "markdown",
   "id": "c7f438c4",
   "metadata": {},
   "source": [
    "<font color = 'apple green'>__ADVANTAGES:__</font>\n",
    "\n",
    "__Better Resource Utilization:__ Multithreading can make better use of multi-core processors by distributing tasks among multiple threads. This can lead to improved performance in CPU-bound tasks when properly implemented.\n",
    "\n",
    "__Simplified Design for I/O Bound Tasks:__ For I/O bound tasks (e.g., reading/writing files, making API calls), multithreading can be used to perform tasks simultaneously without blocking other operations, leading to better efficiency.\n",
    "\n",
    "__Shared Memory:__ Threads in Python share the same memory space, allowing them to easily exchange data and communicate with each other without the need for complex inter-process communication mechanisms.\n",
    "\n",
    "\n",
    "<font color = 'apple green'>__DISADVANTAGES:__ </font>\n",
    "\n",
    "__Global Interpreter Lock (GIL):__ Python has a Global Interpreter Lock (GIL), which means that only one thread can execute Python bytecode at a time. This limitation can significantly impact the performance of CPU-bound tasks since multiple threads cannot utilize multiple CPU cores simultaneously. Therefore, multithreading may not lead to a significant speedup in such cases.\n",
    "\n",
    "__Debugging and Testing:__ Multithreaded applications can be more difficult to debug and test due to their non-deterministic nature. Race conditions and deadlocks may occur, which can be challenging to identify and resolve.\n",
    "\n",
    "__Limited Parallelism:__ Due to the GIL, multithreading in Python might not achieve true parallelism for CPU-bound tasks, limiting the potential performance gains in such scenarios."
   ]
  },
  {
   "cell_type": "markdown",
   "id": "5c2b7c5b",
   "metadata": {},
   "source": [
    "### Q6.) Explain deadlock and race conditions?"
   ]
  },
  {
   "cell_type": "markdown",
   "id": "6586e693",
   "metadata": {},
   "source": [
    "__Deadlock:__\n",
    "Deadlock occurs when two or more threads are unable to proceed because each thread is waiting for a resource that another thread holds. It's like a traffic jam where each car is waiting for another car to move, and no one can make progress. In multithreading, deadlock can happen when two or more threads try to acquire resources (e.g., locks) in a specific order, and the order is not consistent across all threads. As a result, the threads end up waiting for each other indefinitely, and the program comes to a halt.\n",
    "\n",
    "__Race Conditions:__\n",
    "Race conditions occur when multiple threads access and modify shared resources simultaneously, leading to unpredictable and incorrect results. It's like two people trying to update the same file at the same time, and their changes get mixed up. In multithreading, race conditions can happen when two or more threads access and modify shared data without proper synchronization. This can lead to data corruption, incorrect calculations, or unexpected behavior in the program.\n",
    "\n",
    "In both cases, deadlock and race conditions, proper synchronization mechanisms (like locks, semaphores, or conditions) are needed to ensure that threads coordinate their access to shared resources and avoid conflicts. This helps prevent deadlocks and ensures that threads work together cooperatively without interfering with each other's work."
   ]
  }
 ],
 "metadata": {
  "kernelspec": {
   "display_name": "Python 3 (ipykernel)",
   "language": "python",
   "name": "python3"
  },
  "language_info": {
   "codemirror_mode": {
    "name": "ipython",
    "version": 3
   },
   "file_extension": ".py",
   "mimetype": "text/x-python",
   "name": "python",
   "nbconvert_exporter": "python",
   "pygments_lexer": "ipython3",
   "version": "3.9.12"
  }
 },
 "nbformat": 4,
 "nbformat_minor": 5
}
