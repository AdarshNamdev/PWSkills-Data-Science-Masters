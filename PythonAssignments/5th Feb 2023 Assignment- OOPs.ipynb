{
 "cells": [
  {
   "cell_type": "markdown",
   "id": "164e1aa7",
   "metadata": {},
   "source": [
    "### Q1. Explain Class and Object with respect to Object-Oriented Programming. Give a suitable example."
   ]
  },
  {
   "cell_type": "markdown",
   "id": "f99e09d3",
   "metadata": {},
   "source": [
    "Classes are the blueprint or an outline of some real world entity and objects are the some thing that belongs to this class and contains the properties and functionality outlined by the class.\n",
    "\n",
    "An example of a class is 'Furniture' and its objects are - 'chair', 'table', 'wardrobe' etc."
   ]
  },
  {
   "cell_type": "markdown",
   "id": "23627216",
   "metadata": {},
   "source": [
    "### Q2. Name the four pillars of OOPs."
   ]
  },
  {
   "cell_type": "markdown",
   "id": "d348519e",
   "metadata": {},
   "source": [
    "Four pillars of OOPs are-\n",
    "    \n",
    "- Inheritnace    \n",
    "- Polymorphism    \n",
    "- Abstraction    \n",
    "- Encapsulation"
   ]
  },
  {
   "cell_type": "markdown",
   "id": "48fdb961",
   "metadata": {},
   "source": [
    "### Q3. Explain why the ```__init__()``` function is used. Give a suitable example."
   ]
  },
  {
   "cell_type": "markdown",
   "id": "86145523",
   "metadata": {},
   "source": [
    "```__init__()``` function is a constructor that is getting called whenever an object of the class is initialized. This ```__init__``` function lets the python interpretor know what all class attributes and functions to bind with the created object."
   ]
  },
  {
   "cell_type": "code",
   "execution_count": 26,
   "id": "decffe3c",
   "metadata": {},
   "outputs": [
    {
     "data": {
      "text/plain": [
       "'You hold a laptop and its HP made.Model of this laptop is HP Spector Z Series with service tag: HP-1234Q'"
      ]
     },
     "execution_count": 26,
     "metadata": {},
     "output_type": "execute_result"
    }
   ],
   "source": [
    "# __init__() example:\n",
    "\n",
    "class computer(object):\n",
    "    def __init__(self, ctype, made, model, serive_tag):\n",
    "        self.ctype = ctype\n",
    "        self.made = made\n",
    "        self.model = model\n",
    "        self.serive_tag = serive_tag\n",
    "        \n",
    "    def get_details(self):\n",
    "        return f\"\"\"You hold a {self.ctype} and its {self.made} made.\\\n",
    "Model of this {self.ctype} is {self.model} with service tag: {self.serive_tag}\"\"\"\n",
    "    \n",
    "comp1 = computer(\"laptop\", \"HP\", \"HP Spector Z Series\", \"HP-1234Q\")\n",
    "comp1.get_details()"
   ]
  },
  {
   "cell_type": "markdown",
   "id": "ad8b858a",
   "metadata": {},
   "source": [
    "### Q4. Why ```self``` is used in OOPs?"
   ]
  },
  {
   "cell_type": "markdown",
   "id": "d13d100f",
   "metadata": {},
   "source": [
    "```self``` keyword helps any object to identify which class it belongs to and helps in accessing the attributes and methods of its class."
   ]
  },
  {
   "cell_type": "markdown",
   "id": "8af5790c",
   "metadata": {},
   "source": [
    "### Q5. What is inheritance? Give an example for each type of inheritance"
   ]
  },
  {
   "cell_type": "markdown",
   "id": "323b0493",
   "metadata": {},
   "source": [
    "Inheritance is the concept where one class inherits the characteristics (properties/attributes/method) of its parent class."
   ]
  },
  {
   "cell_type": "code",
   "execution_count": 31,
   "id": "37a9f5e4",
   "metadata": {},
   "outputs": [
    {
     "data": {
      "text/plain": [
       "'details of your computer are: Dell, Vostro 1510, CTQ861Q'"
      ]
     },
     "execution_count": 31,
     "metadata": {},
     "output_type": "execute_result"
    }
   ],
   "source": [
    "# example of inheritnace:\n",
    "\n",
    "class computer(object):\n",
    "    def __init__(self, made, model, serive_tag):\n",
    "        self.made = made\n",
    "        self.model = model\n",
    "        self.serive_tag = serive_tag\n",
    "        \n",
    "    def get_details(self):\n",
    "        return f\"details of your computer are: {self.made}, {self.model}, {self.serive_tag}\"\n",
    "    \n",
    "\n",
    "# this below class will inherit from parent class computer\n",
    "\n",
    "class laptop(computer):\n",
    "    pass\n",
    "\n",
    "comp1 = laptop(\"Dell\", \"Vostro 1510\", \"CTQ861Q\")\n",
    "comp1.get_details()"
   ]
  },
  {
   "cell_type": "code",
   "execution_count": null,
   "id": "63a5868a",
   "metadata": {},
   "outputs": [],
   "source": [
    "\n"
   ]
  },
  {
   "cell_type": "code",
   "execution_count": null,
   "id": "8f972bd2",
   "metadata": {},
   "outputs": [],
   "source": []
  },
  {
   "cell_type": "code",
   "execution_count": null,
   "id": "a53b73bc",
   "metadata": {},
   "outputs": [],
   "source": []
  },
  {
   "cell_type": "code",
   "execution_count": null,
   "id": "291982b6",
   "metadata": {},
   "outputs": [],
   "source": []
  }
 ],
 "metadata": {
  "kernelspec": {
   "display_name": "Python 3 (ipykernel)",
   "language": "python",
   "name": "python3"
  },
  "language_info": {
   "codemirror_mode": {
    "name": "ipython",
    "version": 3
   },
   "file_extension": ".py",
   "mimetype": "text/x-python",
   "name": "python",
   "nbconvert_exporter": "python",
   "pygments_lexer": "ipython3",
   "version": "3.9.12"
  }
 },
 "nbformat": 4,
 "nbformat_minor": 5
}
