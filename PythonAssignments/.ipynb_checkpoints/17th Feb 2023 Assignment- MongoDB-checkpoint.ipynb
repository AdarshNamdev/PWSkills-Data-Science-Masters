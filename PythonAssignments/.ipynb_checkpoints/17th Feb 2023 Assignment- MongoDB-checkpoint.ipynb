{
 "cells": [
  {
   "cell_type": "markdown",
   "id": "b2f26331",
   "metadata": {},
   "source": [
    "### Q1. What is MongoDB? Explain non-relational databases in short. In which scenarios it is preferred to use MongoDB over SQL databases?"
   ]
  },
  {
   "cell_type": "markdown",
   "id": "0f94b532",
   "metadata": {},
   "source": [
    "MongoDB is a popular open-source NoSQL database system that falls under the category of non-relational databases. Non-relational databases, also known as NoSQL databases, are a type of database management system that does not use the traditional tabular relational database model, like SQL databases. Instead, they provide a more flexible and dynamic way to store and retrieve data, often using a variety of data models, including document, key-value, column-family, and graph.\n",
    "\n",
    "__Key characteristics of non-relational databases (e.g.: MongoDB) are:__\n",
    "\n",
    "__Schema Flexibility:__ Non-relational databases don't require a fixed schema, which means you can store data without a predefined structure. This flexibility is especially useful when dealing with unstructured or semi-structured data.\n",
    "\n",
    "__Scalability:__ NoSQL databases are designed to scale out horizontally, which makes them suitable for handling large amounts of data and high traffic loads.\n",
    "\n",
    "__High Performance:__ They often offer fast read and write operations, making them a good choice for applications that require low-latency responses.\n",
    "\n",
    "__Replication and High Availability:__ Many NoSQL databases, including MongoDB, support data replication and provide mechanisms for ensuring high availability and fault tolerance.\n",
    "\n",
    "__Diverse Data Models:__ NoSQL databases support various data models, allowing you to choose the one that best fits your specific use case. MongoDB, for example, is known for its document-based data model.\n",
    "\n",
    "\n",
    "__Scenarios where MongoDB is preferred over traditional SQL databases (RDBMS) include:__\n",
    "\n",
    "__Flexible Schema Requirements:__ If your application's data structure is subject to frequent changes or if you need to store semi-structured or unstructured data, MongoDB's schema-less design is more accommodating.\n",
    "\n",
    "__Large Amounts of Data:__ MongoDB's horizontal scalability and support for sharding make it suitable for handling large datasets and high traffic loads, which can be challenging for traditional SQL databases.\n",
    "\n",
    "__High Write Throughput:__ MongoDB is well-suited for applications that require high-speed writes, such as real-time analytics or data logging.\n",
    "\n",
    "__JSON-Like Documents:__ When you work with data that can be represented in a JSON-like format, MongoDB's document-oriented data model can simplify development.\n",
    "\n",
    "__Geo-Spatial Data:__ If your application needs to work with geospatial data or location-based services, MongoDB has built-in support for geospatial indexing and queries.\n",
    "\n",
    "__Scalability Requirements:__ MongoDB can be easily distributed across multiple servers or cloud instances, providing scalability and redundancy."
   ]
  },
  {
   "cell_type": "markdown",
   "id": "4e9c5a94",
   "metadata": {},
   "source": [
    "### Q2. State and Explain the features of MongoDB."
   ]
  },
  {
   "cell_type": "markdown",
   "id": "4cb1dc10",
   "metadata": {},
   "source": [
    "__1.) Ad-hoc queries for optimized, real-time analytics__\n",
    "\n",
    "When designing the schema of a database, it is impossible to know in advance all the queries that will be performed by end users. An ad hoc query is a short-lived command whose value depends on a variable. Each time an ad hoc query is executed, the result may be different, depending on the variables in question.\n",
    "\n",
    "Optimizing the way in which ad-hoc queries are handled can make a significant difference at scale, when thousands to millions of variables may need to be considered. This is why MongoDB, a document-oriented, flexible schema database, stands apart as the cloud database platform of choice for enterprise applications that require real-time analytics. With ad-hoc query support that allows developers to update ad-hoc queries in real time, the improvement in performance can be game-changing.\n",
    "\n",
    "MongoDB supports field queries, range queries, and regular expression searches. Queries can return specific fields and also account for user-defined functions. This is made possible because MongoDB indexes BSON documents and uses the MongoDB Query Language (MQL).\n",
    "\n",
    "\n",
    "__2.) Indexing appropriately for better query executions__\n",
    "\n",
    "In our experience, the number one issue that many technical support teams fail to address with their users is indexing. Done right, indexes are intended to improve search speed and performance. A failure to properly define appropriate indices can and usually will lead to a myriad of accessibility issues, such as problems with query execution and load balancing.\n",
    "\n",
    "Without the right indices, a database is forced to scan documents one by one to identify the ones that match the query statement. But if an appropriate index exists for each query, user requests can be optimally executed by the server. MongoDB offers a broad range of indices and features with language-specific sort orders that support complex access patterns to datasets.\n",
    "\n",
    "Notably, MongoDB indices can be created on demand to accommodate real-time, ever-changing query patterns and application requirements. They can also be declared on any field within any of your documents, including those nested within arrays.\n",
    "\n",
    "\n",
    "__3.) Replication for better data availability and stability__\n",
    "\n",
    "Replication for better data availability and stability\n",
    "When your data only resides in a single database, it is exposed to multiple potential points of failure, such as a server crash, service interruptions, or even good old hardware failure. Any of these events would make accessing your data nearly impossible.\n",
    "\n",
    "Replication allows you to sidestep these vulnerabilities by deploying multiple servers for disaster recovery and backup. Horizontal scaling across multiple servers that house the same data (or shards of that same data) means greatly increased data availability and stability. Naturally, replication also helps with load balancing. When multiple users access the same data, the load can be distributed evenly across servers.\n",
    "\n",
    "In MongoDB, replica sets are employed for this purpose. A primary server or node accepts all write operations and applies those same operations across secondary servers, replicating the data. If the primary server should ever experience a critical failure, any one of the secondary servers can be elected to become the new primary node. And if the former primary node comes back online, it does so as a secondary server for the new primary node.\n",
    "\n",
    "\n",
    "__4.) Sharding__\n",
    "\n",
    "When dealing with particularly large datasets, sharding—the process of splitting larger datasets across multiple distributed collections, or <b><font color = 'blue'> \"Shards\" </font></b> — helps the database distribute and better execute what might otherwise be problematic and cumbersome queries. Without sharding, scaling a growing web application with millions of daily users is nearly impossible.\n",
    "\n",
    "Like replication via replication sets, sharding in MongoDB allows for much greater horizontal scalability. Horizontal scaling means that each shard in every cluster houses a portion of the dataset in question, essentially functioning as a separate database. The collection of distributed server shards forms a single, comprehensive database much better suited to handling the needs of a popular, growing application with zero downtime.\n",
    "\n",
    "All operations in a sharding environment are handled through a lightweight process called <b><font color = 'blue'>mongos</font></b>. <b><br>\n",
    "<font color = 'blue'>Mongos</font></b> can direct queries to the correct shard based on the shard key. Naturally, proper sharding also contributes significantly to better load balancing.\n",
    "\n",
    "\n",
    "__5.) Load balancing__\n",
    "\n",
    "At the end of the day, optimal load balancing remains one of the holy grails of large-scale database management for growing enterprise applications. Properly distributing millions of client requests to hundreds or thousands of servers can lead to a noticeable (and much appreciated) difference in performance.\n",
    "\n",
    "Fortunately, via horizontal scaling features like replication and sharding, MongoDB supports large-scale load balancing. The platform can handle multiple concurrent read and write requests for the same data with best-in-class concurrency control and locking protocols that ensure data consistency. There’s no need to add an external load balancer—MongoDB ensures that each and every user has a consistent view and quality experience with the data they need to access"
   ]
  },
  {
   "cell_type": "markdown",
   "id": "10a1919e",
   "metadata": {},
   "source": [
    "### Q3. Write a code to connect MongoDB to Python. Also, create a database and a collection in MongoDB."
   ]
  },
  {
   "cell_type": "code",
   "execution_count": 3,
   "id": "0bb27ca6",
   "metadata": {},
   "outputs": [],
   "source": [
    "import pymongo\n"
   ]
  },
  {
   "cell_type": "code",
   "execution_count": 4,
   "id": "5fabd5b9-8a0f-44f1-a61d-d947e4f110f4",
   "metadata": {},
   "outputs": [
    {
     "name": "stdout",
     "output_type": "stream",
     "text": [
      "Pinged your deployment. You successfully connected to MongoDB!\n"
     ]
    }
   ],
   "source": [
    "with open(r\"/home/jovyan/work/mongoDB_conn_str.txt\") as fh:\n",
    "    connection_string = fh.read().rstrip(\"\\n\")\n",
    "    fh.seek(0)\n",
    "\n",
    "    \n",
    "# Create a new client and connect to the server\n",
    "client = pymongo.MongoClient(connection_string)\n",
    "\n",
    "# Send a ping to confirm a successful connection\n",
    "try:\n",
    "    client.admin.command('ping')\n",
    "    print(\"Pinged your deployment. You successfully connected to MongoDB!\")\n",
    "\n",
    "except Exception as e:\n",
    "    print(\"Traceback >>\\n\",e)\n",
    "\n",
    "\n",
    "# creating/getting a database inside the mongoDB cluster,\n",
    "db = client['wallmart']\n",
    "\n",
    "# creating/getting a collection inside the database 'wallmart'\n",
    "customer_collection = db['customer']"
   ]
  },
  {
   "cell_type": "markdown",
   "id": "2700c4b5-36b8-4d00-84d1-a1d64dfc6f2e",
   "metadata": {},
   "source": [
    "### Q4. Using the database and the collection created in question number 3, write a code to insert one record, and insert many records. Use the find() and find_one() methods to print the inserted record."
   ]
  },
  {
   "cell_type": "code",
   "execution_count": 14,
   "id": "0867cb61",
   "metadata": {},
   "outputs": [
    {
     "data": {
      "text/plain": [
       "<pymongo.results.InsertManyResult at 0x7f015811af50>"
      ]
     },
     "execution_count": 14,
     "metadata": {},
     "output_type": "execute_result"
    }
   ],
   "source": [
    "cust_record = {\n",
    "    'first_name' : 'Daniel',\n",
    "    'middle_name' : None,\n",
    "    'last_name': 'Butcher',\n",
    "    'phone' : \"4587855663\",\n",
    "    'receipt_number' : \"Mart-M-85236P-Digital\",\n",
    "    'payment_method' : 'Debit Card'\n",
    "}\n",
    "\n",
    "customer_collection.insert_one(document= cust_record)\n",
    "\n",
    "many_customer_records = [\n",
    "    {\n",
    "        'first_name' : 'Sophia',\n",
    "        'middle_name' : None,\n",
    "        'last_name': 'Nebel',\n",
    "        'phone' : \"3647139856\",\n",
    "        'receipt_number' : \"Mart-J-331J0202\",\n",
    "        'payment_method' : 'CASH'\n",
    "    },\n",
    "\n",
    "    {\n",
    "        'first_name' : 'Nickolas',\n",
    "        'middle_name' : None,\n",
    "        'last_name': 'Shapiro',\n",
    "        'phone' : \"665544771\",\n",
    "        'receipt_number' : \"Mart-L-ef685k6-Digital\",\n",
    "        'payment_method' : 'CC'\n",
    "    },\n",
    "\n",
    "    {\n",
    "        'first_name' : 'Blake',\n",
    "        'middle_name' : None,\n",
    "        'last_name': 'Cunningham',\n",
    "        'phone' : \"666654245\",\n",
    "        'receipt_number' : \"Mart-L-310245\",\n",
    "        'payment_method' : 'CASH'\n",
    "    }\n",
    "]\n",
    "\n",
    "customer_collection.insert_many(many_customer_records)"
   ]
  },
  {
   "cell_type": "code",
   "execution_count": 15,
   "id": "96933712",
   "metadata": {},
   "outputs": [
    {
     "name": "stdout",
     "output_type": "stream",
     "text": [
      "<class 'dict'>\n",
      "{'_id': ObjectId('653118fd1fb5e7869e1fb5e9'), 'first_name': 'Adarsh', 'middle_name': None, 'last_name': 'Namdev', 'phone': '7507157178', 'receipt_number': 'Mart-M-711458-Digital', 'payment_method': 'UPI'}\n",
      "\n",
      "\n",
      "<class 'dict'>\n",
      "{'_id': ObjectId('65311b45f46b68d5939c2094'), 'first_name': 'Abhay', 'middle_name': None, 'last_name': 'Verma', 'phone': '267478524', 'receipt_number': 'Mart-M-711458', 'payment_method': 'CASH'}\n",
      "\n",
      "\n",
      "<class 'dict'>\n",
      "{'_id': ObjectId('65311b45f46b68d5939c2093'), 'first_name': 'Mercedes', 'middle_name': 'Ann', 'last_name': 'Tyler', 'phone': '4584566', 'receipt_number': 'Mart-L-1er58-Digital', 'payment_method': 'CC'}\n",
      "\n",
      "\n",
      "<class 'dict'>\n",
      "{'_id': ObjectId('6533d92b4e4a0e6665c8334a'), 'first_name': 'Daniel', 'middle_name': None, 'last_name': 'Butcher', 'phone': '4587855663', 'receipt_number': 'Mart-M-85236P-Digital', 'payment_method': 'Debit Card'}\n",
      "\n",
      "\n",
      "<class 'dict'>\n",
      "{'_id': ObjectId('6533e1714e4a0e6665c83353'), 'first_name': 'Daniel', 'middle_name': None, 'last_name': 'Butcher', 'phone': '4587855663', 'receipt_number': 'Mart-M-85236P-Digital', 'payment_method': 'Debit Card'}\n",
      "\n",
      "\n",
      "<class 'dict'>\n",
      "{'_id': ObjectId('6533e1714e4a0e6665c83354'), 'first_name': 'Sophia', 'middle_name': None, 'last_name': 'Nebel', 'phone': '3647139856', 'receipt_number': 'Mart-J-331J0202', 'payment_method': 'CASH'}\n",
      "\n",
      "\n",
      "<class 'dict'>\n",
      "{'_id': ObjectId('6533e1714e4a0e6665c83355'), 'first_name': 'Nickolas', 'middle_name': None, 'last_name': 'Shapiro', 'phone': '665544771', 'receipt_number': 'Mart-L-ef685k6-Digital', 'payment_method': 'CC'}\n",
      "\n",
      "\n",
      "<class 'dict'>\n",
      "{'_id': ObjectId('6533e1714e4a0e6665c83356'), 'first_name': 'Blake', 'middle_name': None, 'last_name': 'Cunningham', 'phone': '666654245', 'receipt_number': 'Mart-L-310245', 'payment_method': 'CASH'}\n",
      "\n",
      "\n"
     ]
    }
   ],
   "source": [
    "for doc in customer_collection.find():\n",
    "    print(type(doc))\n",
    "    print(doc)    \n",
    "    print(\"\\n\")"
   ]
  },
  {
   "cell_type": "code",
   "execution_count": 16,
   "id": "977ce9a0",
   "metadata": {},
   "outputs": [
    {
     "data": {
      "text/plain": [
       "{'_id': ObjectId('65311b45f46b68d5939c2094'),\n",
       " 'first_name': 'Abhay',\n",
       " 'middle_name': None,\n",
       " 'last_name': 'Verma',\n",
       " 'phone': '267478524',\n",
       " 'receipt_number': 'Mart-M-711458',\n",
       " 'payment_method': 'CASH'}"
      ]
     },
     "execution_count": 16,
     "metadata": {},
     "output_type": "execute_result"
    }
   ],
   "source": [
    "customer_collection.find_one({'payment_method': 'CASH'})"
   ]
  },
  {
   "cell_type": "markdown",
   "id": "1ac55bfa-9ef6-4835-885a-8194195bce44",
   "metadata": {},
   "source": [
    "### Q5. Explain how you can use the find() method to query the MongoDB database. Write a simple code to demonstrate this."
   ]
  },
  {
   "cell_type": "markdown",
   "id": "acb12a3e-ee15-4a89-a600-fd0901adf90b",
   "metadata": {},
   "source": [
    "On a basic level and to explain in short, the `find()` method is used to filter the record based on the paramter `filter` (a filter criteria) passed to it as dictionary. If there is no filter criteria is given then `find()` method just simply retrn 101 documents by default."
   ]
  },
  {
   "cell_type": "code",
   "execution_count": 18,
   "id": "6a115487-a2da-468e-a0e8-d1c1dc163a40",
   "metadata": {},
   "outputs": [
    {
     "name": "stdout",
     "output_type": "stream",
     "text": [
      "{'_id': ObjectId('653118fd1fb5e7869e1fb5e9'), 'first_name': 'Adarsh', 'middle_name': None, 'last_name': 'Namdev', 'phone': '7507157178', 'receipt_number': 'Mart-M-711458-Digital', 'payment_method': 'UPI'}\n",
      "{'_id': ObjectId('65311b45f46b68d5939c2094'), 'first_name': 'Abhay', 'middle_name': None, 'last_name': 'Verma', 'phone': '267478524', 'receipt_number': 'Mart-M-711458', 'payment_method': 'CASH'}\n",
      "{'_id': ObjectId('65311b45f46b68d5939c2093'), 'first_name': 'Mercedes', 'middle_name': 'Ann', 'last_name': 'Tyler', 'phone': '4584566', 'receipt_number': 'Mart-L-1er58-Digital', 'payment_method': 'CC'}\n"
     ]
    }
   ],
   "source": [
    "for document in customer_collection.find().limit(3).skip(3):\n",
    "    print(document)"
   ]
  },
  {
   "cell_type": "code",
   "execution_count": 5,
   "id": "70501f6b-a0d0-48bc-9c64-d19450c826fc",
   "metadata": {},
   "outputs": [
    {
     "name": "stdout",
     "output_type": "stream",
     "text": [
      "{'_id': ObjectId('6533e1714e4a0e6665c83354'), 'first_name': 'Sophia', 'middle_name': None, 'last_name': 'Nebel', 'phone': '3647139856', 'receipt_number': 'Mart-J-331J0202', 'payment_method': 'CASH'}\n",
      "{'_id': ObjectId('6533e1714e4a0e6665c83355'), 'first_name': 'Nickolas', 'middle_name': None, 'last_name': 'Shapiro', 'phone': '665544771', 'receipt_number': 'Mart-L-ef685k6-Digital', 'payment_method': 'CC'}\n",
      "{'_id': ObjectId('6533e1714e4a0e6665c83356'), 'first_name': 'Blake', 'middle_name': None, 'last_name': 'Cunningham', 'phone': '666654245', 'receipt_number': 'Mart-L-310245', 'payment_method': 'CASH'}\n"
     ]
    }
   ],
   "source": [
    "# skipping first 5 documents and then fetching the next 3 documents.\n",
    "for document in customer_collection.find().limit(3).skip(5):\n",
    "    print(document)"
   ]
  },
  {
   "cell_type": "markdown",
   "id": "d3c9e78b-6180-4b16-9bcb-e9b5ee4da6d5",
   "metadata": {},
   "source": [
    "### Q6. Explain the sort() method. Give an example to demonstrate sorting in MongoDB."
   ]
  },
  {
   "cell_type": "code",
   "execution_count": 11,
   "id": "f3a3f033-7e27-4b15-be59-33236cc6f3b3",
   "metadata": {},
   "outputs": [
    {
     "name": "stdout",
     "output_type": "stream",
     "text": [
      "{'_id': ObjectId('65311b45f46b68d5939c2094'), 'first_name': 'Abhay', 'middle_name': None, 'last_name': 'Verma', 'phone': '267478524', 'receipt_number': 'Mart-M-711458', 'payment_method': 'CASH'}\n",
      "{'_id': ObjectId('6533e1714e4a0e6665c83354'), 'first_name': 'Sophia', 'middle_name': None, 'last_name': 'Nebel', 'phone': '3647139856', 'receipt_number': 'Mart-J-331J0202', 'payment_method': 'CASH'}\n",
      "{'_id': ObjectId('65311b45f46b68d5939c2093'), 'first_name': 'Mercedes', 'middle_name': 'Ann', 'last_name': 'Tyler', 'phone': '4584566', 'receipt_number': 'Mart-L-1er58-Digital', 'payment_method': 'CC'}\n",
      "{'_id': ObjectId('6533d92b4e4a0e6665c8334a'), 'first_name': 'Daniel', 'middle_name': None, 'last_name': 'Butcher', 'phone': '4587855663', 'receipt_number': 'Mart-M-85236P-Digital', 'payment_method': 'Debit Card'}\n",
      "{'_id': ObjectId('6533e1714e4a0e6665c83353'), 'first_name': 'Daniel', 'middle_name': None, 'last_name': 'Butcher', 'phone': '4587855663', 'receipt_number': 'Mart-M-85236P-Digital', 'payment_method': 'Debit Card'}\n",
      "{'_id': ObjectId('6533e1714e4a0e6665c83355'), 'first_name': 'Nickolas', 'middle_name': None, 'last_name': 'Shapiro', 'phone': '665544771', 'receipt_number': 'Mart-L-ef685k6-Digital', 'payment_method': 'CC'}\n",
      "{'_id': ObjectId('6533e1714e4a0e6665c83356'), 'first_name': 'Blake', 'middle_name': None, 'last_name': 'Cunningham', 'phone': '666654245', 'receipt_number': 'Mart-L-310245', 'payment_method': 'CASH'}\n",
      "{'_id': ObjectId('653118fd1fb5e7869e1fb5e9'), 'first_name': 'Adarsh', 'middle_name': None, 'last_name': 'Namdev', 'phone': '7507157178', 'receipt_number': 'Mart-M-711458-Digital', 'payment_method': 'UPI'}\n"
     ]
    }
   ],
   "source": [
    "for document in customer_collection.find().sort('phone', pymongo.ASCENDING):\n",
    "    print(document)"
   ]
  },
  {
   "cell_type": "code",
   "execution_count": 18,
   "id": "b992931e-1c3e-4f94-9851-479fdf154dfe",
   "metadata": {},
   "outputs": [
    {
     "name": "stdout",
     "output_type": "stream",
     "text": [
      "{'_id': ObjectId('653118fd1fb5e7869e1fb5e9'), 'first_name': 'Adarsh', 'middle_name': None, 'last_name': 'Namdev', 'phone': '7507157178', 'receipt_number': 'Mart-M-711458-Digital', 'payment_method': 'UPI'}\n",
      "{'_id': ObjectId('6533e1714e4a0e6665c83356'), 'first_name': 'Blake', 'middle_name': None, 'last_name': 'Cunningham', 'phone': '666654245', 'receipt_number': 'Mart-L-310245', 'payment_method': 'CASH'}\n",
      "{'_id': ObjectId('6533e1714e4a0e6665c83355'), 'first_name': 'Nickolas', 'middle_name': None, 'last_name': 'Shapiro', 'phone': '665544771', 'receipt_number': 'Mart-L-ef685k6-Digital', 'payment_method': 'CC'}\n",
      "{'_id': ObjectId('6533d92b4e4a0e6665c8334a'), 'first_name': 'Daniel', 'middle_name': None, 'last_name': 'Butcher', 'phone': '4587855663', 'receipt_number': 'Mart-M-85236P-Digital', 'payment_method': 'Debit Card'}\n",
      "{'_id': ObjectId('6533e1714e4a0e6665c83353'), 'first_name': 'Daniel', 'middle_name': None, 'last_name': 'Butcher', 'phone': '4587855663', 'receipt_number': 'Mart-M-85236P-Digital', 'payment_method': 'Debit Card'}\n",
      "{'_id': ObjectId('65311b45f46b68d5939c2093'), 'first_name': 'Mercedes', 'middle_name': 'Ann', 'last_name': 'Tyler', 'phone': '4584566', 'receipt_number': 'Mart-L-1er58-Digital', 'payment_method': 'CC'}\n",
      "{'_id': ObjectId('6533e1714e4a0e6665c83354'), 'first_name': 'Sophia', 'middle_name': None, 'last_name': 'Nebel', 'phone': '3647139856', 'receipt_number': 'Mart-J-331J0202', 'payment_method': 'CASH'}\n",
      "{'_id': ObjectId('65311b45f46b68d5939c2094'), 'first_name': 'Abhay', 'middle_name': None, 'last_name': 'Verma', 'phone': '267478524', 'receipt_number': 'Mart-M-711458', 'payment_method': 'CASH'}\n"
     ]
    }
   ],
   "source": [
    "for document in customer_collection.find().sort('phone', pymongo.DESCENDING):\n",
    "    print(document)"
   ]
  },
  {
   "cell_type": "markdown",
   "id": "28496252-e39e-480c-a140-03232f5e369e",
   "metadata": {
    "tags": []
   },
   "source": [
    "### Q7. Explain why `delete_one()`, `delete_many()`, and `drop()` is used."
   ]
  },
  {
   "cell_type": "markdown",
   "id": "ee56584f-d611-45d7-ba9b-d286a960d386",
   "metadata": {},
   "source": [
    "`delete_one()`:\n",
    "\n",
    "This method is used to delete a single document (or record) that matches a specified condition or filter.\n",
    "\n",
    "You use `delete_one()` when you want to remove a specific document from a collection based on a particular criteria, such as deleting a user by their unique identifier or removing a specific order by order ID.\n",
    "\n",
    "\n",
    "`delete_many()`:\n",
    "\n",
    "This method is used to delete multiple documents that match a specified condition or filter.\n",
    "\n",
    "`delete_many()` is employed when you want to delete several documents that meet a certain condition, such as deleting all users who have not logged in for the past year or removing all completed orders from a database\n",
    "\n",
    "\n",
    "`drop()`:\n",
    "\n",
    "The `drop()` method is used to remove an entire collection (equivalent to a table in a relational database) from the database. It effectively deletes all documents in the collection and the collection itself.\n",
    "\n",
    "`drop()` is typically used when you want to completely discard a collection and all its data, often as part of administrative or cleanup tasks. This should be used with caution as it's a destructive operation."
   ]
  },
  {
   "cell_type": "code",
   "execution_count": null,
   "id": "2c6fcdf2-70a4-4e59-bb79-dbc8541bee86",
   "metadata": {},
   "outputs": [],
   "source": [
    "\n"
   ]
  },
  {
   "cell_type": "code",
   "execution_count": null,
   "id": "a4f26c87-c30d-4aef-8e7b-e787ed7095f9",
   "metadata": {},
   "outputs": [],
   "source": []
  },
  {
   "cell_type": "code",
   "execution_count": null,
   "id": "7db711c0-4430-49f6-b32b-b474b4876360",
   "metadata": {},
   "outputs": [],
   "source": []
  },
  {
   "cell_type": "code",
   "execution_count": null,
   "id": "70481536-2421-4000-8353-eca5de7c591a",
   "metadata": {},
   "outputs": [],
   "source": []
  },
  {
   "cell_type": "code",
   "execution_count": null,
   "id": "49b41da9-6c2a-4ad9-9c05-4e6112d352da",
   "metadata": {},
   "outputs": [],
   "source": []
  },
  {
   "cell_type": "code",
   "execution_count": null,
   "id": "0574252e-084d-43a5-8221-3348181540df",
   "metadata": {},
   "outputs": [],
   "source": []
  },
  {
   "cell_type": "code",
   "execution_count": null,
   "id": "fb69172a-fa67-47f9-887f-08ef102c3260",
   "metadata": {},
   "outputs": [],
   "source": []
  }
 ],
 "metadata": {
  "kernelspec": {
   "display_name": "Python 3 (ipykernel)",
   "language": "python",
   "name": "python3"
  },
  "language_info": {
   "codemirror_mode": {
    "name": "ipython",
    "version": 3
   },
   "file_extension": ".py",
   "mimetype": "text/x-python",
   "name": "python",
   "nbconvert_exporter": "python",
   "pygments_lexer": "ipython3",
   "version": "3.9.12"
  }
 },
 "nbformat": 4,
 "nbformat_minor": 5
}
