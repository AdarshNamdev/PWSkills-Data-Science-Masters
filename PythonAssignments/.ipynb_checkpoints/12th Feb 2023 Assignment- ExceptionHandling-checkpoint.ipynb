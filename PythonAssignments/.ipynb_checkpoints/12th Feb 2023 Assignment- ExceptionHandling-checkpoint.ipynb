{
 "cells": [
  {
   "cell_type": "markdown",
   "id": "587730f8",
   "metadata": {},
   "source": [
    "### Q1. What is an Exception in python ? Write the difference between Exception and Syntax Errors."
   ]
  },
  {
   "cell_type": "markdown",
   "id": "1e6698a1",
   "metadata": {},
   "source": [
    "Exception is a kind of error (traceback) that python throws when the interpretor observes that there is some piece of code which is not within the permissible rules of python and hence obstructs the flow of the program. All the exeption are derived from `class` called __`Exception`__\n",
    "\n",
    "Exception are the error whcih appears when the python program is running. But Syntax Errors are more often deal with the symantics of the programming language.\n",
    "\n",
    "Both Exception and Syntax errors when appear, obstructs the flow of the running program. But unlike Exception syntax errors cannot be handled to not let the flow of program break."
   ]
  },
  {
   "cell_type": "markdown",
   "id": "267fa49d",
   "metadata": {},
   "source": [
    "### Q2. What happens when an Exception is not handled? Explain with an example."
   ]
  },
  {
   "cell_type": "markdown",
   "id": "72b2fcdc",
   "metadata": {},
   "source": [
    "When an exception is not handled, it obstructs the flow of the running program."
   ]
  },
  {
   "cell_type": "markdown",
   "id": "cdbed6b7",
   "metadata": {},
   "source": [
    "Example:<br>\n",
    "When the function `throw_exception` is called with some invalid file path we get the exception called __`FileNotFoundError`__"
   ]
  },
  {
   "cell_type": "code",
   "execution_count": 1,
   "id": "183f919c",
   "metadata": {},
   "outputs": [
    {
     "ename": "FileNotFoundError",
     "evalue": "[Errno 2] No such file or directory: 'c:/lalala.txt'",
     "output_type": "error",
     "traceback": [
      "\u001b[1;31m---------------------------------------------------------------------------\u001b[0m",
      "\u001b[1;31mFileNotFoundError\u001b[0m                         Traceback (most recent call last)",
      "Input \u001b[1;32mIn [1]\u001b[0m, in \u001b[0;36m<cell line: 10>\u001b[1;34m()\u001b[0m\n\u001b[0;32m      5\u001b[0m             file_content\u001b[38;5;241m.\u001b[39mappend(line)\n\u001b[0;32m      7\u001b[0m     \u001b[38;5;28;01mreturn\u001b[39;00m file_content\n\u001b[1;32m---> 10\u001b[0m \u001b[43mthrow_exception\u001b[49m\u001b[43m(\u001b[49m\u001b[38;5;124;43mr\u001b[39;49m\u001b[38;5;124;43m\"\u001b[39;49m\u001b[38;5;124;43mc:/lalala.txt\u001b[39;49m\u001b[38;5;124;43m\"\u001b[39;49m\u001b[43m)\u001b[49m\n",
      "Input \u001b[1;32mIn [1]\u001b[0m, in \u001b[0;36mthrow_exception\u001b[1;34m(file_path)\u001b[0m\n\u001b[0;32m      1\u001b[0m \u001b[38;5;28;01mdef\u001b[39;00m \u001b[38;5;21mthrow_exception\u001b[39m(file_path):\n\u001b[0;32m      2\u001b[0m     file_content \u001b[38;5;241m=\u001b[39m []\n\u001b[1;32m----> 3\u001b[0m     \u001b[38;5;28;01mwith\u001b[39;00m \u001b[38;5;28;43mopen\u001b[39;49m\u001b[43m(\u001b[49m\u001b[43mfile_path\u001b[49m\u001b[43m)\u001b[49m \u001b[38;5;28;01mas\u001b[39;00m fh:\n\u001b[0;32m      4\u001b[0m         \u001b[38;5;28;01mfor\u001b[39;00m line \u001b[38;5;129;01min\u001b[39;00m fh:\n\u001b[0;32m      5\u001b[0m             file_content\u001b[38;5;241m.\u001b[39mappend(line)\n",
      "\u001b[1;31mFileNotFoundError\u001b[0m: [Errno 2] No such file or directory: 'c:/lalala.txt'"
     ]
    }
   ],
   "source": [
    "def throw_exception(file_path):\n",
    "    file_content = []\n",
    "    with open(file_path) as fh:\n",
    "        for line in fh:\n",
    "            file_content.append(line)\n",
    "            \n",
    "    return file_content\n",
    "\n",
    "\n",
    "throw_exception(r\"c:/lalala.txt\")"
   ]
  },
  {
   "cell_type": "markdown",
   "id": "36e71aa8",
   "metadata": {},
   "source": [
    "### Q3. which python statements are used to catch and handle exceptions ? Explain with an example"
   ]
  },
  {
   "cell_type": "markdown",
   "id": "dc468e02",
   "metadata": {},
   "source": [
    "`try` and `except` are the statements which are used to catch and handle the exception respectively."
   ]
  },
  {
   "cell_type": "code",
   "execution_count": 11,
   "id": "c09f39a5",
   "metadata": {},
   "outputs": [
    {
     "name": "stdout",
     "output_type": "stream",
     "text": [
      "directry or the file doesn't exisit!\n",
      "\n",
      "===================================\n",
      "\n",
      "1.) this is line #1\n",
      "2.) this is line #2\n",
      "3.) this is line #3\n",
      "\n",
      "Used writelines() method to added multiple lines at once inside the file. File handling is interesting, it seems!"
     ]
    }
   ],
   "source": [
    "def myFunc(file_path):\n",
    "    file_content = []\n",
    "    \n",
    "    # if the \"FileNotFoundError\" exception it will be caught here\n",
    "    try:\n",
    "        with open(file_path, 'r') as fh:\n",
    "            for line in fh:\n",
    "                file_content.append(line)\n",
    "    \n",
    "    # handling the \"FileNotFoundError\" exception here\n",
    "    except FileNotFoundError:\n",
    "        print(\"directry or the file doesn't exisit!\")\n",
    "    \n",
    "    else:\n",
    "        return file_content\n",
    "\n",
    "\n",
    "myFunc(r\"c:/lalala.txt\")\n",
    "\n",
    "print(\"\\n===================================\\n\")\n",
    "\n",
    "content = myFunc(r\"D:\\PWSkills_DS_Masters\\pwskills2.txt\")\n",
    "\n",
    "for txt in content:\n",
    "    print(txt, end = '')"
   ]
  },
  {
   "cell_type": "markdown",
   "id": "d3504260",
   "metadata": {},
   "source": [
    "### Q4. Explain with an example\n",
    "        a.) try and else\n",
    "        b.) finally\n",
    "        c.) raise"
   ]
  },
  {
   "cell_type": "markdown",
   "id": "d777753d",
   "metadata": {},
   "source": [
    "`try`: is the python clause that will catch any exception that will occur when a python statemtn is getting executed.\n",
    "\n",
    "`else`: is an optional clause that comes after the `except` clause. The `else` clause is executed wheverever the `try` block (in which `else` is enclosed) gets executed successfully!\n",
    "\n",
    "`finally`: is also an optional clause that is used in the exception handling. `finally` clause if executed everytime whether exception occurs or not. Its main purpose is for cleaning once every other line of code is executed. e.g. closing the file, closing the connection with any database. etc.\n",
    "\n",
    "`raise`: The raise statement allows the programmer to force a specified exception to occur. This must be either an exception instance or an exception class (a class that derives from BaseException, such as Exception or one of its subclasses). If an exception class is passed, it will be implicitly instantiated by calling its constructor with no arguments"
   ]
  },
  {
   "cell_type": "code",
   "execution_count": 41,
   "id": "1b28bed8",
   "metadata": {},
   "outputs": [
    {
     "name": "stdout",
     "output_type": "stream",
     "text": [
      "Enter value of a: 55\n",
      "Enter value of b: 3\n",
      "\n",
      "Result of division: 18.333333333333332\n"
     ]
    }
   ],
   "source": [
    "\n",
    "\"\"\"\n",
    "Example of try...except...else\n",
    "\n",
    "\"\"\"\n",
    "\n",
    "import math\n",
    "\n",
    "def divide_two_nums(numerator, denominator):\n",
    "    try:\n",
    "        result = a/b\n",
    "\n",
    "    except ZeroDivisionError:\n",
    "        print(\"You are dividing the numerator with zero ! Handling with a e^0\")\n",
    "        result = a/math.exp(b)\n",
    "        \n",
    "        return f\"Result of division: {result}\"\n",
    "\n",
    "    else:\n",
    "        return f\"Result of division: {result}\"\n",
    "    \n",
    "    \n",
    "a = float(input(\"Enter value of a: \"))\n",
    "b = float(input(\"Enter value of b: \"))\n",
    "\n",
    "print(\"\")\n",
    "print(divide_two_nums(a,b))"
   ]
  },
  {
   "cell_type": "code",
   "execution_count": 42,
   "id": "597069ba",
   "metadata": {},
   "outputs": [
    {
     "name": "stdout",
     "output_type": "stream",
     "text": [
      "Enter value of a: 911\n",
      "Enter value of b: 0\n",
      "\n",
      "You are dividing the numerator with zero ! Handling with a e^0\n",
      "Result of division: 911.0\n"
     ]
    }
   ],
   "source": [
    "a = float(input(\"Enter value of a: \"))\n",
    "b = float(input(\"Enter value of b: \"))\n",
    "\n",
    "print(\"\")\n",
    "print(divide_two_nums(a,b))"
   ]
  },
  {
   "cell_type": "code",
   "execution_count": 92,
   "id": "a7a1bc22",
   "metadata": {},
   "outputs": [
    {
     "name": "stdout",
     "output_type": "stream",
     "text": [
      "D:\\PWSkills_DS_Masters\\pwskills2.txt\n",
      "1.) this is line #1\n",
      "2.) this is line #2\n",
      "3.) this is line #3\n",
      "\n",
      "Used writelines() method to added multiple lines at once inside the file. File handling is interesting, it seems!"
     ]
    }
   ],
   "source": [
    "\n",
    "\"\"\"\n",
    "Example of try...except...else...finally\n",
    "\n",
    "\"\"\"\n",
    "\n",
    "\n",
    "from datetime import datetime\n",
    "\n",
    "def get_file_content(file_path):\n",
    "    \n",
    "    try:\n",
    "        print(file_path)\n",
    "        fh = open(file_path)\n",
    "        \n",
    "    except FileNotFoundError:\n",
    "        \"\"\"\n",
    "        In the event of the absence of file the file to find the file log is written\n",
    "        in the below given file.\n",
    "        \"\"\"\n",
    "        \n",
    "        with open(r\"D:\\PWSkills_DS_Masters\\file_not_found.log\", 'a') as fh_fail:\n",
    "            fh_fail.writelines(f\"{datetime.now()}: file not found at location: {file_path}\\n\")\n",
    "    \n",
    "    else:\n",
    "        for txt in fh:\n",
    "            print(txt, end = '')\n",
    "\n",
    "\n",
    "    finally:\n",
    "        try:\n",
    "            fh.close()\n",
    "            \n",
    "        except:\n",
    "            print(\"either the file is not present or was never openend!\")\n",
    "        \n",
    "        \n",
    "get_file_content(r\"D:\\PWSkills_DS_Masters\\pwskills2.txt\")"
   ]
  },
  {
   "cell_type": "code",
   "execution_count": 96,
   "id": "b0a061b2",
   "metadata": {},
   "outputs": [
    {
     "name": "stdout",
     "output_type": "stream",
     "text": [
      "D:\\PWSkills_DS_Masters\\bhokaal.txt\n",
      "either the file is not present or was never openend!\n"
     ]
    }
   ],
   "source": [
    "get_file_content(r\"D:\\PWSkills_DS_Masters\\bhokaal.txt\")"
   ]
  },
  {
   "cell_type": "code",
   "execution_count": 126,
   "id": "d57b70b3",
   "metadata": {},
   "outputs": [
    {
     "name": "stdout",
     "output_type": "stream",
     "text": [
      "Your Number : 911\n"
     ]
    },
    {
     "ename": "ValueError",
     "evalue": "dialing 911 for help !",
     "output_type": "error",
     "traceback": [
      "\u001b[1;31m---------------------------------------------------------------------------\u001b[0m",
      "\u001b[1;31mValueError\u001b[0m                                Traceback (most recent call last)",
      "Input \u001b[1;32mIn [126]\u001b[0m, in \u001b[0;36m<cell line: 8>\u001b[1;34m()\u001b[0m\n\u001b[0;32m      7\u001b[0m a \u001b[38;5;241m=\u001b[39m \u001b[38;5;28mint\u001b[39m(\u001b[38;5;28minput\u001b[39m(\u001b[38;5;124m\"\u001b[39m\u001b[38;5;124mYour Number : \u001b[39m\u001b[38;5;124m\"\u001b[39m))\n\u001b[0;32m      8\u001b[0m \u001b[38;5;28;01mif\u001b[39;00m a \u001b[38;5;241m==\u001b[39m \u001b[38;5;241m911\u001b[39m:\n\u001b[1;32m----> 9\u001b[0m     \u001b[38;5;28;01mraise\u001b[39;00m \u001b[38;5;167;01mValueError\u001b[39;00m(\u001b[38;5;124m\"\u001b[39m\u001b[38;5;124mdialing 911 for help !\u001b[39m\u001b[38;5;124m\"\u001b[39m)\n\u001b[0;32m     11\u001b[0m \u001b[38;5;28;01melse\u001b[39;00m:\n\u001b[0;32m     12\u001b[0m     \u001b[38;5;28mprint\u001b[39m(\u001b[38;5;124m\"\u001b[39m\u001b[38;5;124mfYou enter number: \u001b[39m\u001b[38;5;132;01m{a}\u001b[39;00m\u001b[38;5;124m\"\u001b[39m)\n",
      "\u001b[1;31mValueError\u001b[0m: dialing 911 for help !"
     ]
    }
   ],
   "source": [
    "\n",
    "\"\"\"\n",
    "Example of raise\n",
    "\n",
    "\"\"\"\n",
    "\n",
    "\n",
    "a = int(input(\"Your Number : \"))\n",
    "if a == 911:\n",
    "    raise ValueError(\"dialing 911 for help !\")\n",
    "\n",
    "else:\n",
    "    print(\"fYou enter number: {a}\")\n"
   ]
  },
  {
   "cell_type": "markdown",
   "id": "0633ac9b",
   "metadata": {},
   "source": [
    "### Q5.) What are custom exceptions in python? Why do we need custom exception ? explain with an example"
   ]
  },
  {
   "cell_type": "markdown",
   "id": "b6551a08",
   "metadata": {},
   "source": [
    "Custom Exceptions are the user-defined exceptions which a developer can create based on the requirement. Sometimes there are some business logic which asks for some constraints to be put in the code so that end user cannot violate them. Now since python cannot raise such errors Hence a developer can program and customize them per the need.\n",
    "\n",
    "__Example:__ <br>\n",
    "Suppose there is an application which will register a voter and give them a time-slot on the day of voting. Constraint here is an individual should be more than 17 year old to become an eligible voter. And if the age contraint is not mathced them the program should `raise` an exception, in this case we have to design a custom exception"
   ]
  },
  {
   "cell_type": "code",
   "execution_count": 1,
   "id": "2d259d31",
   "metadata": {},
   "outputs": [
    {
     "name": "stdout",
     "output_type": "stream",
     "text": [
      "Enter age: 17\n",
      "Your age is less than the allowed age for voting. Minimum age for voting is 18 !\n"
     ]
    }
   ],
   "source": [
    "class validator(Exception):\n",
    "    def __init__(self, msg):\n",
    "        self.msg = msg\n",
    "        \n",
    "def validateAge(age):\n",
    "    if age < 18:\n",
    "        raise validator(\"Your age is less than the allowed age for voting. Minimum age for voting is 18 !\")\n",
    "\n",
    "        \n",
    "try:\n",
    "    voter_age = int(input(\"Enter age: \"))\n",
    "    if not validateAge(voter_age):\n",
    "        print(\"Eligible Voter\")\n",
    "\n",
    "except Exception as e:\n",
    "    print(e)"
   ]
  },
  {
   "cell_type": "code",
   "execution_count": null,
   "id": "2c5e3232",
   "metadata": {},
   "outputs": [],
   "source": []
  },
  {
   "cell_type": "code",
   "execution_count": null,
   "id": "b3fb0428",
   "metadata": {},
   "outputs": [],
   "source": []
  },
  {
   "cell_type": "code",
   "execution_count": null,
   "id": "ee04f54e",
   "metadata": {},
   "outputs": [],
   "source": []
  }
 ],
 "metadata": {
  "kernelspec": {
   "display_name": "Python 3 (ipykernel)",
   "language": "python",
   "name": "python3"
  },
  "language_info": {
   "codemirror_mode": {
    "name": "ipython",
    "version": 3
   },
   "file_extension": ".py",
   "mimetype": "text/x-python",
   "name": "python",
   "nbconvert_exporter": "python",
   "pygments_lexer": "ipython3",
   "version": "3.9.12"
  }
 },
 "nbformat": 4,
 "nbformat_minor": 5
}
