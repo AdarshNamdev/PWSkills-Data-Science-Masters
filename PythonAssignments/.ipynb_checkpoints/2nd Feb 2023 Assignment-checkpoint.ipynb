{
 "cells": [
  {
   "cell_type": "markdown",
   "id": "3ed4ea69",
   "metadata": {},
   "source": [
    "### Q1. What are the characteristics of the tuples? Is tuple immutable?"
   ]
  },
  {
   "cell_type": "markdown",
   "id": "33fabd42",
   "metadata": {},
   "source": [
    "Tuples are one of the data structures present in python\n",
    "\n",
    "Its characteristics are:\n",
    "* Tuples are defined usign parenthesis\n",
    "> e.g.: tuple1 = ('hello', 'world')\n",
    "* Tuples are are immutable in nature. Immutable means, that the content inside a tuple cannot be changed once that tuple is defined.\n",
    "* tuples can be _indexed_ and _sliced_.\n",
    "* tuples can hold any kind of object inside it e.g string, int, float, complex, dictioanary, bool etc."
   ]
  },
  {
   "cell_type": "markdown",
   "id": "8d21d9cb",
   "metadata": {},
   "source": [
    "### Q2. What are the two tuple methods in python? Give an example of each method. Give a reason why tuples have only two in-built methods as compared to Lists."
   ]
  },
  {
   "cell_type": "markdown",
   "id": "870a1926",
   "metadata": {},
   "source": [
    "methods available on a tuple datastucture are \n",
    "* index()\n",
    "* count()"
   ]
  },
  {
   "cell_type": "code",
   "execution_count": 3,
   "id": "fe4a24a2",
   "metadata": {},
   "outputs": [
    {
     "name": "stdout",
     "output_type": "stream",
     "text": [
      "tuple's index() method example:  2\n",
      "tuple's count() method example:  3\n"
     ]
    }
   ],
   "source": [
    "tupl = ('one', 1, 2, 3.14, 2, {'name': 'Adarsh', 'age': 32}, ['Avatar', 'Interstellar'], True, 2)\n",
    "\n",
    "print(\"tuple's index() method example: \",tupl.index(2))\n",
    "print(\"tuple's count() method example: \", tupl.count(2))"
   ]
  },
  {
   "cell_type": "markdown",
   "id": "3c4bcbd0",
   "metadata": {},
   "source": [
    "### Q3. Which collection datatypes in python do not allow duplicate items? Write a code using a set to remove duplicates from the given list."
   ]
  },
  {
   "cell_type": "markdown",
   "id": "43894290",
   "metadata": {},
   "source": [
    "**set** is the datastructure that keep only unique elements in it."
   ]
  },
  {
   "cell_type": "code",
   "execution_count": 13,
   "id": "cd742447",
   "metadata": {},
   "outputs": [
    {
     "data": {
      "text/plain": [
       "{1, 2, 3, 4}"
      ]
     },
     "execution_count": 13,
     "metadata": {},
     "output_type": "execute_result"
    }
   ],
   "source": [
    "List = [1, 1, 1, 2, 1, 3, 1, 4, 2, 1, 2, 2, 2, 3, 2, 4, 3, 1, 3, 2, 3, 3, 3, 4, 4, 1, 4, 2, 4, 3, 4, 4]\n",
    "\n",
    "only_unique_elemnts = set(List)\n",
    "only_unique_elemnts"
   ]
  },
  {
   "cell_type": "markdown",
   "id": "33169c1c",
   "metadata": {},
   "source": [
    "### Q4. Explain the difference between the union() and update() methods for a set. Give an example of each method."
   ]
  },
  {
   "cell_type": "markdown",
   "id": "b2662737",
   "metadata": {},
   "source": [
    "* when _union()_ method is used between two differnt sets, then a <u>new set</u> is returned\n",
    "* when _update()_ method is used, the set from which its called will get updated with the elements on the another set passed as the argument to the method."
   ]
  },
  {
   "cell_type": "code",
   "execution_count": 26,
   "id": "7500586f",
   "metadata": {},
   "outputs": [
    {
     "name": "stdout",
     "output_type": "stream",
     "text": [
      "Union of set1 and set2:  {1, 2, 3, 'three', 'one', 'two'}\n",
      "\n",
      "\n",
      "set1:  {1, 2, 3}\n",
      "set2:  {'one', 'three', 'two'}\n",
      "\n",
      "\n",
      "set1:  {1, 2, 3, 'three', 'one', 'two'}\n",
      "set2:  {'one', 'three', 'two'}\n"
     ]
    }
   ],
   "source": [
    "# example of union() and update()\n",
    "\n",
    "set1 = {1,2,3}\n",
    "set2 = {'one', 'two', 'three'}\n",
    "\n",
    "set3 = set1.union(set2)  # captures all the values from set1 and set2 and put into set3\n",
    "\n",
    "print(\"Union of set1 and set2: \",set3)\n",
    "print(\"\\n\")\n",
    "print(\"set1: \",set1)\n",
    "print(\"set2: \",set2)\n",
    "print(\"\\n\")\n",
    "set1.update(set2)  # updates the set1 with elements from set2\n",
    "\n",
    "print(\"set1: \",set1)   # set1 got updated\n",
    "print(\"set2: \",set2)"
   ]
  },
  {
   "cell_type": "markdown",
   "id": "f634ef2f",
   "metadata": {},
   "source": [
    "### Q5. What is a dictionary? Give an example. Also, state whether a dictionary is ordered or unordered."
   ]
  },
  {
   "cell_type": "markdown",
   "id": "ea14ce7f",
   "metadata": {},
   "source": [
    "* Dictionary is python data structure that contains the data in key-value pairs. In a dictionary keys are always unique.\n",
    "* python dictionaries are unordered"
   ]
  },
  {
   "cell_type": "markdown",
   "id": "9fa70590",
   "metadata": {},
   "source": [
    "### Q6. Can we create a nested dictionary? If so, please give an example by creating a simple one-level nested dictionary."
   ]
  },
  {
   "cell_type": "markdown",
   "id": "726c9af9",
   "metadata": {},
   "source": [
    "Yes! we can create a nested dictionary."
   ]
  },
  {
   "cell_type": "code",
   "execution_count": 29,
   "id": "35f9ff5e",
   "metadata": {},
   "outputs": [
    {
     "data": {
      "text/plain": [
       "{'name': 'Adarsh',\n",
       " 'details': {'age': 32, 'city': 'pune', 'phone_type': 'android'}}"
      ]
     },
     "execution_count": 29,
     "metadata": {},
     "output_type": "execute_result"
    }
   ],
   "source": [
    "#  simple one-level nested dictionary\n",
    "\n",
    "nested_dict = {\"name\": \"Adarsh\", 'details': {\"age\":32, \"city\":'pune', 'phone_type': 'android'}}\n",
    "nested_dict"
   ]
  },
  {
   "cell_type": "markdown",
   "id": "d04452c4",
   "metadata": {},
   "source": [
    "### Q7. Using setdefault() method, create key named \"topics\" in the given dictionary and also add the value of the key as this list ['Python', 'Machine Learning’, 'Deep Learning']\n",
    "\n",
    "### dict1 = {'language' : 'Python', 'course': 'Data Science Masters'}"
   ]
  },
  {
   "cell_type": "code",
   "execution_count": 33,
   "id": "1866a81c",
   "metadata": {},
   "outputs": [
    {
     "data": {
      "text/plain": [
       "{'language': 'Python',\n",
       " 'course': 'Data Science Masters',\n",
       " 'topics': ['Python', 'Machine Learning', 'Deep Learning']}"
      ]
     },
     "execution_count": 33,
     "metadata": {},
     "output_type": "execute_result"
    }
   ],
   "source": [
    "topics =  ['Python', 'Machine Learning', 'Deep Learning']\n",
    "dict1 = {'language' : 'Python', 'course': 'Data Science Masters'}\n",
    "\n",
    "dict1.setdefault(\"topics\", topics)\n",
    "\n",
    "dict1"
   ]
  },
  {
   "cell_type": "markdown",
   "id": "4550c789",
   "metadata": {},
   "source": [
    "### Q8. What are the three view objects in dictionaries? Use the three in-built methods in python to display these three view objects for the given dictionary.\n",
    "\n",
    "### dict1 = {'Sport': 'Cricket' , 'Teams': ['India', 'Australia', 'England', 'South Africa', 'Sri Lanka', 'New Zealand']}"
   ]
  },
  {
   "cell_type": "markdown",
   "id": "cce26ac6",
   "metadata": {},
   "source": [
    "Three 'view' objects in dictonaries are:\n",
    "* keys view\n",
    "* values view\n",
    "* items view"
   ]
  },
  {
   "cell_type": "code",
   "execution_count": 36,
   "id": "817791a0",
   "metadata": {},
   "outputs": [
    {
     "name": "stdout",
     "output_type": "stream",
     "text": [
      "keys view:\n",
      " dict_keys(['Sport', 'Teams'])\n",
      "\n",
      "\n",
      "values view:\n",
      " dict_values(['Cricket', ['India', 'Australia', 'England', 'South Africa', 'Sri Lanka', 'New Zealand']])\n",
      "\n",
      "\n",
      "items view:\n",
      " dict_items([('Sport', 'Cricket'), ('Teams', ['India', 'Australia', 'England', 'South Africa', 'Sri Lanka', 'New Zealand'])])\n"
     ]
    }
   ],
   "source": [
    "dict1 = {'Sport': 'Cricket' , 'Teams': ['India', 'Australia', 'England', 'South Africa', 'Sri Lanka', 'New Zealand']}\n",
    "\n",
    "print(\"keys view:\\n\",dict1.keys())\n",
    "print(\"\\n\")\n",
    "print(\"values view:\\n\",dict1.values())\n",
    "print(\"\\n\")\n",
    "print(\"items view:\\n\",dict1.items())"
   ]
  },
  {
   "cell_type": "code",
   "execution_count": null,
   "id": "bef8b2bc",
   "metadata": {},
   "outputs": [],
   "source": []
  }
 ],
 "metadata": {
  "kernelspec": {
   "display_name": "Python 3 (ipykernel)",
   "language": "python",
   "name": "python3"
  },
  "language_info": {
   "codemirror_mode": {
    "name": "ipython",
    "version": 3
   },
   "file_extension": ".py",
   "mimetype": "text/x-python",
   "name": "python",
   "nbconvert_exporter": "python",
   "pygments_lexer": "ipython3",
   "version": "3.9.12"
  }
 },
 "nbformat": 4,
 "nbformat_minor": 5
}
