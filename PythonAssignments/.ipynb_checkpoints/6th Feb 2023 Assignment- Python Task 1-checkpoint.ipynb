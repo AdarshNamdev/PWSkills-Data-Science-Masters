{
 "cells": [
  {
   "cell_type": "markdown",
   "id": "982f580c",
   "metadata": {},
   "source": [
    "### Q1. Create a function which will take a list as an argument and return the product of all the numbers after creating a flat list. Use the below-given list as an argument for your function.\n",
    "\n",
    "\n",
    "```list1 = [1,2,3,4, [44,55,66, True], False, (34,56,78,89,34), {1,2,3,3,2,1}, {1:34, \"key2\": [55, 67, 78, 89], 4: (45,22, 61, 34)}, [56, 'data science'], 'Machine Learning']```\n",
    "\n",
    "\n",
    "### Note: you must extract numeric keys and values of the dictionary also."
   ]
  },
  {
   "cell_type": "code",
   "execution_count": 55,
   "id": "d7dd2931",
   "metadata": {},
   "outputs": [
    {
     "name": "stdout",
     "output_type": "stream",
     "text": [
      "[1, 2, 3, 4, 44, 55, 66, True, 34, 56, 78, 89, 34, 1, 2, 3, 1, 4, 34, 55, 67, 78, 89, 45, 22, 61, 34, 56]\n",
      "\n",
      "product of all the numbers after creating a flat list:  4134711838987085478833841242112000\n"
     ]
    }
   ],
   "source": [
    "from functools import reduce\n",
    "\n",
    "def check_and_multiply(obj, all_number = None):\n",
    "    \"\"\"\n",
    "    This function will check what kind of data is received. is it list, int, flpat, tuple or dict.\n",
    "    based on that it will try to fetch the numeric values.\n",
    "    \n",
    "    THIS IS VERY HARD CODED to serve the given list only!!!\n",
    "    \"\"\"\n",
    "    all_number = []\n",
    "    \n",
    "    if type(obj) in (int, float): #isinstance(obj, int) or isinstance(obj, float):\n",
    "        all_number.append(obj)\n",
    "\n",
    "    elif type(obj) in (list, tuple): #isinstance(obj, list) or isinstance(obj, tuple):\n",
    "        for i in obj:\n",
    "            if isinstance(i,int) or isinstance(i, float):\n",
    "                all_number.append(i)\n",
    "    \n",
    "    elif isinstance(obj, dict):\n",
    "        for k in list(obj.keys()):\n",
    "            if isinstance(k,int) or isinstance(k, float):\n",
    "                all_number.append(k)\n",
    "                \n",
    "        for val in list(obj.values()):\n",
    "            if isinstance(val,int) or isinstance(val, float):\n",
    "                all_number.append(val)\n",
    "            elif isinstance(val, list) or isinstance(val, tuple):\n",
    "                for a in val:\n",
    "                    if isinstance(a,int) or isinstance(a, float):\n",
    "                        all_number.append(a)\n",
    "                \n",
    "    elif isinstance(obj, set):\n",
    "        for j in obj:\n",
    "            if isinstance(j,int) or isinstance(j, float):\n",
    "                all_number.append(j)\n",
    "    \n",
    "    \n",
    "    #prd = lambda x,y: x*y    \n",
    "    #return reduce(prd, all_number)\n",
    "    return all_number\n",
    "\n",
    "\n",
    "list1 = [\"Hello\",1,2,3,4, [44,55,66, True], False, (34,56,78,89,34), {1,2,3,3,2,1}, \\\n",
    "         {1:34, \"key2\": [55, 67, 78, 89], 4: (45,22, 61, 34)}, \\\n",
    "         [56, 'data science'], 'Machine Learning']\n",
    "\n",
    "flattened_lst = []\n",
    "\n",
    "for element in list1:\n",
    "    #print(element)\n",
    "    numlist = check_and_multiply(element)\n",
    "    #print(numlist)\n",
    "    #flattened_lst.append(someprd)\n",
    "    flattened_lst.extend(numlist)\n",
    "\n",
    "# captured all the numeric values from given list\n",
    "print(flattened_lst)\n",
    "\n",
    "final_product = reduce(lambda x,y:x*y, flattened_lst)\n",
    "\n",
    "print(\"\\nproduct of all the numbers after creating a flat list: \", final_product)"
   ]
  },
  {
   "cell_type": "code",
   "execution_count": 2,
   "id": "6e60d9ba",
   "metadata": {},
   "outputs": [
    {
     "data": {
      "text/plain": [
       "(True, bool, bool)"
      ]
     },
     "execution_count": 2,
     "metadata": {},
     "output_type": "execute_result"
    }
   ],
   "source": [
    "isinstance(True,bool), type(True), False.__class__"
   ]
  },
  {
   "cell_type": "markdown",
   "id": "4fced41c",
   "metadata": {},
   "source": [
    "## Another solution to above question... a generic solution !"
   ]
  },
  {
   "cell_type": "code",
   "execution_count": 62,
   "id": "04c91517",
   "metadata": {},
   "outputs": [
    {
     "name": "stdout",
     "output_type": "stream",
     "text": [
      "collected numbers from collection: \n",
      " [1, 2, 3, 4, 44, 55, 66, 34, 56, 78, 89, 34, 1, 2, 3, 1, 4, 34, 55, 67, 78, 89, 45, 22, 61, 34, 56]\n",
      "\n",
      "Product :  4134711838987085478833841242112000\n"
     ]
    }
   ],
   "source": [
    "\n",
    "# test1 = [\"Hello\",1,2,3,4, [44,55,66, True], False, [101,202,303]]\n",
    "\n",
    "\n",
    "# test2 = [\"Hello\",1,2,3,4, [44,55,66, True], False, (34,56,78,89,34), {1,2,3,3,2,1}, \\\n",
    "#          {1:34, \"key2\": [111, 222, 333, 444], 4: (101,202, 303, 404), (1.1,2.2,3.3,4.4): {'aa':9999, 'bb': 8888}}, \\\n",
    "#          [56, 'data science'], 'Machine Learning']\n",
    "\n",
    "\n",
    "list1 = [1,2,3,4, [44,55,66, True], False, (34,56,78,89,34),\\\n",
    "         {1,2,3,3,2,1}, \\\n",
    "         {1:34, \"key2\": [55, 67, 78, 89], 4: (45,22, 61, 34)}, \\\n",
    "         [56, 'data science'], 'Machine Learning']\n",
    "\n",
    "def collect_numbers(collection):\n",
    "    templist = []\n",
    "    \n",
    "    for i in collection:        \n",
    "        if type(i) in (int, float):\n",
    "            templist.append(i)\n",
    "\n",
    "        elif type(i) in (list, set, tuple):\n",
    "            newtemplist = templist.copy()\n",
    "            templist = newtemplist + collect_numbers(i)\n",
    "            \n",
    "            \n",
    "        elif type(i) is dict:\n",
    "            all_keys = i.keys()\n",
    "            all_values = i.values()\n",
    "            \n",
    "            newtemplist = templist.copy()\n",
    "            templist = newtemplist + collect_numbers(all_keys) + collect_numbers(all_values)\n",
    "            \n",
    "    \n",
    "    return templist\n",
    "\n",
    "\n",
    "collected_nums = collect_numbers(list1)\n",
    "\n",
    "print(\"collected numbers from collection: \\n\", collected_nums)\n",
    "\n",
    "product = reduce(lambda x,y: x*y, collected_nums)\n",
    "\n",
    "print(\"\\nProduct : \",product)"
   ]
  },
  {
   "cell_type": "markdown",
   "id": "d1c34368",
   "metadata": {},
   "source": [
    "### Q2. Write a python program for encrypting a message sent to you by your friend. \n",
    "\n",
    "### The logic of encryptionshould be such that, for ```a``` the output should be ```z```. For ```b```, the output should be ```y```. For ```c```, the output should be ```x``` respectively. Also, the ```whitespace``` should be replaced with a ```dollar sign```. Keep the punctuation marks unchanged.\n",
    "\n",
    "\n",
    "### Input Sentence: I want to become a Data Scientist. \n",
    "### Encrypt the above input sentence using the program you just created. \n",
    "### Note: Convert the given input sentence into lowercase before encrypting. The final output should be lowercase"
   ]
  },
  {
   "cell_type": "code",
   "execution_count": 3,
   "id": "6b740194",
   "metadata": {},
   "outputs": [],
   "source": [
    "\"\"\"\n",
    "a-> z\n",
    "b-> y\n",
    "c-> x\n",
    "....\n",
    "\" \"-> $\n",
    "\n",
    "\"\"\"\n",
    "\n",
    "def encrypt(sometxt):\n",
    "    sometxt = str.lower(sometxt)\n",
    "    unicode_z_a = [i for i in range(122, 96, -1)] # this list will have all the unicode for characters from 'a' to 'z'\n",
    "    all_chrs = [chr(i) for i in range(97, 123)]   # this list will capture all the character based on unicode\n",
    "    \n",
    "    encryption_key_dict = dict(zip(all_chrs, unicode_z_a))\n",
    "    encrypted_msg = \"\"\n",
    "    \n",
    "    for letter in sometxt:\n",
    "        if ord(letter)==32:\n",
    "            encrypted_msg = encrypted_msg+'$'\n",
    "        \n",
    "        elif letter in encryption_key_dict:\n",
    "            encrypted_msg = encrypted_msg +chr(encryption_key_dict[letter])\n",
    "        \n",
    "        else:\n",
    "            encrypted_msg = encrypted_msg+letter\n",
    "        \n",
    "    return encrypted_msg"
   ]
  },
  {
   "cell_type": "code",
   "execution_count": 4,
   "id": "ed12d5c6",
   "metadata": {},
   "outputs": [
    {
     "name": "stdout",
     "output_type": "stream",
     "text": [
      "Original Text is:  I want to become a Data Scientist.\n",
      "\r\n",
      "Encrypted Msg is:  r$dzmg$gl$yvxlnv$z$wzgz$hxrvmgrhg.\n"
     ]
    }
   ],
   "source": [
    "#print(encrypt(\" Hello World !\"))\n",
    "\n",
    "input_text = \"I want to become a Data Scientist.\"\n",
    "\n",
    "print(\"Original Text is: \", input_text)\n",
    "print(\"\\r\")\n",
    "print(\"Encrypted Msg is: \", encrypt(input_text))"
   ]
  },
  {
   "cell_type": "code",
   "execution_count": null,
   "id": "6d5df49d",
   "metadata": {},
   "outputs": [],
   "source": [
    "\n"
   ]
  },
  {
   "cell_type": "code",
   "execution_count": null,
   "id": "60b2f238",
   "metadata": {},
   "outputs": [],
   "source": []
  },
  {
   "cell_type": "code",
   "execution_count": null,
   "id": "f1a99e5c",
   "metadata": {},
   "outputs": [],
   "source": []
  },
  {
   "cell_type": "code",
   "execution_count": null,
   "id": "cb26b3c4",
   "metadata": {},
   "outputs": [],
   "source": []
  }
 ],
 "metadata": {
  "kernelspec": {
   "display_name": "Python 3 (ipykernel)",
   "language": "python",
   "name": "python3"
  },
  "language_info": {
   "codemirror_mode": {
    "name": "ipython",
    "version": 3
   },
   "file_extension": ".py",
   "mimetype": "text/x-python",
   "name": "python",
   "nbconvert_exporter": "python",
   "pygments_lexer": "ipython3",
   "version": "3.9.12"
  }
 },
 "nbformat": 4,
 "nbformat_minor": 5
}
