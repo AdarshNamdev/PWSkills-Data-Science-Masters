{
 "cells": [
  {
   "cell_type": "markdown",
   "id": "c13c91f3",
   "metadata": {},
   "source": [
    "### Q1. Which keyword is used to create a function? Create a function to return a list of odd numbers in the range of 1 to 25."
   ]
  },
  {
   "cell_type": "markdown",
   "id": "470e8629",
   "metadata": {},
   "source": [
    "keyword thats used to create a fuction is: **def**"
   ]
  },
  {
   "cell_type": "code",
   "execution_count": 32,
   "id": "d762b1e2",
   "metadata": {},
   "outputs": [
    {
     "name": "stdout",
     "output_type": "stream",
     "text": [
      "Odd numbers:  [1, 3, 5, 7, 9, 11, 13, 15, 17, 19, 21, 23]\n"
     ]
    }
   ],
   "source": [
    "def return_odds(range_of_nums):\n",
    "    # print(range_of_nums)\n",
    "    odds = []\n",
    "    for num in range_of_nums:\n",
    "        if num%2 != 0:\n",
    "            odds.append(num)\n",
    "            \n",
    "    return odds\n",
    "\n",
    "\n",
    "print(\"Odd numbers: \",return_odds(range(1,25)))\n",
    "        "
   ]
  },
  {
   "cell_type": "markdown",
   "id": "29ca9aca",
   "metadata": {},
   "source": [
    "### Q2. Why \\* args and \\** kwargs is used in some functions? Create a function each for * args and ** kwargs to demonstrate their use."
   ]
  },
  {
   "cell_type": "markdown",
   "id": "c6f19b4a",
   "metadata": {},
   "source": [
    "\\*args and \\**kwargs are used to packing and unpacking the data\n",
    "\n",
    "\n",
    "__\\*args:__\n",
    "\n",
    "Scenario #1:\n",
    "\n",
    "When * is used in the function call, its used with a list of tuple data structure. With this notation, all the elelemtns inside list/tuple (passed in function call) gets <u>**unpacked**</u> and put into the respective keyworded arguments in the function definition.\n",
    "\n",
    "see example below."
   ]
  },
  {
   "cell_type": "code",
   "execution_count": 14,
   "id": "b5e34679",
   "metadata": {},
   "outputs": [
    {
     "name": "stdout",
     "output_type": "stream",
     "text": [
      "sum of all the numbers:  60\n"
     ]
    }
   ],
   "source": [
    "# example 1:\n",
    "# putting \"*\" while calling the functions\n",
    "\n",
    "def func1(a,b,c):\n",
    "    \"\"\"finding the sum of numbers\"\"\"\n",
    "    \n",
    "    return a+b+c\n",
    "\n",
    "print(\"sum of all the numbers: \",func1(*[10,20,30]))"
   ]
  },
  {
   "cell_type": "markdown",
   "id": "6c9c6b8f",
   "metadata": {},
   "source": [
    "Scenario #2:\n",
    "\n",
    "When * is used in the function definition, then in this case no data is simply passed in the function call, without using any keyworded arguments. Using * in function definition will get <u>**packed** inside a tuple</u>.\n",
    "\n",
    "see example below."
   ]
  },
  {
   "cell_type": "code",
   "execution_count": 15,
   "id": "39ff9119",
   "metadata": {},
   "outputs": [
    {
     "data": {
      "text/plain": [
       "('Hello', 'World', \"I'm\", 'Adarsh')"
      ]
     },
     "execution_count": 15,
     "metadata": {},
     "output_type": "execute_result"
    }
   ],
   "source": [
    "# exampl 2:\n",
    "def func2(*somedata):\n",
    "    return somedata\n",
    "\n",
    "func2(\"Hello\", \"World\", \"I'm\", \"Adarsh\")"
   ]
  },
  {
   "cell_type": "markdown",
   "id": "27cb8cfd",
   "metadata": {},
   "source": [
    "__\\**kwargs__\n",
    "\n",
    "Scenario #1\n",
    "\n",
    "When we have keyworded arguments in the function call, then with the help of \\**kwargs in the function definion we can __pack those keyworded arguments inside a dictioanry__\n",
    "\n",
    "see example #3"
   ]
  },
  {
   "cell_type": "code",
   "execution_count": 16,
   "id": "65e4f121",
   "metadata": {},
   "outputs": [
    {
     "data": {
      "text/plain": [
       "{'a': 'Adarsh', 'b': 'Namdev', 'c': 32, 'd': True}"
      ]
     },
     "execution_count": 16,
     "metadata": {},
     "output_type": "execute_result"
    }
   ],
   "source": [
    "def func3(**packed_in_dict):\n",
    "    \n",
    "    return packed_in_dict\n",
    "\n",
    "\n",
    "func3(a=\"Adarsh\", b = \"Namdev\", c=32, d= True)"
   ]
  },
  {
   "cell_type": "markdown",
   "id": "a77d92b0",
   "metadata": {},
   "source": [
    "Scenario #2\n",
    "\n",
    "When we have keyworded arguments in the function definition, then we can pass a dctionary in the function while calling it, and using \\**kwargs, which will eventually unpack the dictionary. We have to make sure that what ever keys we have in the dictionary, we must be having the arguments presetn with the same name passed in function definition\n",
    "\n",
    "\n",
    "see example #4"
   ]
  },
  {
   "cell_type": "code",
   "execution_count": 21,
   "id": "5bb30c46",
   "metadata": {},
   "outputs": [
    {
     "name": "stdout",
     "output_type": "stream",
     "text": [
      "apple -- ball -- cat\n"
     ]
    }
   ],
   "source": [
    "def func4(aa,bb,cc):\n",
    "    print(aa,\"--\",bb,\"--\",cc)\n",
    "    \n",
    "\n",
    "mydict = {'aa': 'apple', \"bb\":\"ball\", \"cc\":\"cat\"}\n",
    "\n",
    "func4(**mydict)"
   ]
  },
  {
   "cell_type": "markdown",
   "id": "01b39cb6",
   "metadata": {},
   "source": [
    "### Q3. What is an iterator in python? Name the method used to initialise the iterator object and the method used for iteration. Use these methods to print the first five elements of the given list [2, 4, 6, 8, 10, 12, 14, 16, 18, 20]."
   ]
  },
  {
   "cell_type": "markdown",
   "id": "4bdb76a4",
   "metadata": {},
   "source": [
    "An iterator is an object which is returned by an iterable. These iterators has a method called __next()__ which is internally called while we go over/access elements of the iterable. While there are elements present inside the iterable, __next()__ method will keep giving those and once exhausted we will get __StopIteration__.\n",
    "\n",
    "an iterator object is initialised by using the mehtod __iter()__"
   ]
  },
  {
   "cell_type": "code",
   "execution_count": 30,
   "id": "afeb69b5",
   "metadata": {},
   "outputs": [
    {
     "name": "stdout",
     "output_type": "stream",
     "text": [
      "2\n",
      "4\n",
      "6\n",
      "8\n",
      "10\n"
     ]
    }
   ],
   "source": [
    "# example:\n",
    "\n",
    "l = iter([2, 4, 6, 8, 10, 12, 14, 16, 18, 20])\n",
    "\n",
    "i = 5\n",
    "while i:\n",
    "    print(next(l))\n",
    "    i -= 1"
   ]
  },
  {
   "cell_type": "markdown",
   "id": "a453481d",
   "metadata": {},
   "source": [
    "### Q4. What is a generator function in python? Why yield keyword is used? Give an example of a generator function."
   ]
  },
  {
   "cell_type": "markdown",
   "id": "1acfe504",
   "metadata": {},
   "source": [
    "Generators are iterable objects, that means we can iterate over them to make use of their elements. Unlike functions who keeps the entire data inside the memory, generators keeps the track of the state they were in while execution, i.e. generators remember the last position they worked on. Generators are memory efficient becuase of state retentin capability.\n",
    "\n",
    "__Yield__ is the keyword with which a generator throws the output and stops there until its called again."
   ]
  },
  {
   "cell_type": "code",
   "execution_count": 37,
   "id": "08c06a29",
   "metadata": {},
   "outputs": [
    {
     "name": "stdout",
     "output_type": "stream",
     "text": [
      "1\n",
      "3\n",
      "5\n",
      "7\n",
      "9\n",
      "11\n",
      "13\n",
      "15\n"
     ]
    }
   ],
   "source": [
    "# generator example:\n",
    "\n",
    "def oddnum_generator(*all_nums):\n",
    "    for num in all_nums:\n",
    "        if num % 2 != 0:\n",
    "            yield num\n",
    "\n",
    "odd_gen = oddnum_generator(1,2,3,4,5,6,7,8,9,10,11,12,13,14,15)\n",
    "\n",
    "for i in odd_gen:\n",
    "    print(i)"
   ]
  },
  {
   "cell_type": "markdown",
   "id": "7f003429",
   "metadata": {},
   "source": [
    "### Q5. Create a generator function for prime numbers less than 1000. Use the next() method to print the first 20 prime numbers."
   ]
  },
  {
   "cell_type": "code",
   "execution_count": 77,
   "id": "f9bb8282",
   "metadata": {},
   "outputs": [
    {
     "name": "stdout",
     "output_type": "stream",
     "text": [
      "<generator object prime_generator at 0x00000268D7761AC0> \n",
      "\n",
      "printing first 20 primes between [0-1000]:\n",
      "\n",
      "2 - 3 - 5 - 7 - 11 - 13 - 17 - 19 - 23 - 29 - 31 - 37 - 41 - 43 - 47 - 53 - 59 - 61 - 67 - 71 - "
     ]
    }
   ],
   "source": [
    "def prime_generator(seq):\n",
    "    # print(list(seq))\n",
    "    for num in seq:\n",
    "        div_count = 0\n",
    "        div = 1\n",
    "        while div <= num:\n",
    "            if num % div == 0:\n",
    "                div_count += 1\n",
    "            if div_count > 2:                    \n",
    "                break           \n",
    "            div += 1\n",
    "        \n",
    "        if div_count == 2:\n",
    "            yield num\n",
    "                    \n",
    "primes = prime_generator(range(1,1001))\n",
    "\n",
    "print(primes,\"\\n\")\n",
    "\n",
    "print(\"printing first 20 primes between [0-1000]:\\n\")\n",
    "\n",
    "n = 1\n",
    "while n <= 20:\n",
    "    print(next(primes), end = \" - \")\n",
    "    n += 1\n"
   ]
  },
  {
   "cell_type": "code",
   "execution_count": null,
   "id": "9f50de36",
   "metadata": {},
   "outputs": [],
   "source": []
  },
  {
   "cell_type": "code",
   "execution_count": null,
   "id": "eaf36924",
   "metadata": {},
   "outputs": [],
   "source": []
  }
 ],
 "metadata": {
  "kernelspec": {
   "display_name": "Python 3 (ipykernel)",
   "language": "python",
   "name": "python3"
  },
  "language_info": {
   "codemirror_mode": {
    "name": "ipython",
    "version": 3
   },
   "file_extension": ".py",
   "mimetype": "text/x-python",
   "name": "python",
   "nbconvert_exporter": "python",
   "pygments_lexer": "ipython3",
   "version": "3.9.12"
  }
 },
 "nbformat": 4,
 "nbformat_minor": 5
}
