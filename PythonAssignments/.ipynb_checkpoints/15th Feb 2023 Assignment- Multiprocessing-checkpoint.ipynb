{
 "cells": [
  {
   "cell_type": "markdown",
   "id": "aca900a1",
   "metadata": {},
   "source": [
    "### Q1. What is multiprocessing in python? Why is it useful?"
   ]
  },
  {
   "cell_type": "markdown",
   "id": "307b2392",
   "metadata": {},
   "source": [
    "Multprocessing is way by means of which one or more than one program can be run simultaneous on different cores of the CPU. Using multiprocessing we can utilized different cores of the CPU to employ them on a compute intensive task inorder to reduce the run time of the program. In case of python we can use multiprocessing for both I/O bound and CPU bound task as well."
   ]
  },
  {
   "cell_type": "markdown",
   "id": "6c07aa26",
   "metadata": {},
   "source": [
    "### Q2. What are the differences between multiprocessing and multithreading?"
   ]
  },
  {
   "cell_type": "markdown",
   "id": "5753b8f9",
   "metadata": {},
   "source": [
    "<font color = 'blue'>__Processes vs. Threads:__</font>\n",
    "\n",
    "__Multiprocessing:__ In multiprocessing, multiple independent processes run concurrently. Each process has its memory space and resources. Processes do not share memory by default, which makes them suitable for tasks that require isolation and parallelism.\n",
    "\n",
    "__Multithreading:__ Multithreading involves multiple threads of execution within a single process. Threads share the same memory space and resources of the parent process. They are suitable for tasks that benefit from shared memory and communication.\n",
    "\n",
    "\n",
    "<font color = 'blue'>__Isolation:__</font>\n",
    "\n",
    "__Multiprocessing:__ Processes are isolated from each other, which means that one process's errors or crashes do not typically affect others. This isolation provides greater stability but may require inter-process communication mechanisms for collaboration.\n",
    "\n",
    "__Multithreading:__ Threads within the same process share memory and resources. This shared memory can lead to data synchronization and concurrency issues, such as race conditions and deadlocks, which need to be carefully managed.\n",
    "\n",
    "\n",
    "<font color = 'blue'>__Communication:__</font>\n",
    "\n",
    "__Multiprocessing:__ Inter-process communication (IPC) is required for processes to communicate or share data. IPC mechanisms can include pipes, queues, shared memory, and sockets.\n",
    "\n",
    "__Multithreading:__ Threads within the same process can communicate directly through shared memory, variables, or data structures. This can simplify data sharing but requires careful synchronization to avoid issues.\n",
    "\n",
    "\n",
    "<font color = 'blue'>__Resource Overhead:__</font>\n",
    "\n",
    "__Multiprocessing:__ Each process consumes its memory and resources, which can lead to higher resource overhead compared to multithreading. Starting and managing processes can also be more resource-intensive.\n",
    "\n",
    "__Multithreading:__ Threads within the same process share resources, leading to lower resource overhead. Creating and managing threads is typically more lightweight than processes.\n",
    "\n",
    "\n",
    "<font color = 'blue'>__Parallelism vs. Concurrency:__</font>\n",
    "\n",
    "__Multiprocessing:__ Multiprocessing is suitable for achieving true parallelism, as processes run on separate CPU cores simultaneously. It is ideal for CPU-bound tasks and can take full advantage of multi-core processors.\n",
    "\n",
    "__Multithreading:__ Multithreading provides concurrency, allowing multiple threads to execute in an interleaved manner. While it can take advantage of multi-core processors for parallelism to some extent, it may not achieve the same level of parallelism as multiprocessing, especially for CPU-bound tasks"
   ]
  },
  {
   "cell_type": "markdown",
   "id": "b85f4ea6",
   "metadata": {},
   "source": [
    "### Q3. Write a python code to create a process using the multiprocessing module.\n"
   ]
  },
  {
   "cell_type": "code",
   "execution_count": null,
   "id": "91619168",
   "metadata": {},
   "outputs": [],
   "source": []
  },
  {
   "cell_type": "code",
   "execution_count": null,
   "id": "d2d7993e",
   "metadata": {},
   "outputs": [],
   "source": []
  },
  {
   "cell_type": "code",
   "execution_count": null,
   "id": "2fe363b1",
   "metadata": {},
   "outputs": [],
   "source": []
  },
  {
   "cell_type": "code",
   "execution_count": null,
   "id": "945912fd",
   "metadata": {},
   "outputs": [],
   "source": []
  },
  {
   "cell_type": "code",
   "execution_count": null,
   "id": "f5261d21",
   "metadata": {},
   "outputs": [],
   "source": []
  },
  {
   "cell_type": "code",
   "execution_count": null,
   "id": "d51237bf",
   "metadata": {},
   "outputs": [],
   "source": []
  },
  {
   "cell_type": "code",
   "execution_count": null,
   "id": "f7a14e60",
   "metadata": {},
   "outputs": [],
   "source": []
  },
  {
   "cell_type": "code",
   "execution_count": null,
   "id": "f0096a5f",
   "metadata": {},
   "outputs": [],
   "source": []
  }
 ],
 "metadata": {
  "kernelspec": {
   "display_name": "Python 3 (ipykernel)",
   "language": "python",
   "name": "python3"
  },
  "language_info": {
   "codemirror_mode": {
    "name": "ipython",
    "version": 3
   },
   "file_extension": ".py",
   "mimetype": "text/x-python",
   "name": "python",
   "nbconvert_exporter": "python",
   "pygments_lexer": "ipython3",
   "version": "3.9.12"
  }
 },
 "nbformat": 4,
 "nbformat_minor": 5
}
