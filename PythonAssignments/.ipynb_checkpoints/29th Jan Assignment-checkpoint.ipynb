{
 "cells": [
  {
   "cell_type": "markdown",
   "id": "fa97528c",
   "metadata": {},
   "source": [
    "### 1.) Who developed Python Programming languages?\n",
    "\n",
    "Guido Van Rossum"
   ]
  },
  {
   "cell_type": "markdown",
   "id": "850f7424",
   "metadata": {},
   "source": [
    "### 2.) Which type of programming does python support?\n",
    "\n",
    "Object Oriented Programming style, general scripting and functional programming too. "
   ]
  },
  {
   "cell_type": "markdown",
   "id": "c9f0223e",
   "metadata": {},
   "source": [
    "### 3.) Is python case sensitive when dealing with identifier?\n",
    "\n",
    "yes. In python a variable defined as __'var_a'__ is different to __'Var_a'__"
   ]
  },
  {
   "cell_type": "markdown",
   "id": "5f94f185",
   "metadata": {},
   "source": [
    "### 4.) What is the correct extension of the python file?\n",
    "\n",
    "__.py__ is the extension."
   ]
  },
  {
   "cell_type": "markdown",
   "id": "b57aa881",
   "metadata": {},
   "source": [
    "### 5.) Is python code compiled or interpreted?\n",
    "\n",
    "python code is interpreted."
   ]
  },
  {
   "cell_type": "markdown",
   "id": "6863e051",
   "metadata": {},
   "source": [
    "### 6.) Name a few block of codes used to define in python languages?\n",
    "\n",
    "__for__, __while__, __def__, __class__, __if__, __else__ they all have indented block to write code inside."
   ]
  },
  {
   "cell_type": "markdown",
   "id": "a107f2ef",
   "metadata": {},
   "source": [
    "### 7.) State a character used to give single-line comments in python?\n",
    "\n",
    "Character used is __#__ for commenting a single line."
   ]
  },
  {
   "cell_type": "markdown",
   "id": "e3b44fab",
   "metadata": {},
   "source": [
    "### 8.) Mention functions which can help us to find the version of python that we are currently workng on ?"
   ]
  },
  {
   "cell_type": "code",
   "execution_count": 5,
   "id": "9ad7d77c",
   "metadata": {},
   "outputs": [
    {
     "name": "stdout",
     "output_type": "stream",
     "text": [
      "3.9.12 (main, Apr  4 2022, 05:22:27) [MSC v.1916 64 bit (AMD64)]\n"
     ]
    }
   ],
   "source": [
    "import sys\n",
    "print(sys.version)"
   ]
  },
  {
   "cell_type": "markdown",
   "id": "223fe31f",
   "metadata": {},
   "source": [
    "### 9.) Python supports the creation of anonymous functions at runtim, using a construcnt called ....\n",
    "\n",
    "__lambda__"
   ]
  },
  {
   "cell_type": "markdown",
   "id": "21c9a050",
   "metadata": {},
   "source": [
    "### 10.) What does pip stands for in python ?\n",
    "\n",
    "PIP is called- preferred installer program"
   ]
  },
  {
   "cell_type": "markdown",
   "id": "d462fd1c",
   "metadata": {},
   "source": [
    "### 11.) Mention a few built-in function in pyton?\n",
    "\n",
    "type(), str(), int(), float(), complex(), list(), tuple(), sum(), max(), min(), range(), sorted(), reversed()...    "
   ]
  },
  {
   "cell_type": "markdown",
   "id": "cd1fe7d7",
   "metadata": {},
   "source": [
    "### 12.) what is the maximum possible length of an identifier in python?\n",
    "\n",
    "79 characters"
   ]
  },
  {
   "cell_type": "markdown",
   "id": "25f3e6da",
   "metadata": {},
   "source": [
    "### 13.) What are the benefits of python?\n",
    "\n",
    "a.) Python is easy to pick up as the first programming language for any beginner.<br>\n",
    "b.) It also gives confidence to the newbies and less intimidating compated to other languages. <br>\n",
    "c.) flexible and help complete a task in less number of lines compared to another languages.<br>\n",
    "d.) popular for being used in Data Science area.<br>\n",
    "e.) has numerous libraries for any use case.<br>"
   ]
  },
  {
   "cell_type": "markdown",
   "id": "5b16329e",
   "metadata": {},
   "source": [
    "### 14.) How is memory managed in pyton?\n",
    "\n",
    "Memory management in Python involves a private heap containing all Python objects and data structures. The management of this private heap is ensured internally by the Python memory manager."
   ]
  },
  {
   "cell_type": "markdown",
   "id": "c6d66dbf",
   "metadata": {},
   "source": [
    "### 15.) Is indentation required in python?\n",
    "\n",
    "Yes! When ever we have to write loop statments, conditional statements, define functions and classes etc. "
   ]
  },
  {
   "cell_type": "code",
   "execution_count": null,
   "id": "4817d177",
   "metadata": {},
   "outputs": [],
   "source": []
  }
 ],
 "metadata": {
  "kernelspec": {
   "display_name": "Python 3 (ipykernel)",
   "language": "python",
   "name": "python3"
  },
  "language_info": {
   "codemirror_mode": {
    "name": "ipython",
    "version": 3
   },
   "file_extension": ".py",
   "mimetype": "text/x-python",
   "name": "python",
   "nbconvert_exporter": "python",
   "pygments_lexer": "ipython3",
   "version": "3.9.12"
  }
 },
 "nbformat": 4,
 "nbformat_minor": 5
}
