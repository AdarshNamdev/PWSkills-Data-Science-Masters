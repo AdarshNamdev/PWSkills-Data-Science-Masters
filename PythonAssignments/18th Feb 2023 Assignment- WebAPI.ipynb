{
 "cells": [
  {
   "cell_type": "markdown",
   "id": "f9bbca59",
   "metadata": {},
   "source": [
    "### Q1. What is an API? Give an example, where an API is used in real life."
   ]
  },
  {
   "cell_type": "markdown",
   "id": "7e5f5568",
   "metadata": {},
   "source": [
    "API stands for Application Programming INterface. An API is sort of a layer that enables communication between several computer systems or software applications by exchanging the information that has been requested by the connected system / software. APIs essentially are used to integrate different systems and allow them to work together.\n",
    "\n",
    "__real life Example:__<br>\n",
    "Consider a weather application on your smartphone that provides real-time weather information. This app doesn't generate weather data on its own; instead, it relies on a weather API to retrieve up-to-date information from a weather data provider's server. "
   ]
  },
  {
   "cell_type": "markdown",
   "id": "bd03a578",
   "metadata": {},
   "source": [
    "### Q2. Give advantages and disadvantages of using API."
   ]
  },
  {
   "cell_type": "markdown",
   "id": "0ebc89c4",
   "metadata": {},
   "source": [
    "<u>__Advantages of Using APIs:__</u>\n",
    "\n",
    "__Interoperability:__ APIs allow different software systems to communicate and work together, promoting interoperability. This is crucial for integrating diverse applications and services.\n",
    "\n",
    "__Modularity:__ APIs promote a modular design, allowing systems to be built in independent components. This makes it easier to update, replace, or extend specific functionalities without affecting the entire system.\n",
    "\n",
    "__Reusability:__ APIs encapsulate specific functionalities, making them reusable across different applications. Developers can leverage existing APIs, saving time and effort in development.\n",
    "\n",
    "__Rapid Development:__ By using APIs, developers can accelerate the development process. Instead of building every component from scratch, they can leverage pre-built functionalities provided by APIs.\n",
    "\n",
    "__Access to Third-Party Services:__ APIs enable applications to access third-party services and data. This facilitates the integration of external functionalities, such as payment gateways, mapping services, social media platforms, etc.\n",
    "\n",
    "__Scalability:__ APIs support scalability by allowing applications to access external resources or services. As demand grows, additional resources can be integrated easily without major modifications to the existing system.\n",
    "\n",
    "__Innovation:__ Developers can innovate and create new features by combining functionalities from multiple APIs. This encourages a collaborative and creative approach to software development.\n",
    "\n",
    "<u>__Disadvantages of Using APIs:__</u>\n",
    "\n",
    "__Dependency on External Services:__ If an application heavily relies on external APIs, its performance may be affected if those APIs experience downtime or are deprecated.\n",
    "\n",
    "__Security Concerns:__ APIs can be vulnerable to security threats if not implemented and managed properly. Issues such as data breaches and unauthorized access may arise.\n",
    "\n",
    "__Limited Control:__ When using third-party APIs, developers have limited control over changes made to the API. Modifications to the API by the provider may impact the functionality of the dependent application.\n",
    "\n",
    "__Data Privacy Concerns:__ When using APIs that involve the exchange of sensitive information, there is a risk of data exposure or privacy concerns. Ensuring secure data transmission and storage is crucial.\n",
    "\n",
    "__Documentation Challenges:__ Inadequate or outdated API documentation can make it difficult for developers to understand how to use the API correctly, leading to integration challenges.\n",
    "\n",
    "__Costs:__ Some APIs may have associated costs, especially if they involve access to premium features or services. Over-reliance on paid APIs can contribute to project expenses.\n",
    "\n",
    "__Versioning Issues:__ Changes or updates to an API may introduce versioning issues for applications relying on older versions. Developers must manage and adapt to evolving API versions to maintain compatibility."
   ]
  },
  {
   "cell_type": "markdown",
   "id": "67fa635f",
   "metadata": {},
   "source": [
    "### Q3. What is a Web API? Differentiate between API and Web API."
   ]
  },
  {
   "cell_type": "markdown",
   "id": "ea522ea7",
   "metadata": {},
   "source": [
    "A Web API (Application Programming Interface) is a type of API specifically designed to be accessed over the web using the HTTP protocol. It provides a way for different software applications to communicate and exchange data, typically in a format such as JSON (JavaScript Object Notation) or XML (eXtensible Markup Language). Web APIs are commonly used in web development to enable interaction between web services, mobile apps, and other online platforms.\n",
    "\n",
    "Web APIs are designed to follow the principles of Representational State Transfer (REST) architecture or sometimes use other architectural styles like GraphQL. RESTful Web APIs are stateless and use standard HTTP methods (GET, POST, PUT, DELETE) for communication. They often involve resources that are identified by unique URLs (Uniform Resource Locators).\n",
    "\n",
    "__Differences Between API and Web API:__\n",
    "\n",
    "Scope:\n",
    "\n",
    "* API (General): API, in a general sense, refers to any set of protocols, routines, and tools that allows different software applications to communicate with each other.\n",
    "\n",
    "* Web API: Web API specifically refers to APIs that are accessible over the web using standard web protocols like HTTP.\n",
    "\n",
    "__Communication Protocol:__\n",
    "\n",
    "* API (General): APIs can use various communication protocols, including but not limited to HTTP. They can be used for communication between software components within the same system or across different systems.\n",
    "* Web API: Web APIs are specifically designed to be accessed over the web, and they commonly use HTTP as the communication protocol. RESTful Web APIs, in particular, adhere to principles that leverage HTTP methods.\n",
    "\n",
    "__Transport:__\n",
    "\n",
    "* API (General): APIs can be used for communication between software components within a single application, between different applications, or between components on different machines.\n",
    "* Web API: Web APIs are designed for communication over the web, allowing interactions between web servers and clients (e.g., browsers, mobile apps).\n",
    "\n",
    "__Data Format:__\n",
    "\n",
    "* API (General): APIs can use various data formats for communication, including JSON, XML, or others, depending on the implementation.\n",
    "* Web API: Web APIs commonly use JSON or XML as data formats for representing the exchanged data. JSON is particularly popular due to its lightweight and human-readable nature.\n",
    "\n",
    "__Examples:__\n",
    "\n",
    "* API (General): APIs can include various types, such as library APIs, operating system APIs, or hardware APIs.\n",
    "* Web API: Examples of Web APIs include RESTful APIs used by web services, social media APIs, payment gateway APIs, etc."
   ]
  },
  {
   "cell_type": "markdown",
   "id": "a5158eed",
   "metadata": {},
   "source": [
    "### Q4. Explain REST and SOAP Architecture. Mention shortcomings of SOAP."
   ]
  },
  {
   "cell_type": "markdown",
   "id": "c0bc08f8",
   "metadata": {},
   "source": [
    "__REST Architecture:__\n",
    "\n",
    "* Stateless, client-server communication.\n",
    "* Resources identified by URIs.\n",
    "* Commonly uses HTTP methods (GET, POST, PUT, DELETE).\n",
    "* Lightweight data formats like JSON.\n",
    "\n",
    "__SOAP Architecture:__\n",
    "\n",
    "* Protocol for exchanging structured information.\n",
    "* XML-based messaging.\n",
    "* Supports complex operations and transactions.\n",
    "* Can use various communication protocols.\n",
    "\n",
    "__Shortcomings of SOAP:__\n",
    "\n",
    "* Complexity.\n",
    "* Performance overhead.\n",
    "* Human-readability challenges.\n",
    "* Stateful interactions can add complexity.\n",
    "* Limited browser support.\n",
    "* Tooling and flexibility concerns."
   ]
  },
  {
   "cell_type": "markdown",
   "id": "be63d034",
   "metadata": {},
   "source": [
    "### Q5. Differentiate between REST and SOAP."
   ]
  },
  {
   "cell_type": "markdown",
   "id": "05883bf7",
   "metadata": {},
   "source": [
    "__REST:__\n",
    "\n",
    "* Architectural style\n",
    "* Stateless, uses standard HTTP\n",
    "* Lightweight data formats (e.g., JSON)\n",
    "* Resources identified by URIs\n",
    "* Stateless, stateless communication\n",
    "* Commonly used in web and mobile applications\n",
    "\n",
    "__SOAP:__\n",
    "\n",
    "* Protocol\n",
    "* Can use various protocols (e.g., HTTP, SMTP)\n",
    "* XML-based messaging\n",
    "* Supports both stateful and stateless communication\n",
    "* More rigid, complex standards\n",
    "* Commonly used in enterprise-level integrations"
   ]
  },
  {
   "cell_type": "code",
   "execution_count": null,
   "id": "87b8004d",
   "metadata": {},
   "outputs": [],
   "source": []
  }
 ],
 "metadata": {
  "kernelspec": {
   "display_name": "Python 3 (ipykernel)",
   "language": "python",
   "name": "python3"
  },
  "language_info": {
   "codemirror_mode": {
    "name": "ipython",
    "version": 3
   },
   "file_extension": ".py",
   "mimetype": "text/x-python",
   "name": "python",
   "nbconvert_exporter": "python",
   "pygments_lexer": "ipython3",
   "version": "3.9.12"
  }
 },
 "nbformat": 4,
 "nbformat_minor": 5
}
