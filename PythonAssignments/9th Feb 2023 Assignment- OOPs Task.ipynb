{
 "cells": [
  {
   "cell_type": "markdown",
   "id": "6a46d7ae",
   "metadata": {},
   "source": [
    "### Q1. Create a vehicle class with an ```init``` method having instance variables as name_of_vehicle, max_speed and average_of_vehicle. \n"
   ]
  },
  {
   "cell_type": "code",
   "execution_count": 2,
   "id": "6fd248ec",
   "metadata": {},
   "outputs": [
    {
     "name": "stdout",
     "output_type": "stream",
     "text": [
      "Vehicle Name: Masserati\n",
      "max speed of vehicle: 230\n",
      "mileage of the vehicle: 15\n"
     ]
    }
   ],
   "source": [
    "class vehicle():\n",
    "    def __init__(self, name_of_vehicle, max_speed, average_of_vehicle):\n",
    "        self.name_of_vehicle = name_of_vehicle\n",
    "        self.max_speed = max_speed\n",
    "        self.average_of_vehicle = average_of_vehicle\n",
    "        \n",
    "    def get_vehicle_details(self):\n",
    "        self.details = \"Vehicle Name: {}\\nmax speed of vehicle: {}\\nmileage of the vehicle: {}\".format(self.name_of_vehicle, self.max_speed, self.average_of_vehicle)\n",
    "        \n",
    "        return self.details\n",
    "    \n",
    "vahan = vehicle(\"Masserati\", 230, 15)\n",
    "print(vahan.get_vehicle_details())"
   ]
  },
  {
   "cell_type": "markdown",
   "id": "6c5cba10",
   "metadata": {},
   "source": [
    "### Q2. Create a ```child class car``` from the vehicle class created in Que 1, which will inherit the vehicle class.Create a method named ```seating_capacity``` which takes ```capacity``` as an argument and ```returns``` the name of the vehicle and its seating capacity.\n"
   ]
  },
  {
   "cell_type": "code",
   "execution_count": 4,
   "id": "2947ec0a",
   "metadata": {},
   "outputs": [
    {
     "name": "stdout",
     "output_type": "stream",
     "text": [
      "BMW has the seating capacity of 5 person\n"
     ]
    }
   ],
   "source": [
    "class car(vehicle):\n",
    "    def seating_capacity(self, capacity):\n",
    "        self.capacity = capacity\n",
    "        return f\"{self.name_of_vehicle.upper()} has the seating capacity of {self.capacity} person\"\n",
    "    \n",
    "\n",
    "bmw = car(\"bmw\", 250, 13)\n",
    "print(bmw.seating_capacity(5))"
   ]
  },
  {
   "cell_type": "markdown",
   "id": "0b388044",
   "metadata": {},
   "source": [
    "### Q3. What is multiple inheritance? Write a python code to demonstrate multiple inheritance."
   ]
  },
  {
   "cell_type": "markdown",
   "id": "2fcf52ce",
   "metadata": {},
   "source": [
    "Multiple inherihance happens when there is a class that inherits the class attributes and methods of two different classes which self-standing as in those parent classes are not linked or shouldn't be getting inherited from/by each other."
   ]
  },
  {
   "cell_type": "code",
   "execution_count": 18,
   "id": "955b836c",
   "metadata": {},
   "outputs": [
    {
     "name": "stdout",
     "output_type": "stream",
     "text": [
      "You ordered IMB-X7 at price $9000\n",
      "\n",
      "IMB-X7:\n",
      "has a battery to run\n",
      "comes with keyboard for typing text\n",
      "comes with display screen\n",
      "has RAM and CPU for computing\n",
      "comes with a built-in camera\n",
      "has dual sim slots (5G supported)\n"
     ]
    }
   ],
   "source": [
    "# example of multiple inheritance\n",
    "\n",
    "class desktop(object):\n",
    "    def __init__(self):\n",
    "        pass\n",
    "    \n",
    "    def has_keyboard(self):\n",
    "        return \"comes with keyboard for typing text\"\n",
    "    \n",
    "    def has_screen(self):\n",
    "        return \"comes with display screen\"\n",
    "    \n",
    "    def has_compute_power(self):\n",
    "        return \"has RAM and CPU for computing\"\n",
    "    \n",
    "class laptop(object):\n",
    "    def __init__(self):\n",
    "        pass\n",
    "    \n",
    "    def has_battery(self):\n",
    "        return \"has a battery to run\"\n",
    "    \n",
    "    def has_camera(self):\n",
    "        return \"comes with a built-in camera\"\n",
    "\n",
    "    \n",
    "class palmtop(desktop, laptop):\n",
    "    \n",
    "    \"\"\"\n",
    "    Inherits from two different classes- 'desktop' and 'laptop'\n",
    "    \"\"\"\n",
    "    \n",
    "    def __init__(self, made, model, price):\n",
    "        self.made = made\n",
    "        self.model = model\n",
    "        self.price = price\n",
    "        \n",
    "    def sim_slots(self):\n",
    "        return \"has dual sim slots (5G supported)\"\n",
    "    \n",
    "    def get_palmtop_detail(self):\n",
    "        return (self.made, self.model, self.price)\n",
    "    \n",
    "    \n",
    "ptop = palmtop(\"IMB\", \"X7\", 9000)\n",
    "\n",
    "details = ptop.get_palmtop_detail()\n",
    "\n",
    "print(f\"You ordered {details[0]}-{details[1]} at price ${details[2]}\\n\")\n",
    "print(f\"{details[0]}-{details[1]}:\")\n",
    "print(ptop.has_battery())\n",
    "print(ptop.has_keyboard())\n",
    "print(ptop.has_screen())\n",
    "print(ptop.has_compute_power())\n",
    "print(ptop.has_camera())\n",
    "print(ptop.sim_slots())"
   ]
  },
  {
   "cell_type": "markdown",
   "id": "1975e5bc",
   "metadata": {},
   "source": [
    "### Q4. What are getter and setter in python? Create a class and create a getter and a setter method in this class.\n"
   ]
  },
  {
   "cell_type": "markdown",
   "id": "68cfa385",
   "metadata": {},
   "source": [
    "```getter``` and ```setter``` basically are the class methods that are used to retrieve the value of any class variable nad to set a new value to any available class variable."
   ]
  },
  {
   "cell_type": "code",
   "execution_count": 21,
   "id": "4d45094c",
   "metadata": {},
   "outputs": [
    {
     "name": "stdout",
     "output_type": "stream",
     "text": [
      "discount of Rs.500 will be applied on MPR \n",
      "\n",
      "new discount applied!\n",
      "\n",
      " discount of Rs.2500.0 will be applied on MPR\n"
     ]
    }
   ],
   "source": [
    "# example of getter and setter variable\n",
    "\n",
    "class discount(object):\n",
    "    def __init__(self, article, mrp, mfg_year):\n",
    "        self.article = article\n",
    "        self.mrp = mrp\n",
    "        self.mfg_year = mfg_year\n",
    "        self.discount = 500\n",
    "        \n",
    "    def set_new_discount(self, new_discount):\n",
    "        \"\"\"\n",
    "        This is setter method!\n",
    "        \"\"\"\n",
    "        self.discount = float(new_discount)\n",
    "        print(\"new discount applied!\")\n",
    "    \n",
    "    def get_discount_detail(self):\n",
    "        \"\"\"\n",
    "        This is getter method!\n",
    "        \"\"\"\n",
    "        return f\"discount of Rs.{self.discount} will be applied on MPR\"\n",
    "    \n",
    "\n",
    "d = discount(\"smartphone\", \"25000\", 2023)\n",
    "\n",
    "# getting the current running discount details\n",
    "print(d.get_discount_detail(),\"\\n\")\n",
    "\n",
    "# setting new discount on the purchased article\n",
    "d.set_new_discount(2500)\n",
    "\n",
    "# obtaining the new discount details\n",
    "print(\"\\n\",d.get_discount_detail())"
   ]
  },
  {
   "cell_type": "markdown",
   "id": "3b909189",
   "metadata": {},
   "source": [
    "### Q5.What is method overriding in python? Write a python code to demonstrate method overriding."
   ]
  },
  {
   "cell_type": "markdown",
   "id": "114d084d",
   "metadata": {},
   "source": [
    "In case of inheritance, when we have same method defined inside the parent and the child class then this is called method overriding. So which class method gets called, it depends on the object we are invoking through."
   ]
  },
  {
   "cell_type": "code",
   "execution_count": 2,
   "id": "29eee11b",
   "metadata": {},
   "outputs": [
    {
     "name": "stdout",
     "output_type": "stream",
     "text": [
      "dolphin hunger decreased by 10.\n",
      "dolphin tiredness decreased by 10.\n",
      "tiger hunger decreased by 10.\n",
      "The tiger is really tired!\n"
     ]
    }
   ],
   "source": [
    "# example of method overriging.\n",
    "\n",
    "class Mammal :\n",
    "    def __init__ ( self , name):\n",
    "        self.hunger = 100\n",
    "        self.tired = 100\n",
    "        self.name = name\n",
    "        \n",
    "    def print_result ( self , amount , action):\n",
    "        print ( \"{} {} decreased by {}.\" .format( self.name , action, amount))\n",
    "        \n",
    "    def eat ( self , decrease):\n",
    "        self.hunger -= decrease\n",
    "        self.print_result(decrease , 'hunger' )\n",
    "\n",
    "    def sleep ( self , decrease):\n",
    "        self.tired -= decrease\n",
    "        self.print_result(decrease , 'tiredness' )\n",
    "\n",
    "class Dolphin (Mammal):\n",
    "    pass\n",
    "\n",
    "class Tiger (Mammal):\n",
    "    def sleep ( self , decrease):\n",
    "        self.tired -= decrease\n",
    "        print ( \"The tiger is really tired!\" )\n",
    "\n",
    "dolphin = Dolphin( 'dolphin' )\n",
    "dolphin.eat( 10 )\n",
    "dolphin.sleep( 10 )\n",
    "tiger = Tiger( 'tiger' )\n",
    "tiger.eat( 10 )\n",
    "tiger.sleep( 10 )"
   ]
  },
  {
   "cell_type": "code",
   "execution_count": null,
   "id": "7a3408b4",
   "metadata": {},
   "outputs": [],
   "source": []
  }
 ],
 "metadata": {
  "kernelspec": {
   "display_name": "Python 3 (ipykernel)",
   "language": "python",
   "name": "python3"
  },
  "language_info": {
   "codemirror_mode": {
    "name": "ipython",
    "version": 3
   },
   "file_extension": ".py",
   "mimetype": "text/x-python",
   "name": "python",
   "nbconvert_exporter": "python",
   "pygments_lexer": "ipython3",
   "version": "3.9.12"
  }
 },
 "nbformat": 4,
 "nbformat_minor": 5
}
