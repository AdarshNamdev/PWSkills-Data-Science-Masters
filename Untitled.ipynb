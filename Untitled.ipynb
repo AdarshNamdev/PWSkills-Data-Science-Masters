{
 "cells": [
  {
   "cell_type": "code",
   "execution_count": 9,
   "id": "366dacfa",
   "metadata": {},
   "outputs": [
    {
     "name": "stdout",
     "output_type": "stream",
     "text": [
      "{'a': (11, 22, 33), 'b': (11, 22, 33), 'c': (11, 22, 33)}\n"
     ]
    }
   ],
   "source": [
    "dicty = {'one':1, 'two': 2, 'three':3}\n",
    "\n",
    "#print(p.fromkeys('abc', (11,22,33)))\n",
    "\n",
    "print(dict.fromkeys('abc', (11,22,33)))"
   ]
  },
  {
   "cell_type": "code",
   "execution_count": 15,
   "id": "363cbff1",
   "metadata": {},
   "outputs": [
    {
     "data": {
      "text/plain": [
       "{1: 1, 2: 4, 3: 9, 4: 16, 5: 25, 6: 36, 7: 49, 8: 64, 9: 81, 10: 100}"
      ]
     },
     "execution_count": 15,
     "metadata": {},
     "output_type": "execute_result"
    }
   ],
   "source": [
    "# dictionary comprehension\n",
    "\n",
    "d = {key:key**2 for key in range(1,11)}\n",
    "d"
   ]
  },
  {
   "cell_type": "code",
   "execution_count": 27,
   "id": "30c13e64",
   "metadata": {},
   "outputs": [
    {
     "data": {
      "text/plain": [
       "[4, 16, 36, 64, 100]"
      ]
     },
     "execution_count": 27,
     "metadata": {},
     "output_type": "execute_result"
    }
   ],
   "source": [
    "# filter out those values for whcih keys are even number\n",
    "\n",
    "even_keys = [i for i in d.keys() if i%2 == 0]\n",
    "even_key_vals = [d.get(i) for i in even_keys]\n",
    "even_key_vals"
   ]
  },
  {
   "cell_type": "code",
   "execution_count": 28,
   "id": "22bbe22c",
   "metadata": {},
   "outputs": [
    {
     "data": {
      "text/plain": [
       "[4, 16, 36, 64, 100]"
      ]
     },
     "execution_count": 28,
     "metadata": {},
     "output_type": "execute_result"
    }
   ],
   "source": [
    "one_shot_even_key_vals = [d.get(i) for i in d.keys() if i%2 ==0]\n",
    "one_shot_even_key_vals"
   ]
  },
  {
   "cell_type": "code",
   "execution_count": 31,
   "id": "a7e8b7e9",
   "metadata": {},
   "outputs": [
    {
     "name": "stdout",
     "output_type": "stream",
     "text": [
      "[1, 1, 2, 3.14, 0, ('key1', 1, 'key2', 2), ('key2', 2, 'key1', 1), 'Viola', 'viola', False, True, False, True, ('key1', 1, 'key2', 2)]\n"
     ]
    },
    {
     "data": {
      "text/plain": [
       "{('key1', 1, 'key2', 2),\n",
       " ('key2', 2, 'key1', 1),\n",
       " 0,\n",
       " 1,\n",
       " 2,\n",
       " 3.14,\n",
       " 'Viola',\n",
       " 'viola'}"
      ]
     },
     "execution_count": 31,
     "metadata": {},
     "output_type": "execute_result"
    }
   ],
   "source": [
    "non_unique_elements = [1,1,2,3.14,0,(\"key1\",1,\"key2\",2), (\"key2\",2,\"key1\",1),\"Viola\", \"viola\",\\\n",
    "                       False, True, False, bool(1),(\"key1\",1,\"key2\",2)]\n",
    "\n",
    "print(non_unique_elements)\n",
    "\n",
    "only_unique_elemnts = set(non_unique_elements)\n",
    "only_unique_elemnts"
   ]
  },
  {
   "cell_type": "code",
   "execution_count": 32,
   "id": "e7a91ab6",
   "metadata": {},
   "outputs": [
    {
     "data": {
      "text/plain": [
       "{'french polynesia', 'hawaii', 'jamaica', 'puerto rico'}"
      ]
     },
     "execution_count": 32,
     "metadata": {},
     "output_type": "execute_result"
    }
   ],
   "source": [
    "{'french polynesia', 'hawaii'}.union({'jamaica', 'puerto rico'})"
   ]
  },
  {
   "cell_type": "code",
   "execution_count": null,
   "id": "a9e5ca44",
   "metadata": {},
   "outputs": [],
   "source": [
    "{'french polynesia', 'hawaii'}.({'jamaica', 'puerto rico'})"
   ]
  },
  {
   "cell_type": "code",
   "execution_count": 34,
   "id": "55fde384",
   "metadata": {},
   "outputs": [
    {
     "data": {
      "text/plain": [
       "type"
      ]
     },
     "execution_count": 34,
     "metadata": {},
     "output_type": "execute_result"
    }
   ],
   "source": [
    "type(type(3))"
   ]
  },
  {
   "cell_type": "code",
   "execution_count": 40,
   "id": "c3033626",
   "metadata": {},
   "outputs": [
    {
     "ename": "SyntaxError",
     "evalue": "invalid syntax (541389916.py, line 1)",
     "output_type": "error",
     "traceback": [
      "\u001b[1;36m  Input \u001b[1;32mIn [40]\u001b[1;36m\u001b[0m\n\u001b[1;33m    def func(**kwargs, *args):\u001b[0m\n\u001b[1;37m                       ^\u001b[0m\n\u001b[1;31mSyntaxError\u001b[0m\u001b[1;31m:\u001b[0m invalid syntax\n"
     ]
    }
   ],
   "source": [
    "def func(**kwargs, *args):\n",
    "    return kwargs, args\n",
    "\n",
    "func(\"Adarsh\", \"DSM\", a= 11, b = 22, c = 33)"
   ]
  },
  {
   "cell_type": "code",
   "execution_count": 46,
   "id": "f0fd031b",
   "metadata": {},
   "outputs": [
    {
     "data": {
      "text/plain": [
       "{0: 11, 1: 22, 2: 33}"
      ]
     },
     "execution_count": 46,
     "metadata": {},
     "output_type": "execute_result"
    }
   ],
   "source": [
    "dict(enumerate([11,22,33]))"
   ]
  },
  {
   "cell_type": "code",
   "execution_count": 1,
   "id": "3634fdc3",
   "metadata": {},
   "outputs": [
    {
     "data": {
      "text/plain": [
       "{1, 2, 3}"
      ]
     },
     "execution_count": 1,
     "metadata": {},
     "output_type": "execute_result"
    }
   ],
   "source": [
    "set1 = {1,2,3}\n",
    "set2 = set1.copy()\n",
    "set2"
   ]
  },
  {
   "cell_type": "code",
   "execution_count": 2,
   "id": "b09f1acd",
   "metadata": {},
   "outputs": [
    {
     "data": {
      "text/plain": [
       "{1, 2, 3}"
      ]
     },
     "execution_count": 2,
     "metadata": {},
     "output_type": "execute_result"
    }
   ],
   "source": [
    "del set2\n",
    "set2 = set(set1)\n",
    "\n",
    "set2"
   ]
  },
  {
   "cell_type": "code",
   "execution_count": 38,
   "id": "466ed09b",
   "metadata": {},
   "outputs": [
    {
     "data": {
      "text/plain": [
       "[2, 6, 4, 6]"
      ]
     },
     "execution_count": 38,
     "metadata": {},
     "output_type": "execute_result"
    }
   ],
   "source": [
    "from functools import reduce\n",
    "\n",
    "l = [1,2,6,3,4,5,6]\n",
    "reduce(lambda x,y: x*y, [5])\n",
    "\n",
    "#list(filter(lambda x: x if x%2 == 0 else None, l))  # this will also work\n",
    "\n",
    "list(filter(lambda x: x%2 == 0, l))"
   ]
  },
  {
   "cell_type": "code",
   "execution_count": 44,
   "id": "a116d601",
   "metadata": {},
   "outputs": [
    {
     "ename": "SyntaxError",
     "evalue": "invalid syntax (739984712.py, line 1)",
     "output_type": "error",
     "traceback": [
      "\u001b[1;36m  Input \u001b[1;32mIn [44]\u001b[1;36m\u001b[0m\n\u001b[1;33m    p = lambda lst : i (for i in lst) if i%2==0 else None\u001b[0m\n\u001b[1;37m                        ^\u001b[0m\n\u001b[1;31mSyntaxError\u001b[0m\u001b[1;31m:\u001b[0m invalid syntax\n"
     ]
    }
   ],
   "source": [
    "p = lambda lst : i (for i in lst) if i%2==0 else None\n",
    "p([1,2,3])"
   ]
  },
  {
   "cell_type": "code",
   "execution_count": 23,
   "id": "53113959",
   "metadata": {},
   "outputs": [
    {
     "data": {
      "text/plain": [
       "14"
      ]
     },
     "execution_count": 23,
     "metadata": {},
     "output_type": "execute_result"
    }
   ],
   "source": [
    "result(14)"
   ]
  },
  {
   "cell_type": "code",
   "execution_count": 25,
   "id": "712b86e7",
   "metadata": {},
   "outputs": [
    {
     "data": {
      "text/plain": [
       "35"
      ]
     },
     "execution_count": 25,
     "metadata": {},
     "output_type": "execute_result"
    }
   ],
   "source": [
    "max_two = lambda x,y: x if x>y else y\n",
    "\n",
    "max_two(24,35)"
   ]
  },
  {
   "cell_type": "code",
   "execution_count": 49,
   "id": "52516819",
   "metadata": {},
   "outputs": [
    {
     "data": {
      "text/plain": [
       "[('Sachin Tendulkar', 34357),\n",
       " ('Ricky Ponting', 27483),\n",
       " ('Jack Kallis', 25534),\n",
       " ('Virat Kohli', 24936)]"
      ]
     },
     "execution_count": 49,
     "metadata": {},
     "output_type": "execute_result"
    }
   ],
   "source": [
    "#Q1. Create a python program to sort the given list of tuples based on integer value using a lambda function. \n",
    "\n",
    "\n",
    "[('Sachin Tendulkar', 34357), ('Ricky Ponting', 27483), ('Jack Kallis', 25534), ('Virat Kohli', 24936)]"
   ]
  },
  {
   "cell_type": "code",
   "execution_count": 50,
   "id": "39c6fde8",
   "metadata": {},
   "outputs": [],
   "source": [
    "l = [('Sachin Tendulkar', 1), ('Ricky Ponting', 7), ('Jack Kallis', 2), ('Virat Kohli', 9)]"
   ]
  },
  {
   "cell_type": "code",
   "execution_count": null,
   "id": "931a9bfa",
   "metadata": {},
   "outputs": [],
   "source": [
    "sorted(l, key = lambda x:x[1])"
   ]
  },
  {
   "cell_type": "markdown",
   "id": "ba2b1401",
   "metadata": {},
   "source": [
    "## Using the ```@property getter-setter-deleter``` in the classes"
   ]
  },
  {
   "cell_type": "code",
   "execution_count": 1,
   "id": "334c81ba",
   "metadata": {},
   "outputs": [
    {
     "name": "stdout",
     "output_type": "stream",
     "text": [
      "0.0\n",
      "Course enrolled:  Web Dev\n",
      "Course Price:  course price is: INR 4000.0\n",
      "course price is: INR 4000.0\n",
      "==================================================\n",
      "50\n",
      "Course enrolled:  Web Dev\n",
      "Course Price:  course price is: INR 25000.0\n",
      "Discount applied:  50\n"
     ]
    }
   ],
   "source": [
    "class pwskills(object):\n",
    "    def __init__(self,price, name):\n",
    "        self.__course_price = price\n",
    "        self.__discount = 0.0\n",
    "        self.name = name\n",
    "    \n",
    "    # this method \"course_price\" has a big flaw. every time we access this property discount is applied on course_price!\n",
    "    @property\n",
    "    def course_price(self):  \n",
    "        self.__course_price = self.__course_price - (self.__course_price * (self.__discount/100))\n",
    "        return f\"course price is: INR {self.__course_price}\"\n",
    "\n",
    "    @property\n",
    "    def discount(self):\n",
    "        #print(type(self.__discount))\n",
    "        return self.__discount\n",
    "\n",
    "    @discount.setter\n",
    "    def discount(self, newDiscount):\n",
    "        self.__discount = newDiscount\n",
    "        return self.__discount\n",
    "\n",
    "    @course_price.setter\n",
    "    def course_price(self, newPrice):\n",
    "        self.__course_price = newPrice\n",
    "        return self.__course_price    \n",
    "    \n",
    "    def course_details(self):\n",
    "        if self.__discount != 0.0:\n",
    "            print(\"Course enrolled: \",self.name)\n",
    "            print(\"Course Price: \", self.course_price)\n",
    "            print(\"Discount applied: \",self.discount)\n",
    "        else:\n",
    "            print(\"Course enrolled: \",self.name)\n",
    "            print(\"Course Price: \", self.course_price)\n",
    "            \n",
    "            \n",
    "p1 = pwskills(4000, \"Web Dev\")\n",
    "print(p1.discount)\n",
    "p1.course_details()\n",
    "print(p1.course_price)\n",
    "\n",
    "print(\"=\"*50)\n",
    "\n",
    "p1.course_price = 50000\n",
    "p1.discount = 50\n",
    "print(p1.discount)\n",
    "p1.course_details()"
   ]
  },
  {
   "cell_type": "code",
   "execution_count": 4,
   "id": "9c66653d",
   "metadata": {},
   "outputs": [
    {
     "data": {
      "text/plain": [
       "'course price is: INR 3125.0'"
      ]
     },
     "execution_count": 4,
     "metadata": {},
     "output_type": "execute_result"
    }
   ],
   "source": [
    "p1.course_price    # <=== this is where the flaw is !!!"
   ]
  },
  {
   "cell_type": "code",
   "execution_count": 25,
   "id": "edd235d1",
   "metadata": {},
   "outputs": [
    {
     "name": "stdout",
     "output_type": "stream",
     "text": [
      "0.0\n",
      "Course enrolled: Blockchain\n",
      "Course Price: INR 4000\n",
      "Course price is: INR 4000\n",
      "==================================================\n",
      "50\n",
      "Course enrolled: Blockchain\n",
      "Course Price: INR 25000.0\n",
      "Discount applied: 50 %\n",
      "Discounted Price: INR 4000\n"
     ]
    }
   ],
   "source": [
    "class PwSkills:\n",
    "    def __init__(self, price, name):\n",
    "        self.__course_price = price\n",
    "        self.__discount = 0.0\n",
    "        self.name = name\n",
    "        self.__discounted_price = price\n",
    "\n",
    "    @property\n",
    "    def course_price(self):\n",
    "        return f\"Course price is: INR {self.__course_price}\"\n",
    "\n",
    "    @property\n",
    "    def discount(self):\n",
    "        return self.__discount\n",
    "\n",
    "    @discount.setter\n",
    "    def discount(self, new_discount):\n",
    "        self.__discount = new_discount\n",
    "        self.__course_price = self.__course_price - (self.__course_price * (self.__discount/100))\n",
    "\n",
    "    @course_price.setter\n",
    "    def course_price(self, new_price):\n",
    "        self.__course_price = new_price\n",
    "\n",
    "    def course_details(self):\n",
    "        if self.__discount != 0.0:\n",
    "            print(\"Course enrolled:\", self.name)\n",
    "            print(\"Course Price: INR\", self.__course_price)\n",
    "            print(\"Discount applied:\", self.__discount, \"%\")\n",
    "            print(\"Discounted Price: INR\", self.__discounted_price)\n",
    "        else:\n",
    "            print(\"Course enrolled:\", self.name)\n",
    "            print(\"Course Price: INR\", self.__course_price)\n",
    "\n",
    "\n",
    "            \n",
    "p1 = PwSkills(4000, \"Blockchain\")\n",
    "print(p1.discount)\n",
    "p1.course_details()\n",
    "print(p1.course_price)\n",
    "\n",
    "print(\"=\"*50)\n",
    "\n",
    "p1.course_price = 50000\n",
    "p1.discount = 50\n",
    "print(p1.discount)\n",
    "p1.course_details()"
   ]
  },
  {
   "cell_type": "code",
   "execution_count": 58,
   "id": "2e8188d0",
   "metadata": {},
   "outputs": [
    {
     "name": "stdout",
     "output_type": "stream",
     "text": [
      "0.0\n",
      "Course enrolled:  Blockchain\n",
      "Course Price: INR 40000\n",
      "40000\n",
      "==================================================\n",
      "50\n",
      "Course enrolled:  Blockchain\n",
      "Course Price: INR 25000.0\n",
      "Discount applied:  50 %\n"
     ]
    }
   ],
   "source": [
    "class PwSkills(object):  # Changed class name to follow PEP8 convention\n",
    "    def __init__(self, price, name):\n",
    "        self.__course_price = price\n",
    "        self.__discount = 0.0\n",
    "        self.name = name\n",
    "\n",
    "    @property\n",
    "    def course_price(self):\n",
    "        # Removed the calculation of discounted price here and moved it to course_details method\n",
    "        return self.__course_price\n",
    "\n",
    "    @property\n",
    "    def discount(self):\n",
    "        return self.__discount\n",
    "\n",
    "    @discount.setter\n",
    "    def discount(self, new_discount):\n",
    "        self.__discount = new_discount\n",
    "        self.__course_price = self.__course_price - (self.__course_price * (self.__discount/100))\n",
    "\n",
    "    @course_price.setter\n",
    "    def course_price(self, new_price):\n",
    "        self.__course_price = new_price\n",
    "\n",
    "    def course_details(self):\n",
    "        #discounted_price = self.__course_price - (self.__course_price * (self.__discount/100))\n",
    "        # Calculate the discounted price here based on the current discount\n",
    "        if self.__discount != 0.0:\n",
    "            print(\"Course enrolled: \", self.name)\n",
    "            print(\"Course Price: INR\", self.__course_price)  # Removed the use of course_price property here\n",
    "            print(\"Discount applied: \", self.__discount, \"%\")\n",
    "            #print(\"Discounted Price: INR\", discounted_price)\n",
    "        else:\n",
    "            print(\"Course enrolled: \", self.name)\n",
    "            print(\"Course Price: INR\", self.__course_price)\n",
    "\n",
    "\n",
    "p1 = PwSkills(40000, \"Blockchain\")\n",
    "print(p1.discount)\n",
    "p1.course_details()\n",
    "print(p1.course_price)\n",
    "\n",
    "print(\"=\"*50)\n",
    "\n",
    "p1.course_price = 50000\n",
    "p1.discount = 50\n",
    "print(p1.discount)\n",
    "p1.course_details()"
   ]
  },
  {
   "cell_type": "code",
   "execution_count": 68,
   "id": "cc5d48a9",
   "metadata": {},
   "outputs": [
    {
     "name": "stdout",
     "output_type": "stream",
     "text": [
      "25000.0\n",
      "50\n"
     ]
    }
   ],
   "source": [
    "print(p1.course_price)\n",
    "print(p1.discount)"
   ]
  },
  {
   "cell_type": "code",
   "execution_count": 69,
   "id": "78f2130a",
   "metadata": {},
   "outputs": [
    {
     "name": "stdout",
     "output_type": "stream",
     "text": [
      " Volume in drive D is Data\n",
      " Volume Serial Number is BA84-EFAD\n",
      "\n",
      " Directory of D:\\Github\\PWSkills-Data-Science-Masters\n",
      "\n",
      "03/16/2023  03:54 PM    <DIR>          .\n",
      "02/03/2023  06:33 PM    <DIR>          ..\n",
      "03/11/2023  03:14 AM    <DIR>          .ipynb_checkpoints\n",
      "02/03/2023  06:33 PM            35,823 LICENSE\n",
      "03/11/2023  03:18 AM    <DIR>          PythonAssignments\n",
      "02/03/2023  06:33 PM               133 README.md\n",
      "03/16/2023  03:54 PM            18,407 Untitled.ipynb\n",
      "               3 File(s)         54,363 bytes\n",
      "               4 Dir(s)  851,025,661,952 bytes free\n"
     ]
    }
   ],
   "source": [
    "ls"
   ]
  },
  {
   "cell_type": "code",
   "execution_count": null,
   "id": "360d28c1",
   "metadata": {},
   "outputs": [],
   "source": []
  },
  {
   "cell_type": "code",
   "execution_count": null,
   "id": "5c0b49f4",
   "metadata": {},
   "outputs": [],
   "source": []
  },
  {
   "cell_type": "code",
   "execution_count": null,
   "id": "c66864af",
   "metadata": {},
   "outputs": [],
   "source": []
  },
  {
   "cell_type": "code",
   "execution_count": null,
   "id": "d30a29a7",
   "metadata": {},
   "outputs": [],
   "source": []
  },
  {
   "cell_type": "code",
   "execution_count": null,
   "id": "215bc943",
   "metadata": {},
   "outputs": [],
   "source": []
  },
  {
   "cell_type": "code",
   "execution_count": null,
   "id": "364511b3",
   "metadata": {},
   "outputs": [],
   "source": []
  },
  {
   "cell_type": "code",
   "execution_count": null,
   "id": "3ffa5758",
   "metadata": {},
   "outputs": [],
   "source": []
  }
 ],
 "metadata": {
  "kernelspec": {
   "display_name": "Python 3 (ipykernel)",
   "language": "python",
   "name": "python3"
  },
  "language_info": {
   "codemirror_mode": {
    "name": "ipython",
    "version": 3
   },
   "file_extension": ".py",
   "mimetype": "text/x-python",
   "name": "python",
   "nbconvert_exporter": "python",
   "pygments_lexer": "ipython3",
   "version": "3.9.12"
  }
 },
 "nbformat": 4,
 "nbformat_minor": 5
}
