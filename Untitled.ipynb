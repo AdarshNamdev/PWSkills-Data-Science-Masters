{
 "cells": [
  {
   "cell_type": "code",
   "execution_count": 9,
   "id": "950b229f",
   "metadata": {},
   "outputs": [
    {
     "name": "stdout",
     "output_type": "stream",
     "text": [
      "{'a': (11, 22, 33), 'b': (11, 22, 33), 'c': (11, 22, 33)}\n"
     ]
    }
   ],
   "source": [
    "dicty = {'one':1, 'two': 2, 'three':3}\n",
    "\n",
    "#print(p.fromkeys('abc', (11,22,33)))\n",
    "\n",
    "print(dict.fromkeys('abc', (11,22,33)))"
   ]
  },
  {
   "cell_type": "code",
   "execution_count": 15,
   "id": "dfc0b2f6",
   "metadata": {},
   "outputs": [
    {
     "data": {
      "text/plain": [
       "{1: 1, 2: 4, 3: 9, 4: 16, 5: 25, 6: 36, 7: 49, 8: 64, 9: 81, 10: 100}"
      ]
     },
     "execution_count": 15,
     "metadata": {},
     "output_type": "execute_result"
    }
   ],
   "source": [
    "# dictionary comprehension\n",
    "\n",
    "d = {key:key**2 for key in range(1,11)}\n",
    "d"
   ]
  },
  {
   "cell_type": "code",
   "execution_count": 27,
   "id": "4290e1da",
   "metadata": {},
   "outputs": [
    {
     "data": {
      "text/plain": [
       "[4, 16, 36, 64, 100]"
      ]
     },
     "execution_count": 27,
     "metadata": {},
     "output_type": "execute_result"
    }
   ],
   "source": [
    "# filter out those values for whcih keys are even number\n",
    "\n",
    "even_keys = [i for i in d.keys() if i%2 == 0]\n",
    "even_key_vals = [d.get(i) for i in even_keys]\n",
    "even_key_vals"
   ]
  },
  {
   "cell_type": "code",
   "execution_count": 28,
   "id": "4b1c8c94",
   "metadata": {},
   "outputs": [
    {
     "data": {
      "text/plain": [
       "[4, 16, 36, 64, 100]"
      ]
     },
     "execution_count": 28,
     "metadata": {},
     "output_type": "execute_result"
    }
   ],
   "source": [
    "one_shot_even_key_vals = [d.get(i) for i in d.keys() if i%2 ==0]\n",
    "one_shot_even_key_vals"
   ]
  },
  {
   "cell_type": "code",
   "execution_count": 31,
   "id": "2c3b6f3b",
   "metadata": {},
   "outputs": [
    {
     "name": "stdout",
     "output_type": "stream",
     "text": [
      "[1, 1, 2, 3.14, 0, ('key1', 1, 'key2', 2), ('key2', 2, 'key1', 1), 'Viola', 'viola', False, True, False, True, ('key1', 1, 'key2', 2)]\n"
     ]
    },
    {
     "data": {
      "text/plain": [
       "{('key1', 1, 'key2', 2),\n",
       " ('key2', 2, 'key1', 1),\n",
       " 0,\n",
       " 1,\n",
       " 2,\n",
       " 3.14,\n",
       " 'Viola',\n",
       " 'viola'}"
      ]
     },
     "execution_count": 31,
     "metadata": {},
     "output_type": "execute_result"
    }
   ],
   "source": [
    "non_unique_elements = [1,1,2,3.14,0,(\"key1\",1,\"key2\",2), (\"key2\",2,\"key1\",1),\"Viola\", \"viola\",\\\n",
    "                       False, True, False, bool(1),(\"key1\",1,\"key2\",2)]\n",
    "\n",
    "print(non_unique_elements)\n",
    "\n",
    "only_unique_elemnts = set(non_unique_elements)\n",
    "only_unique_elemnts"
   ]
  },
  {
   "cell_type": "code",
   "execution_count": 32,
   "id": "50d0a357",
   "metadata": {},
   "outputs": [
    {
     "data": {
      "text/plain": [
       "{'french polynesia', 'hawaii', 'jamaica', 'puerto rico'}"
      ]
     },
     "execution_count": 32,
     "metadata": {},
     "output_type": "execute_result"
    }
   ],
   "source": [
    "{'french polynesia', 'hawaii'}.union({'jamaica', 'puerto rico'})"
   ]
  },
  {
   "cell_type": "code",
   "execution_count": null,
   "id": "e197f44c",
   "metadata": {},
   "outputs": [],
   "source": [
    "{'french polynesia', 'hawaii'}.({'jamaica', 'puerto rico'})"
   ]
  }
 ],
 "metadata": {
  "kernelspec": {
   "display_name": "Python 3 (ipykernel)",
   "language": "python",
   "name": "python3"
  },
  "language_info": {
   "codemirror_mode": {
    "name": "ipython",
    "version": 3
   },
   "file_extension": ".py",
   "mimetype": "text/x-python",
   "name": "python",
   "nbconvert_exporter": "python",
   "pygments_lexer": "ipython3",
   "version": "3.9.12"
  }
 },
 "nbformat": 4,
 "nbformat_minor": 5
}
