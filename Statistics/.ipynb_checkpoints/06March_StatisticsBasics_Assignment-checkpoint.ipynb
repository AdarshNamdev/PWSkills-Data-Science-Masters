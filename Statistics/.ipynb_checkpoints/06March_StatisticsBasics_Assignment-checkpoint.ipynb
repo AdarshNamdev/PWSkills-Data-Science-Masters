{
 "cells": [
  {
   "cell_type": "markdown",
   "id": "542f92fd",
   "metadata": {},
   "source": [
    "#### Q1. What is Statistics?"
   ]
  },
  {
   "cell_type": "markdown",
   "id": "3f3b3402",
   "metadata": {},
   "source": [
    "Statistics is the science of getting knowledge/information out of the data by applying various methods."
   ]
  },
  {
   "cell_type": "markdown",
   "id": "de82a91a",
   "metadata": {},
   "source": [
    "#### Q2. Define the different types of statistics and give an example of when each type might be used."
   ]
  },
  {
   "cell_type": "markdown",
   "id": "09e6bc0b",
   "metadata": {},
   "source": [
    "There are two types of statistics:\n",
    "* Descriptive stats\n",
    "\n",
    "This stats is used when you want to get some numerical information out of the data available by applying the statitical methods that measures the central tendency like - mean, median, mode and variablity liek - standard deviation, variance\n",
    "\n",
    "* Inferential stats\n",
    "\n",
    "This stats is used when we want to draw some conclusion from a small portion of data (i.e samples) about the larger dataset called the population."
   ]
  },
  {
   "cell_type": "markdown",
   "id": "7f6c27e3",
   "metadata": {},
   "source": [
    "#### Q3. What are the different types of data and how do they differ from each other? Provide an example of each type of data."
   ]
  },
  {
   "cell_type": "markdown",
   "id": "04d3e5bb",
   "metadata": {},
   "source": [
    "There are two type of data available:\n",
    "\n",
    "a.) Categorical/Qualitative:\n",
    "\n",
    "    a.1) Nominal : Where there is no natural ordering in the data \n",
    "            e.g.: [Male, Female]; [Cloudy, Rainy, Sunny]\n",
    "            \n",
    "    a.2) Ordinal : data which has a natural ordeting to it. \n",
    "            e.g: [centimeter, meter, kilometer]\n",
    "\n",
    "b.) Numerical/Quantitative:\n",
    "    \n",
    "    b.1) Discrete : Numerical values which are whole numbers are called Discrete, \n",
    "            e.g: [number of candidates] ; [strength of employees]\n",
    "            \n",
    "    b.2) continuous: decimal numbers are called continuous\n",
    "            e.g: [temperature], [height of students], [current value in ampere]"
   ]
  },
  {
   "cell_type": "markdown",
   "id": "9935abc4",
   "metadata": {},
   "source": [
    "#### Q4. Categorise the following datasets with respect to quantitative and qualitative data types:\n",
    "```\n",
    "(i) Grading in exam: A+, A, B+, B, C+, C, D, E\n",
    "(ii) Colour of mangoes: yellow, green, orange, red\n",
    "(iii) Height data of a class: [178.9, 179, 179.5, 176, 177.2, 178.3, 175.8,...]\n",
    "(iv) Number of mangoes exported by a farm: [500, 600, 478, 672, ...]\n",
    "```"
   ]
  },
  {
   "cell_type": "markdown",
   "id": "268a46c6",
   "metadata": {},
   "source": [
    "(i) Grading in exam: A+, A, B+, B, C+, C, D, E : __ORDINAL DATA__\n",
    "\n",
    "(ii) Colour of mangoes: yellow, green, orange, red : __NOMINAL DATA__\n",
    "        \n",
    "(iii) Height data of a class: `[178.9, 179, 179.5, 176, 177.2, 178.3, 175.8,...]` : __CONTINUOUS DATA__\n",
    "\n",
    "(iv) Number of mangoes exported by a farm: `[500, 600, 478, 672, ...]` : __DISCRETE DATA__"
   ]
  },
  {
   "cell_type": "markdown",
   "id": "d0e1e398",
   "metadata": {},
   "source": [
    "#### Q5. Explain the concept of levels of measurement and give an example of a variable for each level."
   ]
  },
  {
   "cell_type": "markdown",
   "id": "b9e10a10",
   "metadata": {},
   "source": [
    "The concept of levels of measurement refers to the degree of detail and precision in quantifying or categorizing data. There are four primary levels of measurement: __nominal, ordinal, interval, and ratio__.\n",
    "\n",
    "__Nominal Level of Measurement:__ At this level, numbers or categories are used only to name or label data, without any inherent order or hierarchy. For example, categorizing people by their gender (male, female, or non-binary) or by their political affiliation (Republican, Democrat, Independent, etc.).\n",
    "\n",
    "__Ordinal Level of Measurement:__ This level involves categorizing data with a sense of order or rank, but the intervals between categories are not necessarily equal. For example, a survey might ask participants to rate their job satisfaction on a scale of 1 to 10, where 10 indicates complete satisfaction. While the numbers represent an order, the difference between a 1 and a 2 might not be the same as the difference between a 9 and a 10.\n",
    "\n",
    "__Interval Level of Measurement:__ At this level, data is measured on a scale with equal intervals between values, but there is no absolute zero point. An example is temperature measured in Celsius or Fahrenheit, where the difference between 20°C and 30°C is the same as the difference between 40°C and 50°C, but 0°C does not represent the absence of temperature.\n",
    "\n",
    "__Ratio Level of Measurement:__ This level involves data measured on a scale with equal intervals and an absolute zero point, allowing for meaningful ratios and proportions. Examples include weight, height, and time"
   ]
  },
  {
   "cell_type": "markdown",
   "id": "edb39249",
   "metadata": {},
   "source": [
    "#### Q6. Why is it important to understand the level of measurement when analyzing data? Provide an example to illustrate your answer."
   ]
  },
  {
   "cell_type": "markdown",
   "id": "b24678bc",
   "metadata": {},
   "source": [
    "Understanding the level of measurement when analyzing data is crucial because it determines the type of statistical analysis that can be applied and the conclusions that can be drawn from the data. Different levels of measurement provide varying levels of detail and allow for different types of statistical operations.\n",
    "\n",
    "For example, consider the importance of the level of measurement in analyzing data related to income:<br>\n",
    "If income is measured using the nominal level, where values are grouped into categories without any meaningful order, statistical operations like calculating the mean or standard deviation would not be appropriate. However, if income is measured at the ratio level, where values have an absolute zero point and arithmetic operations like addition and multiplication can be accurately applied, researchers can calculate meaningful ratios and proportions, enabling more in-depth analysis of income disparities or trends.\n",
    "\n",
    "Therefore, understanding the level of measurement is essential for selecting the right statistical tests, ensuring accurate data analysis, and drawing valid conclusions from research findings."
   ]
  },
  {
   "cell_type": "markdown",
   "id": "ca363b61",
   "metadata": {},
   "source": [
    "#### Q7. How nominal data type is different from ordinal data type."
   ]
  },
  {
   "cell_type": "markdown",
   "id": "8c4686cb",
   "metadata": {},
   "source": [
    "NOMINAL data type does NOT provide a natural sense of ordering, while ORDINAL data does."
   ]
  },
  {
   "cell_type": "markdown",
   "id": "cf7608b8",
   "metadata": {},
   "source": [
    "#### Q8. Which type of plot can be used to display data in terms of range?"
   ]
  },
  {
   "cell_type": "markdown",
   "id": "402e274d",
   "metadata": {},
   "source": [
    "We can use `bar charts` and `line plot` to display data in terms of range."
   ]
  },
  {
   "cell_type": "markdown",
   "id": "fb21eba8",
   "metadata": {},
   "source": [
    "#### Q9. Describe the difference between descriptive and inferential statistics. Give an example of each type of statistics and explain how they are used."
   ]
  },
  {
   "cell_type": "markdown",
   "id": "0521dd20",
   "metadata": {},
   "source": [
    "Descriptive statistics and inferential statistics are two branches of statistics used to analyze data. Descriptive statistics summarize and describe data, while inferential statistics draw conclusions and make predictions about populations based on sample data.\n",
    "\n",
    "Descriptive statistics is a simple technique used to describe, show, and summarize data in a meaningful way. It involves taking a potentially sizable number of data points in the sample data and reducing them to summary statistics and graphs, allowing for insights and visualization of the data. Descriptive statistics can describe both an entire population and an individual sample. It uses measures of central tendency, such as __mean, median, and mode, and measures of dispersion, such as range, standard deviation, variance, quartiles, and absolute deviation__.\n",
    "\n",
    "Inferential statistics, on the other hand, involves drawing conclusions about populations by examining samples. It allows for making inferences about the entire set, including specific examples within it, based on information obtained from a subset of examples. These inferences rely on the principles of evidence and utilize sample statistics as a basis for drawing broader conclusions. The accuracy of inferential statistics depends largely on the accuracy of sample data and how it represents the larger population. Inferential statistics can be used for __hypothesis testing, regression analysis, and confidence intervals__.\n",
    "\n",
    "Hence in short, descriptive statistics is used to summarize and describe data, while inferential statistics is used to draw conclusions and make predictions about populations based on sample data. Both branches of statistics are essential for analyzing data and making informed decisions."
   ]
  },
  {
   "cell_type": "markdown",
   "id": "f72a2d77",
   "metadata": {},
   "source": [
    "#### Q10. What are some common measures of central tendency and variability used in statistics? Explain how each measure can be used to describe a dataset."
   ]
  },
  {
   "cell_type": "markdown",
   "id": "e1f3ec22",
   "metadata": {},
   "source": [
    "__Central Tendency: MEAN, MEDIAN and MODE__\n",
    "\n",
    "MEAN : The mean is the arithmetic average of a dataset, calculated by summing all the values and dividing by the number of observations. It is appropriate for interval and ratio data, but not for nominal or ordinal data.\n",
    "\n",
    "MEDIAN : The median is the middle value of a dataset, arranged in order of magnitude. It is appropriate for interval and ratio data, as well as ordinal data.\n",
    "\n",
    "MODE: The mode is the most frequently occurring value in a dataset. It is appropriate for nominal and ordinal data, as well as interval and ratio data.\n",
    "\n",
    "__Variablity : STANDARD DEVIATION, VARIANCE, RANGE__\n",
    "\n",
    "STANDARD DEVIATION: Standard deviation is a measure of how much a set of values is spread around the average. It is determined by the variance and indicates how much variability there is in a dataset.\n",
    "\n",
    "VARIANCE: Variance is a measure of how far a set of numbers are spread out from each other, describing how data points lie from the mean. It is the square of standard deviation.\n",
    "\n"
   ]
  },
  {
   "cell_type": "code",
   "execution_count": null,
   "id": "3bce957c",
   "metadata": {},
   "outputs": [],
   "source": []
  },
  {
   "cell_type": "code",
   "execution_count": null,
   "id": "ab2e5230",
   "metadata": {},
   "outputs": [],
   "source": []
  },
  {
   "cell_type": "code",
   "execution_count": null,
   "id": "8401505e",
   "metadata": {},
   "outputs": [],
   "source": []
  }
 ],
 "metadata": {
  "kernelspec": {
   "display_name": "Python 3 (ipykernel)",
   "language": "python",
   "name": "python3"
  },
  "language_info": {
   "codemirror_mode": {
    "name": "ipython",
    "version": 3
   },
   "file_extension": ".py",
   "mimetype": "text/x-python",
   "name": "python",
   "nbconvert_exporter": "python",
   "pygments_lexer": "ipython3",
   "version": "3.9.12"
  }
 },
 "nbformat": 4,
 "nbformat_minor": 5
}
