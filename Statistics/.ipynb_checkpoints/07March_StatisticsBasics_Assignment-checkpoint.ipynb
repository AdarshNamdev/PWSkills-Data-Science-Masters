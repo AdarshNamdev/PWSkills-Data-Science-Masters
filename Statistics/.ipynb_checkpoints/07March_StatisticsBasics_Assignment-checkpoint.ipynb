{
 "cells": [
  {
   "cell_type": "markdown",
   "id": "d674b9e7",
   "metadata": {},
   "source": [
    "#### Q1. What are the three measures of central tendency?"
   ]
  },
  {
   "cell_type": "markdown",
   "id": "5df044ac",
   "metadata": {},
   "source": [
    "There are three measures of central tendency and they are:\n",
    "* Mean\n",
    "* Median\n",
    "* Mode"
   ]
  },
  {
   "cell_type": "markdown",
   "id": "b9e84a09",
   "metadata": {},
   "source": [
    "#### Q2. What is the difference between the mean, median, and mode? How are they used to measure the central tendency of a dataset?"
   ]
  },
  {
   "cell_type": "markdown",
   "id": "cd1bba63",
   "metadata": {},
   "source": [
    "__MEAN__:\n",
    "1. A Mean is basicall the average of all the datapoints taken together in the sample/population. Its calcuated by summing up all the datapoints and then dividing the summation by the total numbers of datapoints avaialble.\n",
    "2. Since MEAN is very susceptible to Outlier hence it is particularly a good choice when we are sure of the fact that there are NO outliers present in the given dataset, Otherwise the calculated value will be really off from the true mean value when there were no outliers present, Utlimately leading to poor analysis.\n",
    "\n",
    "__MEDIA__:\n",
    "1. Median is another statistical metric that helps us achive the mid-point value of the given sample/poppulation. \n",
    "2. Median is calculated by first arranging the datapoints into ascending order, then if the number of datapoints:\n",
    "    - are ODD in number then the central most datapoint that will divide the length of the dataset into equal half will be the MEDIAN of that dataset.\n",
    "    - are EVEN in number then in that case find the length of the dataset and divide it by 2, what ever number we get, go to that position in the sorted dataset and add the number at that position and the next number then divide the sum by 2, the final calcuation that we get is the MEDIAN value that dataset.\n",
    "3. Being less susceptible to Outliers, MEDIANs are a better to bet to go with when the dataset is having outliers in them.\n",
    "\n",
    "__MODE__:\n",
    "1. Mode is yet another statistical metric that helps in computing the central tendency of the data. Mode of any dataset is the most commonly appearing datapoint in that given dataset."
   ]
  },
  {
   "cell_type": "markdown",
   "id": "0aef70a8",
   "metadata": {},
   "source": [
    "#### Q3. Measure the three measures of central tendency for the given height data:\n",
    "`[178,177,176,177,178.2,178,175,179,180,175,178.9,176.2,177,172.5,178,176.5]`"
   ]
  },
  {
   "cell_type": "code",
   "execution_count": 32,
   "id": "fd1b9932",
   "metadata": {},
   "outputs": [
    {
     "name": "stdout",
     "output_type": "stream",
     "text": [
      "[172.5 175.  175.  176.  176.2 176.5 177.  177.  177.  178.  178.  178.\n",
      " 178.2 178.9 179.  180. ]\n",
      "\n",
      "MEAN:  177.01875\n",
      "MEDIAN:  177.0\n",
      "MODE:  ModeResult(mode=array([177.]), count=array([3]))\n"
     ]
    }
   ],
   "source": [
    "import numpy as np\n",
    "import scipy.stats as stats\n",
    "\n",
    "heights = np.array([178,177,176,177,178.2,178,175,179,180,175,178.9,176.2,177,172.5,178,176.5])\n",
    "\n",
    "print(np.sort(heights))\n",
    "\n",
    "print(\"\\nMEAN: \", np.mean(heights))\n",
    "print(\"MEDIAN: \", np.median(heights))\n",
    "print(\"MODE: \", stats.mode(heights))\n"
   ]
  },
  {
   "cell_type": "markdown",
   "id": "ac0d4713",
   "metadata": {},
   "source": [
    "#### Q4. Find the standard deviation for the given data:\n",
    "`[178,177,176,177,178.2,178,175,179,180,175,178.9,176.2,177,172.5,178,176.5]`"
   ]
  },
  {
   "cell_type": "code",
   "execution_count": 33,
   "id": "e2ef84f0",
   "metadata": {},
   "outputs": [
    {
     "name": "stdout",
     "output_type": "stream",
     "text": [
      "Standard Deviation:  1.7885814036548633\n",
      "Variance :  3.199023437500001\n"
     ]
    }
   ],
   "source": [
    "data = [178,177,176,177,178.2,178,175,179,180,175,178.9,176.2,177,172.5,178,176.5]\n",
    "\n",
    "print(\"Standard Deviation: \",np.std(data))\n",
    "print(\"Variance : \", np.var(data))"
   ]
  },
  {
   "cell_type": "markdown",
   "id": "2f5a7dab",
   "metadata": {},
   "source": [
    "#### Q5. How are measures of dispersion such as range, variance, and standard deviation used to describe the spread of a dataset? Provide an example."
   ]
  },
  {
   "cell_type": "markdown",
   "id": "b4bddec0",
   "metadata": {},
   "source": [
    "1. __Range__ is the difference between the highest and lowest values in a dataset. It is the simplest measure of dispersion and is easy to calculate. However, it is sensitive to outliers and does not use all the observations in a dataset.\n",
    "\n",
    "2. __Variance__ is the average squared deviation from the mean of a dataset. It measures the spread of data about the mean and is calculated as the sum of squared deviations divided by the number of observations minus one. The variance is a more robust measure of dispersion than the range, as it uses all the observations in a dataset.\n",
    "\n",
    "3. __Standard deviation__ is the square root of the variance. It is a measure of the variation of data about the mean and is expressed in the same units as the data. The standard deviation is a more intuitive measure of dispersion than the variance, as it is expressed in the same units as the data.\n",
    "\n",
    "__For example:__\n",
    "consider the following dataset: {1, 2, 3, 4, 5}. The range is 5 - 1 = 4, the variance is (1-3)^2 + (2-3)^2 + (3-3)^2 + (4-3)^2 + (5-3)^2 / 5 = 2.4, and the standard deviation is sqrt(2.4) = 1.55. This dataset has a small range, indicating that the data is not very spread out. However, the variance and standard deviation are both positive, indicating that there is some variability in the data."
   ]
  },
  {
   "cell_type": "markdown",
   "id": "cc8d9b1b",
   "metadata": {},
   "source": [
    "#### Q6. What is a Venn diagram?"
   ]
  },
  {
   "cell_type": "markdown",
   "id": "ebeca460",
   "metadata": {},
   "source": [
    "A Venn diagram is a visual representation used to compare and contrast information visually by illustrating relationships between datasets using circles or ellipses. These circles can overlap or stand alone, depending on the relationships being represented. Venn diagrams are widely used in various fields like mathematics, education, and business to interpret information visually. They can be two-, three-, or four-circle diagrams, depending on the complexity of the information being displayed. Key components of a Venn diagram include the union, sets, and intersections. The union signifies that all datasets have a relationship, sets represent the data being compared, and intersections show the comparisons between the data within the overlapping areas of the circles. Venn diagrams are a valuable tool for understanding relationships and differences between different datasets or concepts visually."
   ]
  },
  {
   "cell_type": "markdown",
   "id": "9b6ba41c",
   "metadata": {},
   "source": [
    "#### Q7. For the two given sets A = (2,3,4,5,6,7) & B = (0,2,6,8,10). \n",
    "\n",
    "Find:<br>\n",
    "(i) A ∩ B<br>\n",
    "(ii) A ∪ B"
   ]
  },
  {
   "cell_type": "code",
   "execution_count": 34,
   "id": "5db653df",
   "metadata": {},
   "outputs": [
    {
     "name": "stdout",
     "output_type": "stream",
     "text": [
      "A ∩ B : {2, 6}\n",
      "A ∪ B : {0, 2, 3, 4, 5, 6, 7, 8, 10}\n"
     ]
    }
   ],
   "source": [
    "A = set((2,3,4,5,6,7))\n",
    "B = set((0,2,6,8,10))\n",
    "\n",
    "print(\"A ∩ B :\", A.intersection(B))\n",
    "\n",
    "print(\"A ∪ B :\", A.union(B))"
   ]
  },
  {
   "cell_type": "markdown",
   "id": "422b222e",
   "metadata": {},
   "source": [
    "#### Q8. What do you understand about skewness in data?"
   ]
  },
  {
   "cell_type": "markdown",
   "id": "9fe46e73",
   "metadata": {},
   "source": [
    "Skewness in data tells us about the as asymmetry of the data. \n",
    "This skewness can be either positive or negative. If the skewness measure is negative then the distribution's tail is toward the negative side and vice versa."
   ]
  },
  {
   "cell_type": "markdown",
   "id": "656d68b8",
   "metadata": {},
   "source": [
    "#### Q9. If a data is right skewed then what will be the position of median with respect to mean?"
   ]
  },
  {
   "cell_type": "markdown",
   "id": "c7d140a3",
   "metadata": {},
   "source": [
    "In case of a __positively/right skewed distribution__, the mean is always greater than median and the median is always greater than the mode.\n",
    "\n",
    "> MEAN > MEDIAN > MODE\n",
    "\n",
    "And in case of __negavtively skewed distribution__, the mean is less than median and median is less that the mode\n",
    "\n",
    "> MEAN < MEDIAN < MODE"
   ]
  },
  {
   "cell_type": "markdown",
   "id": "06018a60",
   "metadata": {},
   "source": [
    "#### Q10. Explain the difference between covariance and correlation. How are these measures used in statistical analysis?"
   ]
  },
  {
   "cell_type": "markdown",
   "id": "1107ee2f",
   "metadata": {},
   "source": [
    "Covariance and correlation both measure the relationship between two variables, but they differ in how they quantify this relationship.\n",
    "\n",
    "Covariance measures the joint variability of two random variables. It indicates whether the two variables tend to increase or decrease together. A positive covariance implies that when one variable increases, the other variable also tends to increase. A negative covariance implies that when one variable increases, the other variable tends to decrease. However, the value of covariance is not standardized and can vary depending on the scale of the variables. This makes it difficult to compare covariances across different datasets or variables.\n",
    "\n",
    "Correlation, on the other hand, is a standardized measure of the relationship between two variables. It is calculated as the covariance of the two variables divided by the product of their standard deviations. This standardization results in a value that ranges from -1 to 1, where -1 indicates a perfect negative relationship, 1 indicates a perfect positive relationship, and 0 indicates no relationship. This makes correlation a more intuitive and comparable measure of the relationship between variables."
   ]
  },
  {
   "cell_type": "markdown",
   "id": "efc2fe8c",
   "metadata": {},
   "source": [
    "#### Q11. What is the formula for calculating the sample mean? Provide an example calculation for a dataset."
   ]
  },
  {
   "cell_type": "markdown",
   "id": "a1968548",
   "metadata": {},
   "source": [
    "## Calculating the Sample Mean\n",
    "\n",
    "The formula for calculating the sample mean is:\n",
    "\n",
    "$$ \\bar{x} = \\frac{(x_1 + x_2 + ... + x_n)}{n} $$\n",
    "\n",
    "Where:\n",
    "- $\\bar{x}$ is the sample mean\n",
    "- $x_1, x_2, ..., x_n$ are the individual data points in the sample\n",
    "- $n$ is the number of data points in the sample\n",
    "\n",
    "### Example Calculation\n",
    "\n",
    "Let's calculate the sample mean for the dataset: 12, 15, 18, 21, and 24.\n",
    "\n",
    "1. Add up all the data points: $$ 12 + 15 + 18 + 21 + 24 = 90 $$.\n",
    "2. Count the number of data points in the sample, which is 5.\n",
    "3. Divide the sum of the data points by the number of data points to calculate the sample mean: $$ \\bar{x} = \\frac{90}{5} = 18 $$.\n",
    "\n",
    "Therefore, the sample mean for the dataset 12, 15, 18, 21, and 24 is 18."
   ]
  },
  {
   "cell_type": "markdown",
   "id": "a0f1c3b4",
   "metadata": {},
   "source": [
    "#### Q12. For a normal distribution data what is the relationship between its measure of central tendency?"
   ]
  },
  {
   "cell_type": "markdown",
   "id": "801ae3d0",
   "metadata": {},
   "source": [
    "For a normal/gaussian distribution the relation between its mean, median and mode is as follows:\n",
    "\n",
    "> MEAN = MEDIAN = MODE\n",
    "\n",
    "This is because the distribution is symmetrical in shape."
   ]
  },
  {
   "cell_type": "markdown",
   "id": "701f3768",
   "metadata": {},
   "source": [
    "#### Q13. How is covariance different from correlation?"
   ]
  },
  {
   "cell_type": "markdown",
   "id": "b9cbb229",
   "metadata": {},
   "source": [
    "please Refer the answer to quesion #10 ."
   ]
  },
  {
   "cell_type": "markdown",
   "id": "e5ca6e7b",
   "metadata": {},
   "source": [
    "#### Q14. How do outliers affect measures of central tendency and dispersion? Provide an example."
   ]
  },
  {
   "cell_type": "markdown",
   "id": "cabe619c",
   "metadata": {},
   "source": [
    "In a dataset __Outliers__ are those datapoints which are has a either has a very large or very less value compared to the other datapoints. \n",
    "\n",
    "consider the example:\n",
    "> x = (7, 7.7, 4.9, -5, 5.2, 5.8, 3, -25, 89, 77}\n",
    "\n",
    "Here we have datapoints that are called OUTLIER are: `-25, 89, 77` as the magnitude of the value are large compared to other dataoints.\n",
    "\n",
    "\n",
    "These outlier can also affect the central tendency of the distriution, the MEAN which is very sensitive to outlier will get affected by their presence as it tends to get pulled toward these extreme points. Outlier with very large values will inflate the MEAN value and Outlier with very small values can lower the MEAN value\n",
    "\n",
    "For example in the same dataset the `MEAN = 16.96`\n",
    "\n",
    "MEDIAN on the other hand are less sensitive toward the presence of the outliers inthe dataset\n",
    "in the above dataset the `MEDIAN = 5.5`\n",
    "\n",
    "MODE is the commonly appearing value, so outier can affect MODE if these outlier values appear frequently."
   ]
  },
  {
   "cell_type": "code",
   "execution_count": 8,
   "id": "b27f09a6",
   "metadata": {},
   "outputs": [
    {
     "name": "stdout",
     "output_type": "stream",
     "text": [
      "MEAN:  16.96\n",
      "MEDIAN:  5.5\n"
     ]
    }
   ],
   "source": [
    "import numpy as np\n",
    "\n",
    "x = [7, 7.7, 4.9, -5, 5.2, 5.8, 3, -25, 89, 77]\n",
    "print(\"MEAN: \",np.mean(x))\n",
    "print(\"MEDIAN: \",np.median(x))"
   ]
  },
  {
   "cell_type": "code",
   "execution_count": null,
   "id": "a7a59fec",
   "metadata": {},
   "outputs": [],
   "source": []
  }
 ],
 "metadata": {
  "kernelspec": {
   "display_name": "Python 3 (ipykernel)",
   "language": "python",
   "name": "python3"
  },
  "language_info": {
   "codemirror_mode": {
    "name": "ipython",
    "version": 3
   },
   "file_extension": ".py",
   "mimetype": "text/x-python",
   "name": "python",
   "nbconvert_exporter": "python",
   "pygments_lexer": "ipython3",
   "version": "3.9.12"
  }
 },
 "nbformat": 4,
 "nbformat_minor": 5
}
