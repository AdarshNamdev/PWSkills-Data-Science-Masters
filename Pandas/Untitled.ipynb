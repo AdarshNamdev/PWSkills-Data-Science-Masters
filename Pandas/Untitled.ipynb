{
 "cells": [
  {
   "cell_type": "code",
   "execution_count": 1,
   "id": "fa0ec81c-3a75-44ab-8fa3-b6bdf1b93c49",
   "metadata": {},
   "outputs": [],
   "source": [
    "import pandas as pd"
   ]
  },
  {
   "cell_type": "code",
   "execution_count": null,
   "id": "147c6dac-930e-4e23-bbe6-e1185187dd1f",
   "metadata": {},
   "outputs": [],
   "source": [
    "df = pd.read_csv(\"D:\\PWSkills_DS_Masters\\services.csv\")\n",
    "df.head(5)"
   ]
  },
  {
   "cell_type": "code",
   "execution_count": null,
   "id": "dabbf6fe-9e24-42e9-a4ab-2d4a38bd70b2",
   "metadata": {},
   "outputs": [],
   "source": [
    "df.columns"
   ]
  },
  {
   "cell_type": "code",
   "execution_count": null,
   "id": "b707c313-17db-447e-9323-cbd87d8beb88",
   "metadata": {},
   "outputs": [],
   "source": [
    "df.tail(2)"
   ]
  },
  {
   "cell_type": "code",
   "execution_count": null,
   "id": "9d34123b-6dac-492a-b13e-385aa57ce5f1",
   "metadata": {},
   "outputs": [],
   "source": [
    "df.tail(-20)"
   ]
  },
  {
   "cell_type": "code",
   "execution_count": null,
   "id": "00bd3709-74a0-414c-9084-de0f60560b1a",
   "metadata": {},
   "outputs": [],
   "source": [
    "df.columns"
   ]
  },
  {
   "cell_type": "code",
   "execution_count": null,
   "id": "2542f2b2-9675-4a92-9280-3d716c99476d",
   "metadata": {},
   "outputs": [],
   "source": [
    "print(df['location_id'].to_dict())"
   ]
  },
  {
   "cell_type": "code",
   "execution_count": null,
   "id": "56754a53-d81a-444f-aa88-6de56a1f354f",
   "metadata": {},
   "outputs": [],
   "source": []
  },
  {
   "cell_type": "code",
   "execution_count": null,
   "id": "452b27c5-b7a7-4bc1-9684-77daa75e480d",
   "metadata": {},
   "outputs": [],
   "source": []
  }
 ],
 "metadata": {
  "kernelspec": {
   "display_name": "Python 3 (ipykernel)",
   "language": "python",
   "name": "python3"
  },
  "language_info": {
   "codemirror_mode": {
    "name": "ipython",
    "version": 3
   },
   "file_extension": ".py",
   "mimetype": "text/x-python",
   "name": "python",
   "nbconvert_exporter": "python",
   "pygments_lexer": "ipython3",
   "version": "3.9.12"
  }
 },
 "nbformat": 4,
 "nbformat_minor": 5
}
