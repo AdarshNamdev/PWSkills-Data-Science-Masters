{
 "cells": [
  {
   "cell_type": "markdown",
   "id": "b4aa96f4-52e9-4910-a240-f1602478b43a",
   "metadata": {},
   "source": [
    "### Q1. Create a Pandas Series that contains the following data: 4, 8, 15, 16, 23, and 42. Then, print the series."
   ]
  },
  {
   "cell_type": "code",
   "execution_count": 64,
   "id": "5db497c0-bae9-4147-874c-306081253927",
   "metadata": {},
   "outputs": [],
   "source": [
    "import pandas as pd\n",
    "import numpy as np"
   ]
  },
  {
   "cell_type": "code",
   "execution_count": 65,
   "id": "7628e7d6-bc0b-476f-a2d0-c3ace15810d6",
   "metadata": {},
   "outputs": [
    {
     "data": {
      "text/plain": [
       "0     4\n",
       "1     8\n",
       "2    15\n",
       "3    16\n",
       "4    23\n",
       "5    42\n",
       "dtype: int64"
      ]
     },
     "execution_count": 65,
     "metadata": {},
     "output_type": "execute_result"
    }
   ],
   "source": [
    "samples = [4, 8, 15, 16, 23, 42]\n",
    "to_dict = dict(enumerate(samples))\n",
    "\n",
    "pandas_series1 = pd.Series(to_dict)\n",
    "pandas_series1"
   ]
  },
  {
   "cell_type": "markdown",
   "id": "a2944760-7183-48eb-8d84-6c84757f8d19",
   "metadata": {},
   "source": [
    "### Q2. Create a variable of list type containing 10 elements in it, and apply pandas.Series function on the variable, print it."
   ]
  },
  {
   "cell_type": "code",
   "execution_count": 66,
   "id": "5a74f66a-009f-4bf3-b2cb-520c9b8884cc",
   "metadata": {},
   "outputs": [
    {
     "data": {
      "text/plain": [
       "0    Pandas\n",
       "1         1\n",
       "2    Basics\n",
       "3         3\n",
       "4         4\n",
       "5         5\n",
       "6         6\n",
       "7         7\n",
       "8         8\n",
       "dtype: object"
      ]
     },
     "execution_count": 66,
     "metadata": {},
     "output_type": "execute_result"
    }
   ],
   "source": [
    "varlist = [_ for _ in range(0, 9)]\n",
    "pandas_series2 = pd.Series(varlist)\n",
    "pandas_series2[0] = 'Pandas'\n",
    "pandas_series2[2] = 'Basics'\n",
    "\n",
    "pandas_series2"
   ]
  },
  {
   "attachments": {
    "192db509-f702-4311-84b9-c4acccbce401.png": {
     "image/png": "[encoded data removed]"
    }
   },
   "cell_type": "markdown",
   "id": "2d968e27-7773-4b9e-b602-b4ae13f9f0a7",
   "metadata": {},
   "source": [
    "### Q3. Create a Pandas DataFrame that contains the following data,  Then, print the DataFrame.\n",
    "![image.png](attachment:192db509-f702-4311-84b9-c4acccbce401.png)"
   ]
  },
  {
   "cell_type": "code",
   "execution_count": 67,
   "id": "44dd5d23-5514-4072-ae6c-76875d716f30",
   "metadata": {},
   "outputs": [
    {
     "data": {
      "text/html": [
       "<div>\n",
       "<style scoped>\n",
       "    .dataframe tbody tr th:only-of-type {\n",
       "        vertical-align: middle;\n",
       "    }\n",
       "\n",
       "    .dataframe tbody tr th {\n",
       "        vertical-align: top;\n",
       "    }\n",
       "\n",
       "    .dataframe thead th {\n",
       "        text-align: right;\n",
       "    }\n",
       "</style>\n",
       "<table border=\"1\" class=\"dataframe\">\n",
       "  <thead>\n",
       "    <tr style=\"text-align: right;\">\n",
       "      <th></th>\n",
       "      <th>Name</th>\n",
       "      <th>Age</th>\n",
       "      <th>Gender</th>\n",
       "    </tr>\n",
       "  </thead>\n",
       "  <tbody>\n",
       "    <tr>\n",
       "      <th>0</th>\n",
       "      <td>Alice</td>\n",
       "      <td>25</td>\n",
       "      <td>Female</td>\n",
       "    </tr>\n",
       "    <tr>\n",
       "      <th>1</th>\n",
       "      <td>Bob</td>\n",
       "      <td>30</td>\n",
       "      <td>Male</td>\n",
       "    </tr>\n",
       "    <tr>\n",
       "      <th>2</th>\n",
       "      <td>Claire</td>\n",
       "      <td>27</td>\n",
       "      <td>Female</td>\n",
       "    </tr>\n",
       "  </tbody>\n",
       "</table>\n",
       "</div>"
      ],
      "text/plain": [
       "     Name  Age  Gender\n",
       "0   Alice   25  Female\n",
       "1     Bob   30    Male\n",
       "2  Claire   27  Female"
      ]
     },
     "execution_count": 67,
     "metadata": {},
     "output_type": "execute_result"
    }
   ],
   "source": [
    "dims = ['Name', 'Age', 'Gender']\n",
    "samples = {dims[0]: ['Alice', 'Bob', 'Claire'], dims[1]: [25,30,27], dims[2]:['Female', 'Male', 'Female']}\n",
    "\n",
    "df1 = pd.DataFrame(data = samples, columns= dims)\n",
    "df1"
   ]
  },
  {
   "cell_type": "markdown",
   "id": "41a6191a-466b-488b-b441-a4e970c328fe",
   "metadata": {},
   "source": [
    "### Q4. What is ‘DataFrame’ in pandas and how is it different from pandas.series? Explain with an example."
   ]
  },
  {
   "cell_type": "markdown",
   "id": "44867459-1782-4631-a34c-82c47a3087f9",
   "metadata": {},
   "source": [
    "Pandas Dataframe are objects which are used to organize the dataset in tabulated format, and these dataframe are multidimentional, that mean they have more than one columns and n rows. Dataframes are also capable of storing heterogenous datasets as well.\n",
    "Esentially, every column alone in a dataframe is a series in itself.\n",
    "\n",
    "Pandas Series are ONE dimentional arrays which are also used to store data. if the data elemetnts are visually different types for example int, float string then pandas convert them internally to fall in same data type.\n",
    "\n",
    "e.g. \n",
    "* if a `series` is having data like - ``[1,2,3.14]`` then the datatype of this series would be `Float64` because of one float value in it.\n",
    "* if a `series` is having data like - ``[11,22,'Adarsh']`` then the datatype of this series would be `Object (i.e string)` because of one string value in it.\n",
    "* suppose a `series` is haivng data like - ``[3.14, 55, complex(22, -9)]`` then the dtype of this series would be `complex128` becasue of one complex data in it.\n",
    "* if a series has all the elements of above mentioend datatye then ultimately the series will be type `Object` as eveyr datatpye can be represented as string."
   ]
  },
  {
   "cell_type": "code",
   "execution_count": 68,
   "id": "6d78ac2f-e0f0-47a4-8273-037100a0e0dd",
   "metadata": {},
   "outputs": [
    {
     "name": "stdout",
     "output_type": "stream",
     "text": [
      "[11, 22, 'Adarsh'] :: object\n",
      "[1, 2, 3.14] :: float64\n",
      "[99, 88, 77] :: int64\n",
      "[3.14, 55, (22-9j)] :: complex128\n",
      "[3.14, 55, (22-9j), 'pw-skills'] :: object\n"
     ]
    }
   ],
   "source": [
    "for collection in ([11,22,'Adarsh'], [1,2,3.14], [99, 88, 77], [3.14, 55, complex(22, -9)], [3.14, 55, complex(22, -9), 'pw-skills']):\n",
    "    print(f\"{collection} :: {pd.Series(collection).dtype}\")"
   ]
  },
  {
   "cell_type": "code",
   "execution_count": 69,
   "id": "4c8d526c-4332-4541-8758-fb4ed3c76e5d",
   "metadata": {},
   "outputs": [
    {
     "name": "stdout",
     "output_type": "stream",
     "text": [
      "================================================== PANDAS DATAFRAME ================================================== \n",
      "      Name  Age  Gender\n",
      "0   Alice   25  Female\n",
      "1     Bob   30    Male\n",
      "2  Claire   27  Female\n",
      "\n",
      " <class 'pandas.core.frame.DataFrame'>\n",
      "================================================== DATAFRAME SHAPE/DIMENSION ================================================== \n",
      "\n",
      "(3, 3)\n",
      "Total Rows : 3\n",
      "Total Columns : 3\n",
      "================================================== DATAFRAME DATATYPE ================================================== \n",
      "\n",
      "Name      object\n",
      "Age        int64\n",
      "Gender    object\n",
      "dtype: object\n"
     ]
    }
   ],
   "source": [
    "print(\"=\"*50+\" PANDAS DATAFRAME \"+\"=\"*50,\"\\n\",df1)\n",
    "print(\"\\n\",type(df1))\n",
    "\n",
    "print(\"=\"*50+\" DATAFRAME SHAPE/DIMENSION \"+\"=\"*50,\"\\n\")\n",
    "print(df1.shape) # (returned (nrows, ncolumns) in the dataframe)\n",
    "print(\"Total Rows :\", df1.shape[0])\n",
    "print(\"Total Columns :\", df1.shape[1])\n",
    "\n",
    "print(\"=\"*50+\" DATAFRAME DATATYPE \"+\"=\"*50,\"\\n\")\n",
    "print(df1.dtypes)"
   ]
  },
  {
   "cell_type": "code",
   "execution_count": 70,
   "id": "8af5da11-2e34-4347-94af-8b24d4fa5bed",
   "metadata": {},
   "outputs": [
    {
     "name": "stdout",
     "output_type": "stream",
     "text": [
      "================================================== PANDAS SERIES ================================================== \n",
      " 0    Pandas\n",
      "1         1\n",
      "2    Basics\n",
      "3         3\n",
      "4         4\n",
      "5         5\n",
      "6         6\n",
      "7         7\n",
      "8         8\n",
      "dtype: object\n",
      "\n",
      " <class 'pandas.core.series.Series'>\n",
      "================================================== SERIES SHAPE/DIMENSION ================================================== \n",
      "\n",
      "(9,)\n",
      "Total Rows : 9\n",
      "Total Columns : None\n",
      "================================================== SERIES DATATYPE ================================================== \n",
      "\n",
      "object\n"
     ]
    }
   ],
   "source": [
    "print(\"=\"*50+\" PANDAS SERIES \"+\"=\"*50,\"\\n\",pandas_series2)\n",
    "print(\"\\n\",type(pandas_series2))\n",
    "\n",
    "print(\"=\"*50+\" SERIES SHAPE/DIMENSION \"+\"=\"*50,\"\\n\")\n",
    "print(pandas_series2.shape) # (returned (nrows, ncolumns) in the dataframe)\n",
    "print(\"Total Rows :\", pandas_series2.shape[0])\n",
    "print(\"Total Columns :\", None)\n",
    "\n",
    "print(\"=\"*50+\" SERIES DATATYPE \"+\"=\"*50,\"\\n\")\n",
    "print(pandas_series2.dtypes)"
   ]
  },
  {
   "cell_type": "markdown",
   "id": "9eefdcdc-5587-44eb-99ac-363143b322a2",
   "metadata": {},
   "source": [
    "### Q5. What are some common functions you can use to manipulate data in a Pandas DataFrame? Can you give an example of when you might use one of these functions?"
   ]
  },
  {
   "cell_type": "markdown",
   "id": "d111cd47-a831-49ee-86f5-361e4374fa2f",
   "metadata": {},
   "source": [
    "Some common functions has can be used on Pandas Dataframe to manipulate are:\n",
    "\n",
    "* __`df.insert()`__\n",
    "This method is used to insert a new column at a specified location and its respective value. Location, column_name and values are passed as argument to this function\n",
    "\n",
    "* __`df.fillna()`__\n",
    "Suppose we have dataframe which has NaN/NA values in any of the column/row (i.e. Axis), then we can replace these values to a more suitable default value of our choice that will make sense to our usecase.\n",
    "\n",
    "* __`df.dropna()`__\n",
    "This method help in removing those data element whcih has NaN value in the row/column. mostly used to get rid of the unwanted data which could be treated as gargbage.\n",
    "\n",
    "* __`df.transpose()`__\n",
    "This method is used to make rows into columns and columns in rows.\n",
    "\n",
    "* __`df.truncate()`__\n",
    "This method is used to truncate the values based on the index passed to the parameters `before` and `after`. `Axis` can also be passed which will decide certain column to be truncated or row of the dataframe, default is the row.\n"
   ]
  },
  {
   "cell_type": "code",
   "execution_count": 71,
   "id": "d491e457-e602-4cf8-8ca2-63ac22782aad",
   "metadata": {},
   "outputs": [
    {
     "data": {
      "text/html": [
       "<div>\n",
       "<style scoped>\n",
       "    .dataframe tbody tr th:only-of-type {\n",
       "        vertical-align: middle;\n",
       "    }\n",
       "\n",
       "    .dataframe tbody tr th {\n",
       "        vertical-align: top;\n",
       "    }\n",
       "\n",
       "    .dataframe thead th {\n",
       "        text-align: right;\n",
       "    }\n",
       "</style>\n",
       "<table border=\"1\" class=\"dataframe\">\n",
       "  <thead>\n",
       "    <tr style=\"text-align: right;\">\n",
       "      <th></th>\n",
       "      <th>Name</th>\n",
       "      <th>Age</th>\n",
       "      <th>Gender</th>\n",
       "      <th>emailID</th>\n",
       "    </tr>\n",
       "  </thead>\n",
       "  <tbody>\n",
       "    <tr>\n",
       "      <th>0</th>\n",
       "      <td>Alice</td>\n",
       "      <td>25</td>\n",
       "      <td>Female</td>\n",
       "      <td>alice.hunter25@gmail.com</td>\n",
       "    </tr>\n",
       "    <tr>\n",
       "      <th>1</th>\n",
       "      <td>Bob</td>\n",
       "      <td>30</td>\n",
       "      <td>Male</td>\n",
       "      <td>NaN</td>\n",
       "    </tr>\n",
       "    <tr>\n",
       "      <th>2</th>\n",
       "      <td>Claire</td>\n",
       "      <td>27</td>\n",
       "      <td>Female</td>\n",
       "      <td></td>\n",
       "    </tr>\n",
       "  </tbody>\n",
       "</table>\n",
       "</div>"
      ],
      "text/plain": [
       "     Name  Age  Gender                   emailID\n",
       "0   Alice   25  Female  alice.hunter25@gmail.com\n",
       "1     Bob   30    Male                       NaN\n",
       "2  Claire   27  Female                          "
      ]
     },
     "execution_count": 71,
     "metadata": {},
     "output_type": "execute_result"
    }
   ],
   "source": [
    "df1_copy = df1.copy()\n",
    "df1_copy.insert(loc = 3, column = 'emailID', value= ['alice.hunter25@gmail.com', np.nan, ''])\n",
    "df1_copy"
   ]
  },
  {
   "cell_type": "code",
   "execution_count": 72,
   "id": "63282a44-bc58-421a-8227-3119cdfe08b1",
   "metadata": {},
   "outputs": [
    {
     "data": {
      "text/html": [
       "<div>\n",
       "<style scoped>\n",
       "    .dataframe tbody tr th:only-of-type {\n",
       "        vertical-align: middle;\n",
       "    }\n",
       "\n",
       "    .dataframe tbody tr th {\n",
       "        vertical-align: top;\n",
       "    }\n",
       "\n",
       "    .dataframe thead th {\n",
       "        text-align: right;\n",
       "    }\n",
       "</style>\n",
       "<table border=\"1\" class=\"dataframe\">\n",
       "  <thead>\n",
       "    <tr style=\"text-align: right;\">\n",
       "      <th></th>\n",
       "      <th>Name</th>\n",
       "      <th>Age</th>\n",
       "      <th>Gender</th>\n",
       "      <th>emailID</th>\n",
       "    </tr>\n",
       "  </thead>\n",
       "  <tbody>\n",
       "    <tr>\n",
       "      <th>0</th>\n",
       "      <td>Alice</td>\n",
       "      <td>25</td>\n",
       "      <td>Female</td>\n",
       "      <td>alice.hunter25@gmail.com</td>\n",
       "    </tr>\n",
       "    <tr>\n",
       "      <th>1</th>\n",
       "      <td>Bob</td>\n",
       "      <td>30</td>\n",
       "      <td>Male</td>\n",
       "      <td>not available</td>\n",
       "    </tr>\n",
       "    <tr>\n",
       "      <th>2</th>\n",
       "      <td>Claire</td>\n",
       "      <td>27</td>\n",
       "      <td>Female</td>\n",
       "      <td></td>\n",
       "    </tr>\n",
       "  </tbody>\n",
       "</table>\n",
       "</div>"
      ],
      "text/plain": [
       "     Name  Age  Gender                   emailID\n",
       "0   Alice   25  Female  alice.hunter25@gmail.com\n",
       "1     Bob   30    Male             not available\n",
       "2  Claire   27  Female                          "
      ]
     },
     "execution_count": 72,
     "metadata": {},
     "output_type": "execute_result"
    }
   ],
   "source": [
    "df1_copy.fillna(value = \"not available\")"
   ]
  },
  {
   "cell_type": "code",
   "execution_count": 73,
   "id": "8074930d",
   "metadata": {},
   "outputs": [
    {
     "name": "stdout",
     "output_type": "stream",
     "text": [
      "     Name  Age  Gender                   emailID\n",
      "0   Alice   25  Female                       NaN\n",
      "1     Bob   30    Male                       NaN\n",
      "2  Claire   27  Female  claire.brown@outlook.com\n",
      "\n",
      "========== AFTER DROPPING NA ============\n",
      "\n",
      "     Name  Age  Gender                   emailID\n",
      "2  Claire   27  Female  claire.brown@outlook.com\n"
     ]
    }
   ],
   "source": [
    "df1_drop_na = df1.copy()\n",
    "df1_drop_na.insert(loc = 3, column = 'emailID', value= [np.nan, np.nan, 'claire.brown@outlook.com'])\n",
    "print(df1_drop_na)\n",
    "\n",
    "print(\"\\n========== AFTER DROPPING NA ============\\n\")\n",
    "print(df1_drop_na.dropna())"
   ]
  },
  {
   "cell_type": "code",
   "execution_count": 74,
   "id": "c6340924-7448-43c8-801f-5dc3aa450b94",
   "metadata": {},
   "outputs": [
    {
     "data": {
      "text/html": [
       "<div>\n",
       "<style scoped>\n",
       "    .dataframe tbody tr th:only-of-type {\n",
       "        vertical-align: middle;\n",
       "    }\n",
       "\n",
       "    .dataframe tbody tr th {\n",
       "        vertical-align: top;\n",
       "    }\n",
       "\n",
       "    .dataframe thead th {\n",
       "        text-align: right;\n",
       "    }\n",
       "</style>\n",
       "<table border=\"1\" class=\"dataframe\">\n",
       "  <thead>\n",
       "    <tr style=\"text-align: right;\">\n",
       "      <th></th>\n",
       "      <th>0</th>\n",
       "      <th>1</th>\n",
       "      <th>2</th>\n",
       "    </tr>\n",
       "  </thead>\n",
       "  <tbody>\n",
       "    <tr>\n",
       "      <th>Name</th>\n",
       "      <td>Alice</td>\n",
       "      <td>Bob</td>\n",
       "      <td>Claire</td>\n",
       "    </tr>\n",
       "    <tr>\n",
       "      <th>Age</th>\n",
       "      <td>25</td>\n",
       "      <td>30</td>\n",
       "      <td>27</td>\n",
       "    </tr>\n",
       "    <tr>\n",
       "      <th>Gender</th>\n",
       "      <td>Female</td>\n",
       "      <td>Male</td>\n",
       "      <td>Female</td>\n",
       "    </tr>\n",
       "    <tr>\n",
       "      <th>emailID</th>\n",
       "      <td>alice.hunter25@gmail.com</td>\n",
       "      <td>NaN</td>\n",
       "      <td></td>\n",
       "    </tr>\n",
       "  </tbody>\n",
       "</table>\n",
       "</div>"
      ],
      "text/plain": [
       "                                0     1       2\n",
       "Name                        Alice   Bob  Claire\n",
       "Age                            25    30      27\n",
       "Gender                     Female  Male  Female\n",
       "emailID  alice.hunter25@gmail.com   NaN        "
      ]
     },
     "execution_count": 74,
     "metadata": {},
     "output_type": "execute_result"
    }
   ],
   "source": [
    "df1_copy.transpose()"
   ]
  },
  {
   "cell_type": "code",
   "execution_count": 75,
   "id": "de3ae5ef",
   "metadata": {},
   "outputs": [
    {
     "name": "stderr",
     "output_type": "stream",
     "text": [
      "C:\\Users\\adars\\AppData\\Local\\Temp\\ipykernel_6760\\415146681.py:6: FutureWarning: The frame.append method is deprecated and will be removed from pandas in a future version. Use pandas.concat instead.\n",
      "  df1_copy = df1_copy.append(new_data, ignore_index= True)\n"
     ]
    },
    {
     "data": {
      "text/html": [
       "<div>\n",
       "<style scoped>\n",
       "    .dataframe tbody tr th:only-of-type {\n",
       "        vertical-align: middle;\n",
       "    }\n",
       "\n",
       "    .dataframe tbody tr th {\n",
       "        vertical-align: top;\n",
       "    }\n",
       "\n",
       "    .dataframe thead th {\n",
       "        text-align: right;\n",
       "    }\n",
       "</style>\n",
       "<table border=\"1\" class=\"dataframe\">\n",
       "  <thead>\n",
       "    <tr style=\"text-align: right;\">\n",
       "      <th></th>\n",
       "      <th>Name</th>\n",
       "      <th>Age</th>\n",
       "      <th>Gender</th>\n",
       "      <th>emailID</th>\n",
       "    </tr>\n",
       "  </thead>\n",
       "  <tbody>\n",
       "    <tr>\n",
       "      <th>0</th>\n",
       "      <td>Alice</td>\n",
       "      <td>25</td>\n",
       "      <td>Female</td>\n",
       "      <td>alice.hunter25@gmail.com</td>\n",
       "    </tr>\n",
       "    <tr>\n",
       "      <th>1</th>\n",
       "      <td>Bob</td>\n",
       "      <td>30</td>\n",
       "      <td>Male</td>\n",
       "      <td>NaN</td>\n",
       "    </tr>\n",
       "    <tr>\n",
       "      <th>2</th>\n",
       "      <td>Claire</td>\n",
       "      <td>27</td>\n",
       "      <td>Female</td>\n",
       "      <td></td>\n",
       "    </tr>\n",
       "    <tr>\n",
       "      <th>3</th>\n",
       "      <td>Megan</td>\n",
       "      <td>21</td>\n",
       "      <td>Female</td>\n",
       "      <td>megan_trainor21@yahoo.com</td>\n",
       "    </tr>\n",
       "    <tr>\n",
       "      <th>4</th>\n",
       "      <td>Ronald</td>\n",
       "      <td>48</td>\n",
       "      <td>Male</td>\n",
       "      <td>ronald_jenson@outlook.com</td>\n",
       "    </tr>\n",
       "    <tr>\n",
       "      <th>5</th>\n",
       "      <td>Dan</td>\n",
       "      <td>46</td>\n",
       "      <td>Ma1le</td>\n",
       "      <td>NaN</td>\n",
       "    </tr>\n",
       "    <tr>\n",
       "      <th>6</th>\n",
       "      <td>Kelly</td>\n",
       "      <td>19</td>\n",
       "      <td>Female</td>\n",
       "      <td>kelly19.brown@gmail.com</td>\n",
       "    </tr>\n",
       "  </tbody>\n",
       "</table>\n",
       "</div>"
      ],
      "text/plain": [
       "     Name  Age  Gender                    emailID\n",
       "0   Alice   25  Female   alice.hunter25@gmail.com\n",
       "1     Bob   30    Male                        NaN\n",
       "2  Claire   27  Female                           \n",
       "3   Megan   21  Female  megan_trainor21@yahoo.com\n",
       "4  Ronald   48    Male  ronald_jenson@outlook.com\n",
       "5     Dan   46   Ma1le                        NaN\n",
       "6   Kelly   19  Female    kelly19.brown@gmail.com"
      ]
     },
     "execution_count": 75,
     "metadata": {},
     "output_type": "execute_result"
    }
   ],
   "source": [
    "new_data = [{'Name': 'Megan', 'Age': 21, 'Gender': 'Female', 'emailID': 'megan_trainor21@yahoo.com'}, \n",
    "            {'Name': 'Ronald', 'Age': 48, 'Gender': 'Male', 'emailID': 'ronald_jenson@outlook.com'},\n",
    "           {'Name': 'Dan', 'Age': 46, 'Gender': 'Ma1le', 'emailID': np.nan},\n",
    "           {'Name': 'Kelly', 'Age': 19, 'Gender': 'Female', 'emailID': 'kelly19.brown@gmail.com'}]\n",
    "\n",
    "df1_copy = df1_copy.append(new_data, ignore_index= True)\n",
    "df1_copy"
   ]
  },
  {
   "cell_type": "code",
   "execution_count": 78,
   "id": "41c71be9-361b-48b3-809d-240942e0734f",
   "metadata": {},
   "outputs": [
    {
     "data": {
      "text/html": [
       "<div>\n",
       "<style scoped>\n",
       "    .dataframe tbody tr th:only-of-type {\n",
       "        vertical-align: middle;\n",
       "    }\n",
       "\n",
       "    .dataframe tbody tr th {\n",
       "        vertical-align: top;\n",
       "    }\n",
       "\n",
       "    .dataframe thead th {\n",
       "        text-align: right;\n",
       "    }\n",
       "</style>\n",
       "<table border=\"1\" class=\"dataframe\">\n",
       "  <thead>\n",
       "    <tr style=\"text-align: right;\">\n",
       "      <th></th>\n",
       "      <th>Name</th>\n",
       "      <th>Age</th>\n",
       "      <th>Gender</th>\n",
       "      <th>emailID</th>\n",
       "    </tr>\n",
       "  </thead>\n",
       "  <tbody>\n",
       "    <tr>\n",
       "      <th>2</th>\n",
       "      <td>Claire</td>\n",
       "      <td>27</td>\n",
       "      <td>Female</td>\n",
       "      <td></td>\n",
       "    </tr>\n",
       "    <tr>\n",
       "      <th>3</th>\n",
       "      <td>Megan</td>\n",
       "      <td>21</td>\n",
       "      <td>Female</td>\n",
       "      <td>megan_trainor21@yahoo.com</td>\n",
       "    </tr>\n",
       "    <tr>\n",
       "      <th>4</th>\n",
       "      <td>Ronald</td>\n",
       "      <td>48</td>\n",
       "      <td>Male</td>\n",
       "      <td>ronald_jenson@outlook.com</td>\n",
       "    </tr>\n",
       "    <tr>\n",
       "      <th>5</th>\n",
       "      <td>Dan</td>\n",
       "      <td>46</td>\n",
       "      <td>Ma1le</td>\n",
       "      <td>NaN</td>\n",
       "    </tr>\n",
       "  </tbody>\n",
       "</table>\n",
       "</div>"
      ],
      "text/plain": [
       "     Name  Age  Gender                    emailID\n",
       "2  Claire   27  Female                           \n",
       "3   Megan   21  Female  megan_trainor21@yahoo.com\n",
       "4  Ronald   48    Male  ronald_jenson@outlook.com\n",
       "5     Dan   46   Ma1le                        NaN"
      ]
     },
     "execution_count": 78,
     "metadata": {},
     "output_type": "execute_result"
    }
   ],
   "source": [
    "df1_copy.truncate(before = 2, after= 5, copy= True)"
   ]
  },
  {
   "cell_type": "markdown",
   "id": "f93a0383",
   "metadata": {},
   "source": [
    "### Q6. Which of the following is mutable in nature Series, DataFrame, Panel?"
   ]
  },
  {
   "cell_type": "markdown",
   "id": "031e32ad",
   "metadata": {},
   "source": [
    "pandas series and dataframes are mutible in nature and not Panel."
   ]
  },
  {
   "cell_type": "markdown",
   "id": "ccb1c6fb",
   "metadata": {},
   "source": [
    "### Q7. Create a DataFrame using multiple Series. Explain with an example."
   ]
  },
  {
   "cell_type": "markdown",
   "id": "61e54673",
   "metadata": {},
   "source": [
    "there are two ways we can create a dtaframe from multiple series:\n",
    "* Example #1 is using `pd.concat()` method and passing series to this method insde a list\n",
    "* Example #2 is by using `pd.Dataframe()` and passing both series into this method.\n"
   ]
  },
  {
   "cell_type": "code",
   "execution_count": 87,
   "id": "53021f7d",
   "metadata": {},
   "outputs": [
    {
     "name": "stdout",
     "output_type": "stream",
     "text": [
      "<class 'pandas.core.series.Series'> <class 'pandas.core.series.Series'>\n"
     ]
    },
    {
     "data": {
      "text/html": [
       "<div>\n",
       "<style scoped>\n",
       "    .dataframe tbody tr th:only-of-type {\n",
       "        vertical-align: middle;\n",
       "    }\n",
       "\n",
       "    .dataframe tbody tr th {\n",
       "        vertical-align: top;\n",
       "    }\n",
       "\n",
       "    .dataframe thead th {\n",
       "        text-align: right;\n",
       "    }\n",
       "</style>\n",
       "<table border=\"1\" class=\"dataframe\">\n",
       "  <thead>\n",
       "    <tr style=\"text-align: right;\">\n",
       "      <th></th>\n",
       "      <th>author</th>\n",
       "      <th>origin</th>\n",
       "    </tr>\n",
       "  </thead>\n",
       "  <tbody>\n",
       "    <tr>\n",
       "      <th>0</th>\n",
       "      <td>JK Rowling</td>\n",
       "      <td>UK</td>\n",
       "    </tr>\n",
       "    <tr>\n",
       "      <th>1</th>\n",
       "      <td>Cal Newport</td>\n",
       "      <td>USA</td>\n",
       "    </tr>\n",
       "    <tr>\n",
       "      <th>2</th>\n",
       "      <td>Premchand</td>\n",
       "      <td>India</td>\n",
       "    </tr>\n",
       "  </tbody>\n",
       "</table>\n",
       "</div>"
      ],
      "text/plain": [
       "        author origin\n",
       "0   JK Rowling     UK\n",
       "1  Cal Newport    USA\n",
       "2    Premchand  India"
      ]
     },
     "execution_count": 87,
     "metadata": {},
     "output_type": "execute_result"
    }
   ],
   "source": [
    "# example1 \n",
    "srs1 = pd.Series(['JK Rowling', 'Cal Newport', 'Premchand'])\n",
    "srs2 = pd.Series(['UK', 'USA', 'India'])\n",
    "\n",
    "print(type(srs1), type(srs2))\n",
    "\n",
    "pd.concat([srs1, srs2], axis = 1, keys= ['author', 'origin'])\n"
   ]
  },
  {
   "cell_type": "code",
   "execution_count": 92,
   "id": "9ea1a159",
   "metadata": {},
   "outputs": [
    {
     "data": {
      "text/html": [
       "<div>\n",
       "<style scoped>\n",
       "    .dataframe tbody tr th:only-of-type {\n",
       "        vertical-align: middle;\n",
       "    }\n",
       "\n",
       "    .dataframe tbody tr th {\n",
       "        vertical-align: top;\n",
       "    }\n",
       "\n",
       "    .dataframe thead th {\n",
       "        text-align: right;\n",
       "    }\n",
       "</style>\n",
       "<table border=\"1\" class=\"dataframe\">\n",
       "  <thead>\n",
       "    <tr style=\"text-align: right;\">\n",
       "      <th></th>\n",
       "      <th>author</th>\n",
       "      <th>origin</th>\n",
       "    </tr>\n",
       "  </thead>\n",
       "  <tbody>\n",
       "    <tr>\n",
       "      <th>0</th>\n",
       "      <td>JK Rowling</td>\n",
       "      <td>UK</td>\n",
       "    </tr>\n",
       "    <tr>\n",
       "      <th>1</th>\n",
       "      <td>Cal Newport</td>\n",
       "      <td>USA</td>\n",
       "    </tr>\n",
       "    <tr>\n",
       "      <th>2</th>\n",
       "      <td>Premchand</td>\n",
       "      <td>India</td>\n",
       "    </tr>\n",
       "  </tbody>\n",
       "</table>\n",
       "</div>"
      ],
      "text/plain": [
       "        author origin\n",
       "0   JK Rowling     UK\n",
       "1  Cal Newport    USA\n",
       "2    Premchand  India"
      ]
     },
     "execution_count": 92,
     "metadata": {},
     "output_type": "execute_result"
    }
   ],
   "source": [
    "#example 2\n",
    "\n",
    "pd.DataFrame({'author':  srs1, 'origin': srs2})"
   ]
  }
 ],
 "metadata": {
  "kernelspec": {
   "display_name": "Python 3 (ipykernel)",
   "language": "python",
   "name": "python3"
  },
  "language_info": {
   "codemirror_mode": {
    "name": "ipython",
    "version": 3
   },
   "file_extension": ".py",
   "mimetype": "text/x-python",
   "name": "python",
   "nbconvert_exporter": "python",
   "pygments_lexer": "ipython3",
   "version": "3.9.12"
  }
 },
 "nbformat": 4,
 "nbformat_minor": 5
}
